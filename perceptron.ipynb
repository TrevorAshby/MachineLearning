{
 "cells": [
  {
   "cell_type": "markdown",
   "metadata": {
    "id": "DVL7_bgmIAPR"
   },
   "source": [
    "# Perceptron Lab\n",
    "\n",
    "\n",
    "\n"
   ]
  },
  {
   "cell_type": "code",
   "execution_count": 2,
   "metadata": {
    "id": "6ZbYjZZZ_yLV"
   },
   "outputs": [],
   "source": [
    "from sklearn.base import BaseEstimator, ClassifierMixin\n",
    "from sklearn.linear_model import Perceptron\n",
    "import sklearn.datasets as skdata\n",
    "import numpy as np\n",
    "import matplotlib.pyplot as plt\n",
    "import matplotlib\n",
    "import pandas as pd\n",
    "from scipy.io import arff\n",
    "from sklearn.preprocessing import LabelEncoder\n",
    "from tabulate import tabulate\n",
    "from IPython.display import HTML, display"
   ]
  },
  {
   "cell_type": "markdown",
   "metadata": {
    "id": "sCcEPx5VIORj"
   },
   "source": [
    "## 1. (40%) Correctly implement and submit your own code for the perceptron learning algorithm. \n",
    "\n",
    "### Code requirements\n",
    "- Shuffle the data each epoch.\n",
    "- A way to create a random train/test split. Write your own. In the future you can use the scikit-learn version if you want.\n",
    "- Use Stochastic/On-line training updates: Iterate and update weights after each training instance (i.e. do not attempt batch updates)\n",
    "- Implement a stopping criteria: when your model has trained for a number of epochs with no significant improvement in accuracy, stop training. Note that the weights/accuracy do not usually change monotonically.\n",
    "- Use your perceptron to solve the Debug data. We provide you with several parameters, and you should be able to replicate our results every time. When you are confident it is correct, run your perceptron on the Evaluation data with the same parameters, and print your final weights and accuracy."
   ]
  },
  {
   "cell_type": "code",
   "execution_count": 3,
   "metadata": {
    "id": "_a2KSZ_7AN0G"
   },
   "outputs": [],
   "source": [
    "class PerceptronClassifier(BaseEstimator,ClassifierMixin):\n",
    "    epochs = 10\n",
    "    misClassificationRate_perEpoch = []\n",
    "    def __init__(self, lr=.1, shuffle=True):\n",
    "        \"\"\" \n",
    "            Initialize class with chosen hyperparameters.\n",
    "        Args:\n",
    "            lr (float): A learning rate / step size.\n",
    "            shuffle: Whether to shuffle the training data each epoch. DO NOT \n",
    "            SHUFFLE for evaluation / debug datasets.\n",
    "        \"\"\"\n",
    "        self.lr = lr\n",
    "        self.shuffle = shuffle\n",
    "\n",
    "    def setEpochs(self, numEpochs):\n",
    "        self.epochs = numEpochs\n",
    "\n",
    "    def fit(self, X, y, initial_weights=None):\n",
    "        \"\"\" \n",
    "            Fit the data; run the algorithm and adjust the weights to find a \n",
    "            good solution\n",
    "        Args:\n",
    "            X (array-like): A 2D numpy array with the training data, excluding\n",
    "            targets\n",
    "            y (array-like): A 2D numpy array with the training targets\n",
    "            initial_weights (array-like): allows the user to provide initial \n",
    "            weights\n",
    "        Returns:\n",
    "            self: this allows this to be chained, e.g. model.fit(X,y).predict(X_test)\n",
    "        \"\"\"\n",
    "        self.misClassificationRate_perEpoch = []\n",
    "        self.weights = self.initialize_weights(X) if not initial_weights else initial_weights\n",
    "        \n",
    "        for epoch in range(self.epochs):\n",
    "            #print(\"Epoch: \", epoch)\n",
    "            #print(self.weights)\n",
    "            missClass = 0\n",
    "            for x,t in zip(X, range(len(y)-1)):\n",
    "                x.append(1)\n",
    "                net = np.dot(x, self.weights)\n",
    "                if net > 0: z = 1\n",
    "                else: z = 0\n",
    "                #print(x)\n",
    "                #print(y)\n",
    "                for item in range(len(x)):\n",
    "                    #print(self.weights[item])\n",
    "                    #print(x[item])\n",
    "                    #print(y[t][0])\n",
    "                    self.weights[item] += (self.lr * (y[t][0] - z) * x[item])\n",
    "                x.pop()\n",
    "            \n",
    "            #print(missClass,\"/\",len(y))\n",
    "            missClass = 1 - self.score(X, y)\n",
    "            self.misClassificationRate_perEpoch.append(missClass)\n",
    "\n",
    "            #print(self.weights)\n",
    "            if self.shuffle:\n",
    "                self._shuffle_data(X,y)\n",
    "\n",
    "\n",
    "        return self\n",
    "\n",
    "    def predict(self, X):\n",
    "        \"\"\" \n",
    "            Predict all classes for a dataset X\n",
    "        Args:\n",
    "            X (array-like): A 2D numpy array with the training data, excluding \n",
    "            targets\n",
    "        Returns:\n",
    "            array, shape (n_samples,)\n",
    "                Predicted target values per element in X.\n",
    "        \"\"\"\n",
    "        results = []\n",
    "        for x in X:\n",
    "            x.append(1)\n",
    "            temp = np.dot(x, self.weights)\n",
    "            if temp > 0:\n",
    "                results.append(1)\n",
    "            else:\n",
    "                results.append(0)\n",
    "            x.pop()\n",
    "        return results\n",
    "\n",
    "    def initialize_weights(self, X):\n",
    "        \"\"\" Initialize weights for perceptron. Don't forget the bias!\n",
    "        Returns:\n",
    "        \"\"\"\n",
    "        temp_weight = [0]\n",
    "        for i in range(len(X[0])):\n",
    "            temp_weight.append(0)\n",
    "        return temp_weight\n",
    "\n",
    "    def score(self, X, y):\n",
    "        \"\"\" \n",
    "            Return accuracy of model on a given dataset. Must implement own \n",
    "            score function.\n",
    "        Args:\n",
    "            X (array-like): A 2D numpy array with data, excluding targets\n",
    "            y (array-like): A 2D numpy array with targets\n",
    "        Returns:\n",
    "            score : float\n",
    "                Mean accuracy of self.predict(X) wrt. y.\n",
    "        \"\"\"\n",
    "        results = self.predict(X)\n",
    "        #print(results)\n",
    "        \n",
    "        final = 0\n",
    "        # print(y)\n",
    "        for item in range(len(results)):\n",
    "            if y[item][0] == results[item]:\n",
    "                final += 1\n",
    "        final /= len(y)\n",
    "\n",
    "        # print(final)\n",
    "        \n",
    "        return final\n",
    "\n",
    "    def _shuffle_data(self, X, y):\n",
    "        \"\"\" \n",
    "            Shuffle the data! This _ prefix suggests that this method should \n",
    "            only be called internally.\n",
    "            It might be easier to concatenate X & y and shuffle a single 2D \n",
    "            array, rather than shuffling X and y exactly the same way, \n",
    "            independently.\n",
    "        \"\"\"\n",
    "        Z = np.concatenate((X, y), axis=1)\n",
    "        #print(Z)\n",
    "        np.random.shuffle(Z)\n",
    "        #print(Z)\n",
    "        #np.random.shuffle(Z)\n",
    "        #print(Z)\n",
    "        \n",
    "        # need to figure out how to calculate these 3's\n",
    "        for i in range(len(y[0])-1):\n",
    "            y[i][0] = Z[i][3]\n",
    "        for i in range(len(X)-1):\n",
    "            for j in range(len(X[0])-1):\n",
    "                X[i][j] = Z[i][j]\n",
    "        pass\n",
    "\n",
    "    ### Not required by sk-learn but required by us for grading. Returns the weights.\n",
    "    def get_weights(self):\n",
    "        return self.weights"
   ]
  },
  {
   "cell_type": "markdown",
   "metadata": {
    "id": "KibCIXIThpbE"
   },
   "source": [
    "## 1.1 Debug and Evaluation\n",
    "\n",
    "Debug and Evaluate your model using the parameters below\n",
    "\n",
    "Learning Rate = 0.1 \\ \n",
    "Deterministic = 10 [This means run it 10 epochs and should be the same everytime you run it] \\ \n",
    "Shuffle = False \\ \n",
    "Initial Weights = All zeros\n",
    "\n",
    "---\n",
    "\n",
    "### 1.1.1 Debug\n",
    "\n",
    "Debug your model by running it on the [debug dataset](https://raw.githubusercontent.com/cs472ta/CS472/master/datasets/linsep2nonorigin.arff)\n",
    "\n",
    "Expected Results:\n",
    "\n",
    "Accuracy = [0.88]\\\n",
    "Final Weights = [-0.23  0.18 -0.1 ]"
   ]
  },
  {
   "cell_type": "code",
   "execution_count": 5,
   "metadata": {
    "id": "KgAyy82gixIF"
   },
   "outputs": [
    {
     "output_type": "stream",
     "name": "stdout",
     "text": [
      "  % Total    % Received % Xferd  Average Speed   Time    Time     Time  Current\n",
      "                                 Dload  Upload   Total   Spent    Left  Speed\n",
      "100   197  100   197    0     0   2525      0 --:--:-- --:--:-- --:--:--  2525\n",
      "Final Accuracy:  0.875\n",
      "Final Weights:  [-0.23000000000000004, 0.1799999999999999, -0.1]\n",
      "Miss Classification: [0.5, 0.5, 0.5, 0.5, 0.375, 0.125, 0.125, 0.125, 0.125, 0.125]\n"
     ]
    }
   ],
   "source": [
    "# Load debug data\n",
    "!curl https://raw.githubusercontent.com/cs472ta/CS472/master/datasets/linsep2nonorigin.arff --output debug_data.arff\n",
    "debug_data = arff.loadarff('debug_data.arff')\n",
    "data_df = pd.DataFrame(debug_data[0])\n",
    "\n",
    "debug_np_data = data_df.to_numpy()\n",
    "debug_np_data = debug_np_data.astype(float)\n",
    "debug_np_data = debug_np_data.tolist()\n",
    "\n",
    "X = []\n",
    "y = []\n",
    "for data in debug_np_data:\n",
    "    X.append(data[0:len(data)-1])\n",
    "    y.append([data[len(data)-1]])\n",
    "#print(\"X: \", X)\n",
    "#print(\"y: \", y)\n",
    "\n",
    "# Train on debug data\n",
    "perceptron11 = PerceptronClassifier(shuffle=False)\n",
    "perceptron11.initialize_weights(X)\n",
    "perceptron11.setEpochs(10)\n",
    "perceptron11.fit(X, y)\n",
    "\n",
    "# Print accuracy and weights\n",
    "print(\"Final Accuracy: \", perceptron11.score(X, y))\n",
    "print(\"Final Weights: \", perceptron11.get_weights())\n",
    "print(\"Miss Classification:\", perceptron11.misClassificationRate_perEpoch)"
   ]
  },
  {
   "cell_type": "markdown",
   "metadata": {
    "id": "kY3VNB1ui03N"
   },
   "source": [
    "### 1.1.2 Evaluation\n",
    "\n",
    "We will evaluate your model based on it's performance on the [evaluation dataset](https://raw.githubusercontent.com/cs472ta/CS472/master/datasets/data_banknote_authentication.arff)"
   ]
  },
  {
   "cell_type": "code",
   "execution_count": 6,
   "metadata": {
    "id": "2yAxA78QjDh2",
    "tags": []
   },
   "outputs": [
    {
     "output_type": "stream",
     "name": "stdout",
     "text": [
      "  % Total    % Received % Xferd  Average Speed   Time    Time     Time  Current\n",
      "                                 Dload  Upload   Total   Spent    Left  Speed\n",
      "100 46685  100 46685    0     0   198k      0 --:--:-- --:--:-- --:--:--  198k\n",
      "Final Accuracy:  0.9876093294460642\n",
      "Final Weights:  [-3.80657242, -2.8408210000000014, -3.0719334000000034, -1.4003906000000004, 4.899999999999999]\n",
      "Miss Classification: [0.5247813411078717, 0.047376093294460686, 0.02988338192419826, 0.03862973760932942, 0.037172011661807614, 0.03862973760932942, 0.007288629737609353, 0.02478134110787167, 0.023323615160349864, 0.012390670553935834]\n"
     ]
    }
   ],
   "source": [
    "# Load evaluation data\n",
    "!curl https://raw.githubusercontent.com/cs472ta/CS472/master/datasets/data_banknote_authentication.arff --output eval_data.arff\n",
    "eval_data = arff.loadarff('eval_data.arff')\n",
    "eval_df = pd.DataFrame(eval_data[0])\n",
    "\n",
    "eval_np_data = eval_df.to_numpy()\n",
    "eval_np_data = eval_np_data.astype(float)\n",
    "eval_np_data = eval_np_data.tolist()\n",
    "\n",
    "X = []\n",
    "y = []\n",
    "for data in eval_np_data:\n",
    "    X.append(data[0:len(data)-1])\n",
    "    y.append([data[len(data)-1]])\n",
    "# print(\"X: \", X)\n",
    "# print(\"y: \", y)\n",
    "\n",
    "# Train on evaluation data\n",
    "perceptron12 = PerceptronClassifier(shuffle=False)\n",
    "perceptron12.initialize_weights(X)\n",
    "perceptron12.setEpochs(10)\n",
    "perceptron12.fit(X, y)\n",
    "\n",
    "# Print accuracy and weights\n",
    "print(\"Final Accuracy: \", perceptron12.score(X, y))\n",
    "print(\"Final Weights: \", perceptron12.get_weights())\n",
    "print(\"Miss Classification:\", perceptron12.misClassificationRate_perEpoch)"
   ]
  },
  {
   "cell_type": "markdown",
   "metadata": {
    "id": "9vWiTdlbR2Xh"
   },
   "source": [
    "## 2. (30%) Classifying on linearly separable and non-linearly separable data\n",
    "\n",
    "### 2.1 Create 2 datasets\n",
    "\n",
    "- Both with 8 instances using 2 real valued inputs (ranging between -1 and 1) with 4 instances from each class. \n",
    "- One data set should be linearly separable and the other not.\n",
    "\n"
   ]
  },
  {
   "cell_type": "code",
   "execution_count": 7,
   "metadata": {
    "id": "4SSoasDQSKXb"
   },
   "outputs": [],
   "source": [
    "# Create 2 datasets\n",
    "\n",
    "# un-separable dataset\n",
    "inputs1 = [[-0.65, 0.78,], [0.02, -0.34], [0.15, 0.46], [-0.4, -0.5], [0.75, 0.75], [0.001, 0.002], [-0.02, -0.6], [0.15, -0.025]]\n",
    "targets1 = [[0], [0], [0], [0], [1], [1], [1], [1]]\n",
    "\n",
    "# separable dataset\n",
    "inputs2 = [[-0.65, 0.78,], [0.02, -0.34], [0.15, 0.46], [-0.4, -0.5], [0.75, 0.75], [0.001, 0.002], [-0.02, -0.6], [0.15, -0.025]]\n",
    "targets2 = [[0], [1], [0], [0], [1], [0], [1], [1]]"
   ]
  },
  {
   "cell_type": "markdown",
   "metadata": {
    "id": "SIRG42TgSR4x"
   },
   "source": [
    "### 2.2 Train on both sets with your perceptron code (with LR=.1)"
   ]
  },
  {
   "cell_type": "code",
   "execution_count": 8,
   "metadata": {
    "id": "KBGUn43ASiXW"
   },
   "outputs": [
    {
     "output_type": "stream",
     "name": "stdout",
     "text": [
      "Final Accuracy:  0.625\nFinal Weights:  [0.2605999999999999, -0.060799999999999965, 0.1]\nFinal Accuracy:  1.0\nFinal Weights:  [0.21360000000000007, -0.13779999999999998, 0.0]\n"
     ]
    }
   ],
   "source": [
    "# Train on each dataset\n",
    "# un-sep\n",
    "perceptron = PerceptronClassifier(shuffle=False)\n",
    "perceptron.initialize_weights(inputs1)\n",
    "perceptron.setEpochs(10)\n",
    "perceptron.fit(inputs1, targets1)\n",
    "\n",
    "print(\"Final Accuracy: \", perceptron.score(inputs1, targets1))\n",
    "print(\"Final Weights: \", perceptron.get_weights())\n",
    "\n",
    "# sep\n",
    "perceptron2 = PerceptronClassifier(shuffle=False)\n",
    "perceptron2.initialize_weights(inputs2)\n",
    "perceptron2.setEpochs(10)\n",
    "perceptron2.fit(inputs2, targets2)\n",
    "\n",
    "print(\"Final Accuracy: \", perceptron2.score(inputs2, targets2))\n",
    "print(\"Final Weights: \", perceptron2.get_weights())"
   ]
  },
  {
   "cell_type": "markdown",
   "metadata": {
    "id": "v19fpixqTe-7"
   },
   "source": [
    "### 2.3 Graph the datasets and their corresponding decision line\n",
    " \n",
    " - Graph each dataset\n",
    " - Use your trained perceptrons above to determine each dataset's decision line\n",
    " - For all graphs always label the axes!\n",
    " \n",
    "![Linearly Separable Data](https://raw.githubusercontent.com/rmorain/CS472-1/master/images/perceptron/linearly_separable.png)\n",
    "\n",
    "![Not Linearly Separable](https://raw.githubusercontent.com/rmorain/CS472-1/master/images/perceptron/not_linearly_separable.png)"
   ]
  },
  {
   "cell_type": "code",
   "execution_count": 9,
   "metadata": {
    "id": "ZCPFUAGTS2sX"
   },
   "outputs": [
    {
     "output_type": "execute_result",
     "data": {
      "text/plain": [
       "<function matplotlib.pyplot.show(close=None, block=None)>"
      ]
     },
     "metadata": {},
     "execution_count": 9
    },
    {
     "output_type": "display_data",
     "data": {
      "text/plain": "<Figure size 432x288 with 1 Axes>",
      "image/svg+xml": "<?xml version=\"1.0\" encoding=\"utf-8\" standalone=\"no\"?>\n<!DOCTYPE svg PUBLIC \"-//W3C//DTD SVG 1.1//EN\"\n  \"http://www.w3.org/Graphics/SVG/1.1/DTD/svg11.dtd\">\n<svg height=\"277.314375pt\" version=\"1.1\" viewBox=\"0 0 384.620312 277.314375\" width=\"384.620312pt\" xmlns=\"http://www.w3.org/2000/svg\" xmlns:xlink=\"http://www.w3.org/1999/xlink\">\n <metadata>\n  <rdf:RDF xmlns:cc=\"http://creativecommons.org/ns#\" xmlns:dc=\"http://purl.org/dc/elements/1.1/\" xmlns:rdf=\"http://www.w3.org/1999/02/22-rdf-syntax-ns#\">\n   <cc:Work>\n    <dc:type rdf:resource=\"http://purl.org/dc/dcmitype/StillImage\"/>\n    <dc:date>2021-06-27T23:34:47.012789</dc:date>\n    <dc:format>image/svg+xml</dc:format>\n    <dc:creator>\n     <cc:Agent>\n      <dc:title>Matplotlib v3.4.2, https://matplotlib.org/</dc:title>\n     </cc:Agent>\n    </dc:creator>\n   </cc:Work>\n  </rdf:RDF>\n </metadata>\n <defs>\n  <style type=\"text/css\">*{stroke-linecap:butt;stroke-linejoin:round;}</style>\n </defs>\n <g id=\"figure_1\">\n  <g id=\"patch_1\">\n   <path d=\"M 0 277.314375 \nL 384.620312 277.314375 \nL 384.620312 0 \nL 0 0 \nz\n\" style=\"fill:none;\"/>\n  </g>\n  <g id=\"axes_1\">\n   <g id=\"patch_2\">\n    <path d=\"M 42.620313 239.758125 \nL 377.420313 239.758125 \nL 377.420313 22.318125 \nL 42.620313 22.318125 \nz\n\" style=\"fill:#ffffff;\"/>\n   </g>\n   <g id=\"PathCollection_1\">\n    <defs>\n     <path d=\"M 0 3 \nC 0.795609 3 1.55874 2.683901 2.12132 2.12132 \nC 2.683901 1.55874 3 0.795609 3 -0 \nC 3 -0.795609 2.683901 -1.55874 2.12132 -2.12132 \nC 1.55874 -2.683901 0.795609 -3 0 -3 \nC -0.795609 -3 -1.55874 -2.683901 -2.12132 -2.12132 \nC -2.683901 -1.55874 -3 -0.795609 -3 0 \nC -3 0.795609 -2.683901 1.55874 -2.12132 2.12132 \nC -1.55874 2.683901 -0.795609 3 0 3 \nz\n\" id=\"C0_0_8de4b7a5bf\"/>\n    </defs>\n    <g clip-path=\"url(#pa0cbc90a70)\">\n     <use style=\"fill:#0000ff;stroke:#0000ff;\" x=\"111.102131\" xlink:href=\"#C0_0_8de4b7a5bf\" y=\"150.978342\"/>\n    </g>\n    <g clip-path=\"url(#pa0cbc90a70)\">\n     <use style=\"fill:#0000ff;stroke:#0000ff;\" x=\"213.063949\" xlink:href=\"#C0_0_8de4b7a5bf\" y=\"176.804747\"/>\n    </g>\n    <g clip-path=\"url(#pa0cbc90a70)\">\n     <use style=\"fill:#0000ff;stroke:#0000ff;\" x=\"232.847585\" xlink:href=\"#C0_0_8de4b7a5bf\" y=\"158.357315\"/>\n    </g>\n    <g clip-path=\"url(#pa0cbc90a70)\">\n     <use style=\"fill:#0000ff;stroke:#0000ff;\" x=\"149.147585\" xlink:href=\"#C0_0_8de4b7a5bf\" y=\"180.494233\"/>\n    </g>\n    <g clip-path=\"url(#pa0cbc90a70)\">\n     <use style=\"fill:#ff0000;stroke:#ff0000;\" x=\"324.156676\" xlink:href=\"#C0_0_8de4b7a5bf\" y=\"151.670121\"/>\n    </g>\n    <g clip-path=\"url(#pa0cbc90a70)\">\n     <use style=\"fill:#ff0000;stroke:#ff0000;\" x=\"210.172494\" xlink:href=\"#C0_0_8de4b7a5bf\" y=\"168.91847\"/>\n    </g>\n    <g clip-path=\"url(#pa0cbc90a70)\">\n     <use style=\"fill:#ff0000;stroke:#ff0000;\" x=\"206.976676\" xlink:href=\"#C0_0_8de4b7a5bf\" y=\"182.800162\"/>\n    </g>\n    <g clip-path=\"url(#pa0cbc90a70)\">\n     <use style=\"fill:#ff0000;stroke:#ff0000;\" x=\"232.847585\" xlink:href=\"#C0_0_8de4b7a5bf\" y=\"169.541071\"/>\n    </g>\n   </g>\n   <g id=\"matplotlib.axis_1\">\n    <g id=\"xtick_1\">\n     <g id=\"line2d_1\">\n      <defs>\n       <path d=\"M 0 0 \nL 0 3.5 \n\" id=\"m913cb5a5db\" style=\"stroke:#000000;stroke-width:0.8;\"/>\n      </defs>\n      <g>\n       <use style=\"stroke:#000000;stroke-width:0.8;\" x=\"57.838494\" xlink:href=\"#m913cb5a5db\" y=\"239.758125\"/>\n      </g>\n     </g>\n     <g id=\"text_1\">\n      <!-- −1.00 -->\n      <g transform=\"translate(42.515838 254.356562)scale(0.1 -0.1)\">\n       <defs>\n        <path d=\"M 678 2272 \nL 4684 2272 \nL 4684 1741 \nL 678 1741 \nL 678 2272 \nz\n\" id=\"DejaVuSans-2212\" transform=\"scale(0.015625)\"/>\n        <path d=\"M 794 531 \nL 1825 531 \nL 1825 4091 \nL 703 3866 \nL 703 4441 \nL 1819 4666 \nL 2450 4666 \nL 2450 531 \nL 3481 531 \nL 3481 0 \nL 794 0 \nL 794 531 \nz\n\" id=\"DejaVuSans-31\" transform=\"scale(0.015625)\"/>\n        <path d=\"M 684 794 \nL 1344 794 \nL 1344 0 \nL 684 0 \nL 684 794 \nz\n\" id=\"DejaVuSans-2e\" transform=\"scale(0.015625)\"/>\n        <path d=\"M 2034 4250 \nQ 1547 4250 1301 3770 \nQ 1056 3291 1056 2328 \nQ 1056 1369 1301 889 \nQ 1547 409 2034 409 \nQ 2525 409 2770 889 \nQ 3016 1369 3016 2328 \nQ 3016 3291 2770 3770 \nQ 2525 4250 2034 4250 \nz\nM 2034 4750 \nQ 2819 4750 3233 4129 \nQ 3647 3509 3647 2328 \nQ 3647 1150 3233 529 \nQ 2819 -91 2034 -91 \nQ 1250 -91 836 529 \nQ 422 1150 422 2328 \nQ 422 3509 836 4129 \nQ 1250 4750 2034 4750 \nz\n\" id=\"DejaVuSans-30\" transform=\"scale(0.015625)\"/>\n       </defs>\n       <use xlink:href=\"#DejaVuSans-2212\"/>\n       <use x=\"83.789062\" xlink:href=\"#DejaVuSans-31\"/>\n       <use x=\"147.412109\" xlink:href=\"#DejaVuSans-2e\"/>\n       <use x=\"179.199219\" xlink:href=\"#DejaVuSans-30\"/>\n       <use x=\"242.822266\" xlink:href=\"#DejaVuSans-30\"/>\n      </g>\n     </g>\n    </g>\n    <g id=\"xtick_2\">\n     <g id=\"line2d_2\">\n      <g>\n       <use style=\"stroke:#000000;stroke-width:0.8;\" x=\"95.883949\" xlink:href=\"#m913cb5a5db\" y=\"239.758125\"/>\n      </g>\n     </g>\n     <g id=\"text_2\">\n      <!-- −0.75 -->\n      <g transform=\"translate(80.561293 254.356562)scale(0.1 -0.1)\">\n       <defs>\n        <path d=\"M 525 4666 \nL 3525 4666 \nL 3525 4397 \nL 1831 0 \nL 1172 0 \nL 2766 4134 \nL 525 4134 \nL 525 4666 \nz\n\" id=\"DejaVuSans-37\" transform=\"scale(0.015625)\"/>\n        <path d=\"M 691 4666 \nL 3169 4666 \nL 3169 4134 \nL 1269 4134 \nL 1269 2991 \nQ 1406 3038 1543 3061 \nQ 1681 3084 1819 3084 \nQ 2600 3084 3056 2656 \nQ 3513 2228 3513 1497 \nQ 3513 744 3044 326 \nQ 2575 -91 1722 -91 \nQ 1428 -91 1123 -41 \nQ 819 9 494 109 \nL 494 744 \nQ 775 591 1075 516 \nQ 1375 441 1709 441 \nQ 2250 441 2565 725 \nQ 2881 1009 2881 1497 \nQ 2881 1984 2565 2268 \nQ 2250 2553 1709 2553 \nQ 1456 2553 1204 2497 \nQ 953 2441 691 2322 \nL 691 4666 \nz\n\" id=\"DejaVuSans-35\" transform=\"scale(0.015625)\"/>\n       </defs>\n       <use xlink:href=\"#DejaVuSans-2212\"/>\n       <use x=\"83.789062\" xlink:href=\"#DejaVuSans-30\"/>\n       <use x=\"147.412109\" xlink:href=\"#DejaVuSans-2e\"/>\n       <use x=\"179.199219\" xlink:href=\"#DejaVuSans-37\"/>\n       <use x=\"242.822266\" xlink:href=\"#DejaVuSans-35\"/>\n      </g>\n     </g>\n    </g>\n    <g id=\"xtick_3\">\n     <g id=\"line2d_3\">\n      <g>\n       <use style=\"stroke:#000000;stroke-width:0.8;\" x=\"133.929403\" xlink:href=\"#m913cb5a5db\" y=\"239.758125\"/>\n      </g>\n     </g>\n     <g id=\"text_3\">\n      <!-- −0.50 -->\n      <g transform=\"translate(118.606747 254.356562)scale(0.1 -0.1)\">\n       <use xlink:href=\"#DejaVuSans-2212\"/>\n       <use x=\"83.789062\" xlink:href=\"#DejaVuSans-30\"/>\n       <use x=\"147.412109\" xlink:href=\"#DejaVuSans-2e\"/>\n       <use x=\"179.199219\" xlink:href=\"#DejaVuSans-35\"/>\n       <use x=\"242.822266\" xlink:href=\"#DejaVuSans-30\"/>\n      </g>\n     </g>\n    </g>\n    <g id=\"xtick_4\">\n     <g id=\"line2d_4\">\n      <g>\n       <use style=\"stroke:#000000;stroke-width:0.8;\" x=\"171.974858\" xlink:href=\"#m913cb5a5db\" y=\"239.758125\"/>\n      </g>\n     </g>\n     <g id=\"text_4\">\n      <!-- −0.25 -->\n      <g transform=\"translate(156.652202 254.356562)scale(0.1 -0.1)\">\n       <defs>\n        <path d=\"M 1228 531 \nL 3431 531 \nL 3431 0 \nL 469 0 \nL 469 531 \nQ 828 903 1448 1529 \nQ 2069 2156 2228 2338 \nQ 2531 2678 2651 2914 \nQ 2772 3150 2772 3378 \nQ 2772 3750 2511 3984 \nQ 2250 4219 1831 4219 \nQ 1534 4219 1204 4116 \nQ 875 4013 500 3803 \nL 500 4441 \nQ 881 4594 1212 4672 \nQ 1544 4750 1819 4750 \nQ 2544 4750 2975 4387 \nQ 3406 4025 3406 3419 \nQ 3406 3131 3298 2873 \nQ 3191 2616 2906 2266 \nQ 2828 2175 2409 1742 \nQ 1991 1309 1228 531 \nz\n\" id=\"DejaVuSans-32\" transform=\"scale(0.015625)\"/>\n       </defs>\n       <use xlink:href=\"#DejaVuSans-2212\"/>\n       <use x=\"83.789062\" xlink:href=\"#DejaVuSans-30\"/>\n       <use x=\"147.412109\" xlink:href=\"#DejaVuSans-2e\"/>\n       <use x=\"179.199219\" xlink:href=\"#DejaVuSans-32\"/>\n       <use x=\"242.822266\" xlink:href=\"#DejaVuSans-35\"/>\n      </g>\n     </g>\n    </g>\n    <g id=\"xtick_5\">\n     <g id=\"line2d_5\">\n      <g>\n       <use style=\"stroke:#000000;stroke-width:0.8;\" x=\"210.020313\" xlink:href=\"#m913cb5a5db\" y=\"239.758125\"/>\n      </g>\n     </g>\n     <g id=\"text_5\">\n      <!-- 0.00 -->\n      <g transform=\"translate(198.8875 254.356562)scale(0.1 -0.1)\">\n       <use xlink:href=\"#DejaVuSans-30\"/>\n       <use x=\"63.623047\" xlink:href=\"#DejaVuSans-2e\"/>\n       <use x=\"95.410156\" xlink:href=\"#DejaVuSans-30\"/>\n       <use x=\"159.033203\" xlink:href=\"#DejaVuSans-30\"/>\n      </g>\n     </g>\n    </g>\n    <g id=\"xtick_6\">\n     <g id=\"line2d_6\">\n      <g>\n       <use style=\"stroke:#000000;stroke-width:0.8;\" x=\"248.065767\" xlink:href=\"#m913cb5a5db\" y=\"239.758125\"/>\n      </g>\n     </g>\n     <g id=\"text_6\">\n      <!-- 0.25 -->\n      <g transform=\"translate(236.932955 254.356562)scale(0.1 -0.1)\">\n       <use xlink:href=\"#DejaVuSans-30\"/>\n       <use x=\"63.623047\" xlink:href=\"#DejaVuSans-2e\"/>\n       <use x=\"95.410156\" xlink:href=\"#DejaVuSans-32\"/>\n       <use x=\"159.033203\" xlink:href=\"#DejaVuSans-35\"/>\n      </g>\n     </g>\n    </g>\n    <g id=\"xtick_7\">\n     <g id=\"line2d_7\">\n      <g>\n       <use style=\"stroke:#000000;stroke-width:0.8;\" x=\"286.111222\" xlink:href=\"#m913cb5a5db\" y=\"239.758125\"/>\n      </g>\n     </g>\n     <g id=\"text_7\">\n      <!-- 0.50 -->\n      <g transform=\"translate(274.978409 254.356562)scale(0.1 -0.1)\">\n       <use xlink:href=\"#DejaVuSans-30\"/>\n       <use x=\"63.623047\" xlink:href=\"#DejaVuSans-2e\"/>\n       <use x=\"95.410156\" xlink:href=\"#DejaVuSans-35\"/>\n       <use x=\"159.033203\" xlink:href=\"#DejaVuSans-30\"/>\n      </g>\n     </g>\n    </g>\n    <g id=\"xtick_8\">\n     <g id=\"line2d_8\">\n      <g>\n       <use style=\"stroke:#000000;stroke-width:0.8;\" x=\"324.156676\" xlink:href=\"#m913cb5a5db\" y=\"239.758125\"/>\n      </g>\n     </g>\n     <g id=\"text_8\">\n      <!-- 0.75 -->\n      <g transform=\"translate(313.023864 254.356562)scale(0.1 -0.1)\">\n       <use xlink:href=\"#DejaVuSans-30\"/>\n       <use x=\"63.623047\" xlink:href=\"#DejaVuSans-2e\"/>\n       <use x=\"95.410156\" xlink:href=\"#DejaVuSans-37\"/>\n       <use x=\"159.033203\" xlink:href=\"#DejaVuSans-35\"/>\n      </g>\n     </g>\n    </g>\n    <g id=\"xtick_9\">\n     <g id=\"line2d_9\">\n      <g>\n       <use style=\"stroke:#000000;stroke-width:0.8;\" x=\"362.202131\" xlink:href=\"#m913cb5a5db\" y=\"239.758125\"/>\n      </g>\n     </g>\n     <g id=\"text_9\">\n      <!-- 1.00 -->\n      <g transform=\"translate(351.069318 254.356562)scale(0.1 -0.1)\">\n       <use xlink:href=\"#DejaVuSans-31\"/>\n       <use x=\"63.623047\" xlink:href=\"#DejaVuSans-2e\"/>\n       <use x=\"95.410156\" xlink:href=\"#DejaVuSans-30\"/>\n       <use x=\"159.033203\" xlink:href=\"#DejaVuSans-30\"/>\n      </g>\n     </g>\n    </g>\n    <g id=\"text_10\">\n     <!-- X -->\n     <g transform=\"translate(206.595313 268.034687)scale(0.1 -0.1)\">\n      <defs>\n       <path d=\"M 403 4666 \nL 1081 4666 \nL 2241 2931 \nL 3406 4666 \nL 4084 4666 \nL 2584 2425 \nL 4184 0 \nL 3506 0 \nL 2194 1984 \nL 872 0 \nL 191 0 \nL 1856 2491 \nL 403 4666 \nz\n\" id=\"DejaVuSans-58\" transform=\"scale(0.015625)\"/>\n      </defs>\n      <use xlink:href=\"#DejaVuSans-58\"/>\n     </g>\n    </g>\n   </g>\n   <g id=\"matplotlib.axis_2\">\n    <g id=\"ytick_1\">\n     <g id=\"line2d_10\">\n      <defs>\n       <path d=\"M 0 0 \nL -3.5 0 \n\" id=\"mda4448abf5\" style=\"stroke:#000000;stroke-width:0.8;\"/>\n      </defs>\n      <g>\n       <use style=\"stroke:#000000;stroke-width:0.8;\" x=\"42.620313\" xlink:href=\"#mda4448abf5\" y=\"215.083168\"/>\n      </g>\n     </g>\n     <g id=\"text_11\">\n      <!-- −2 -->\n      <g transform=\"translate(20.878125 218.882387)scale(0.1 -0.1)\">\n       <use xlink:href=\"#DejaVuSans-2212\"/>\n       <use x=\"83.789062\" xlink:href=\"#DejaVuSans-32\"/>\n      </g>\n     </g>\n    </g>\n    <g id=\"ytick_2\">\n     <g id=\"line2d_11\">\n      <g>\n       <use style=\"stroke:#000000;stroke-width:0.8;\" x=\"42.620313\" xlink:href=\"#mda4448abf5\" y=\"168.964588\"/>\n      </g>\n     </g>\n     <g id=\"text_12\">\n      <!-- 0 -->\n      <g transform=\"translate(29.257813 172.763807)scale(0.1 -0.1)\">\n       <use xlink:href=\"#DejaVuSans-30\"/>\n      </g>\n     </g>\n    </g>\n    <g id=\"ytick_3\">\n     <g id=\"line2d_12\">\n      <g>\n       <use style=\"stroke:#000000;stroke-width:0.8;\" x=\"42.620313\" xlink:href=\"#mda4448abf5\" y=\"122.846009\"/>\n      </g>\n     </g>\n     <g id=\"text_13\">\n      <!-- 2 -->\n      <g transform=\"translate(29.257813 126.645228)scale(0.1 -0.1)\">\n       <use xlink:href=\"#DejaVuSans-32\"/>\n      </g>\n     </g>\n    </g>\n    <g id=\"ytick_4\">\n     <g id=\"line2d_13\">\n      <g>\n       <use style=\"stroke:#000000;stroke-width:0.8;\" x=\"42.620313\" xlink:href=\"#mda4448abf5\" y=\"76.727429\"/>\n      </g>\n     </g>\n     <g id=\"text_14\">\n      <!-- 4 -->\n      <g transform=\"translate(29.257813 80.526648)scale(0.1 -0.1)\">\n       <defs>\n        <path d=\"M 2419 4116 \nL 825 1625 \nL 2419 1625 \nL 2419 4116 \nz\nM 2253 4666 \nL 3047 4666 \nL 3047 1625 \nL 3713 1625 \nL 3713 1100 \nL 3047 1100 \nL 3047 0 \nL 2419 0 \nL 2419 1100 \nL 313 1100 \nL 313 1709 \nL 2253 4666 \nz\n\" id=\"DejaVuSans-34\" transform=\"scale(0.015625)\"/>\n       </defs>\n       <use xlink:href=\"#DejaVuSans-34\"/>\n      </g>\n     </g>\n    </g>\n    <g id=\"ytick_5\">\n     <g id=\"line2d_14\">\n      <g>\n       <use style=\"stroke:#000000;stroke-width:0.8;\" x=\"42.620313\" xlink:href=\"#mda4448abf5\" y=\"30.60885\"/>\n      </g>\n     </g>\n     <g id=\"text_15\">\n      <!-- 6 -->\n      <g transform=\"translate(29.257813 34.408069)scale(0.1 -0.1)\">\n       <defs>\n        <path d=\"M 2113 2584 \nQ 1688 2584 1439 2293 \nQ 1191 2003 1191 1497 \nQ 1191 994 1439 701 \nQ 1688 409 2113 409 \nQ 2538 409 2786 701 \nQ 3034 994 3034 1497 \nQ 3034 2003 2786 2293 \nQ 2538 2584 2113 2584 \nz\nM 3366 4563 \nL 3366 3988 \nQ 3128 4100 2886 4159 \nQ 2644 4219 2406 4219 \nQ 1781 4219 1451 3797 \nQ 1122 3375 1075 2522 \nQ 1259 2794 1537 2939 \nQ 1816 3084 2150 3084 \nQ 2853 3084 3261 2657 \nQ 3669 2231 3669 1497 \nQ 3669 778 3244 343 \nQ 2819 -91 2113 -91 \nQ 1303 -91 875 529 \nQ 447 1150 447 2328 \nQ 447 3434 972 4092 \nQ 1497 4750 2381 4750 \nQ 2619 4750 2861 4703 \nQ 3103 4656 3366 4563 \nz\n\" id=\"DejaVuSans-36\" transform=\"scale(0.015625)\"/>\n       </defs>\n       <use xlink:href=\"#DejaVuSans-36\"/>\n      </g>\n     </g>\n    </g>\n    <g id=\"text_16\">\n     <!-- Y -->\n     <g transform=\"translate(14.798438 134.092031)rotate(-90)scale(0.1 -0.1)\">\n      <defs>\n       <path d=\"M -13 4666 \nL 666 4666 \nL 1959 2747 \nL 3244 4666 \nL 3922 4666 \nL 2272 2222 \nL 2272 0 \nL 1638 0 \nL 1638 2222 \nL -13 4666 \nz\n\" id=\"DejaVuSans-59\" transform=\"scale(0.015625)\"/>\n      </defs>\n      <use xlink:href=\"#DejaVuSans-59\"/>\n     </g>\n    </g>\n   </g>\n   <g id=\"line2d_15\">\n    <path clip-path=\"url(#pa0cbc90a70)\" d=\"M 57.838494 229.874489 \nL 210.020313 131.038125 \nL 362.202131 32.201761 \n\" style=\"fill:none;stroke:#1f77b4;stroke-linecap:square;stroke-width:1.5;\"/>\n   </g>\n   <g id=\"patch_3\">\n    <path d=\"M 42.620313 239.758125 \nL 42.620313 22.318125 \n\" style=\"fill:none;stroke:#000000;stroke-linecap:square;stroke-linejoin:miter;stroke-width:0.8;\"/>\n   </g>\n   <g id=\"patch_4\">\n    <path d=\"M 377.420313 239.758125 \nL 377.420313 22.318125 \n\" style=\"fill:none;stroke:#000000;stroke-linecap:square;stroke-linejoin:miter;stroke-width:0.8;\"/>\n   </g>\n   <g id=\"patch_5\">\n    <path d=\"M 42.620313 239.758125 \nL 377.420313 239.758125 \n\" style=\"fill:none;stroke:#000000;stroke-linecap:square;stroke-linejoin:miter;stroke-width:0.8;\"/>\n   </g>\n   <g id=\"patch_6\">\n    <path d=\"M 42.620313 22.318125 \nL 377.420313 22.318125 \n\" style=\"fill:none;stroke:#000000;stroke-linecap:square;stroke-linejoin:miter;stroke-width:0.8;\"/>\n   </g>\n   <g id=\"text_17\">\n    <!-- Un-separable -->\n    <g transform=\"translate(170.047188 16.318125)scale(0.12 -0.12)\">\n     <defs>\n      <path d=\"M 556 4666 \nL 1191 4666 \nL 1191 1831 \nQ 1191 1081 1462 751 \nQ 1734 422 2344 422 \nQ 2950 422 3222 751 \nQ 3494 1081 3494 1831 \nL 3494 4666 \nL 4128 4666 \nL 4128 1753 \nQ 4128 841 3676 375 \nQ 3225 -91 2344 -91 \nQ 1459 -91 1007 375 \nQ 556 841 556 1753 \nL 556 4666 \nz\n\" id=\"DejaVuSans-55\" transform=\"scale(0.015625)\"/>\n      <path d=\"M 3513 2113 \nL 3513 0 \nL 2938 0 \nL 2938 2094 \nQ 2938 2591 2744 2837 \nQ 2550 3084 2163 3084 \nQ 1697 3084 1428 2787 \nQ 1159 2491 1159 1978 \nL 1159 0 \nL 581 0 \nL 581 3500 \nL 1159 3500 \nL 1159 2956 \nQ 1366 3272 1645 3428 \nQ 1925 3584 2291 3584 \nQ 2894 3584 3203 3211 \nQ 3513 2838 3513 2113 \nz\n\" id=\"DejaVuSans-6e\" transform=\"scale(0.015625)\"/>\n      <path d=\"M 313 2009 \nL 1997 2009 \nL 1997 1497 \nL 313 1497 \nL 313 2009 \nz\n\" id=\"DejaVuSans-2d\" transform=\"scale(0.015625)\"/>\n      <path d=\"M 2834 3397 \nL 2834 2853 \nQ 2591 2978 2328 3040 \nQ 2066 3103 1784 3103 \nQ 1356 3103 1142 2972 \nQ 928 2841 928 2578 \nQ 928 2378 1081 2264 \nQ 1234 2150 1697 2047 \nL 1894 2003 \nQ 2506 1872 2764 1633 \nQ 3022 1394 3022 966 \nQ 3022 478 2636 193 \nQ 2250 -91 1575 -91 \nQ 1294 -91 989 -36 \nQ 684 19 347 128 \nL 347 722 \nQ 666 556 975 473 \nQ 1284 391 1588 391 \nQ 1994 391 2212 530 \nQ 2431 669 2431 922 \nQ 2431 1156 2273 1281 \nQ 2116 1406 1581 1522 \nL 1381 1569 \nQ 847 1681 609 1914 \nQ 372 2147 372 2553 \nQ 372 3047 722 3315 \nQ 1072 3584 1716 3584 \nQ 2034 3584 2315 3537 \nQ 2597 3491 2834 3397 \nz\n\" id=\"DejaVuSans-73\" transform=\"scale(0.015625)\"/>\n      <path d=\"M 3597 1894 \nL 3597 1613 \nL 953 1613 \nQ 991 1019 1311 708 \nQ 1631 397 2203 397 \nQ 2534 397 2845 478 \nQ 3156 559 3463 722 \nL 3463 178 \nQ 3153 47 2828 -22 \nQ 2503 -91 2169 -91 \nQ 1331 -91 842 396 \nQ 353 884 353 1716 \nQ 353 2575 817 3079 \nQ 1281 3584 2069 3584 \nQ 2775 3584 3186 3129 \nQ 3597 2675 3597 1894 \nz\nM 3022 2063 \nQ 3016 2534 2758 2815 \nQ 2500 3097 2075 3097 \nQ 1594 3097 1305 2825 \nQ 1016 2553 972 2059 \nL 3022 2063 \nz\n\" id=\"DejaVuSans-65\" transform=\"scale(0.015625)\"/>\n      <path d=\"M 1159 525 \nL 1159 -1331 \nL 581 -1331 \nL 581 3500 \nL 1159 3500 \nL 1159 2969 \nQ 1341 3281 1617 3432 \nQ 1894 3584 2278 3584 \nQ 2916 3584 3314 3078 \nQ 3713 2572 3713 1747 \nQ 3713 922 3314 415 \nQ 2916 -91 2278 -91 \nQ 1894 -91 1617 61 \nQ 1341 213 1159 525 \nz\nM 3116 1747 \nQ 3116 2381 2855 2742 \nQ 2594 3103 2138 3103 \nQ 1681 3103 1420 2742 \nQ 1159 2381 1159 1747 \nQ 1159 1113 1420 752 \nQ 1681 391 2138 391 \nQ 2594 391 2855 752 \nQ 3116 1113 3116 1747 \nz\n\" id=\"DejaVuSans-70\" transform=\"scale(0.015625)\"/>\n      <path d=\"M 2194 1759 \nQ 1497 1759 1228 1600 \nQ 959 1441 959 1056 \nQ 959 750 1161 570 \nQ 1363 391 1709 391 \nQ 2188 391 2477 730 \nQ 2766 1069 2766 1631 \nL 2766 1759 \nL 2194 1759 \nz\nM 3341 1997 \nL 3341 0 \nL 2766 0 \nL 2766 531 \nQ 2569 213 2275 61 \nQ 1981 -91 1556 -91 \nQ 1019 -91 701 211 \nQ 384 513 384 1019 \nQ 384 1609 779 1909 \nQ 1175 2209 1959 2209 \nL 2766 2209 \nL 2766 2266 \nQ 2766 2663 2505 2880 \nQ 2244 3097 1772 3097 \nQ 1472 3097 1187 3025 \nQ 903 2953 641 2809 \nL 641 3341 \nQ 956 3463 1253 3523 \nQ 1550 3584 1831 3584 \nQ 2591 3584 2966 3190 \nQ 3341 2797 3341 1997 \nz\n\" id=\"DejaVuSans-61\" transform=\"scale(0.015625)\"/>\n      <path d=\"M 2631 2963 \nQ 2534 3019 2420 3045 \nQ 2306 3072 2169 3072 \nQ 1681 3072 1420 2755 \nQ 1159 2438 1159 1844 \nL 1159 0 \nL 581 0 \nL 581 3500 \nL 1159 3500 \nL 1159 2956 \nQ 1341 3275 1631 3429 \nQ 1922 3584 2338 3584 \nQ 2397 3584 2469 3576 \nQ 2541 3569 2628 3553 \nL 2631 2963 \nz\n\" id=\"DejaVuSans-72\" transform=\"scale(0.015625)\"/>\n      <path d=\"M 3116 1747 \nQ 3116 2381 2855 2742 \nQ 2594 3103 2138 3103 \nQ 1681 3103 1420 2742 \nQ 1159 2381 1159 1747 \nQ 1159 1113 1420 752 \nQ 1681 391 2138 391 \nQ 2594 391 2855 752 \nQ 3116 1113 3116 1747 \nz\nM 1159 2969 \nQ 1341 3281 1617 3432 \nQ 1894 3584 2278 3584 \nQ 2916 3584 3314 3078 \nQ 3713 2572 3713 1747 \nQ 3713 922 3314 415 \nQ 2916 -91 2278 -91 \nQ 1894 -91 1617 61 \nQ 1341 213 1159 525 \nL 1159 0 \nL 581 0 \nL 581 4863 \nL 1159 4863 \nL 1159 2969 \nz\n\" id=\"DejaVuSans-62\" transform=\"scale(0.015625)\"/>\n      <path d=\"M 603 4863 \nL 1178 4863 \nL 1178 0 \nL 603 0 \nL 603 4863 \nz\n\" id=\"DejaVuSans-6c\" transform=\"scale(0.015625)\"/>\n     </defs>\n     <use xlink:href=\"#DejaVuSans-55\"/>\n     <use x=\"73.193359\" xlink:href=\"#DejaVuSans-6e\"/>\n     <use x=\"136.572266\" xlink:href=\"#DejaVuSans-2d\"/>\n     <use x=\"172.65625\" xlink:href=\"#DejaVuSans-73\"/>\n     <use x=\"224.755859\" xlink:href=\"#DejaVuSans-65\"/>\n     <use x=\"286.279297\" xlink:href=\"#DejaVuSans-70\"/>\n     <use x=\"349.755859\" xlink:href=\"#DejaVuSans-61\"/>\n     <use x=\"411.035156\" xlink:href=\"#DejaVuSans-72\"/>\n     <use x=\"452.148438\" xlink:href=\"#DejaVuSans-61\"/>\n     <use x=\"513.427734\" xlink:href=\"#DejaVuSans-62\"/>\n     <use x=\"576.904297\" xlink:href=\"#DejaVuSans-6c\"/>\n     <use x=\"604.6875\" xlink:href=\"#DejaVuSans-65\"/>\n    </g>\n   </g>\n  </g>\n </g>\n <defs>\n  <clipPath id=\"pa0cbc90a70\">\n   <rect height=\"217.44\" width=\"334.8\" x=\"42.620313\" y=\"22.318125\"/>\n  </clipPath>\n </defs>\n</svg>\n",
      "image/png": "[encoded data removed]"
     },
     "metadata": {
      "needs_background": "light"
     }
    }
   ],
   "source": [
    "from itertools import chain\n",
    "# un-separable\n",
    "inputs1 = [[-0.65, 0.78,], [0.02, -0.34], [0.15, 0.46], [-0.4, -0.5], [0.75, 0.75], [0.001, 0.002], [-0.02, -0.6], [0.15, -0.025]]\n",
    "targets1 = [[0], [0], [0], [0], [1], [1], [1], [1]]\n",
    "\n",
    "# Graph datasets and decision lines\n",
    "colors = [\"blue\", \"red\"]\n",
    "colormap = matplotlib.colors.ListedColormap(colors)\n",
    "\n",
    "# un-sep\n",
    "plt_un = plt\n",
    "targets1Flat = list(chain.from_iterable(targets1))\n",
    "\n",
    "X1 = []\n",
    "Y1 = []\n",
    "for item in inputs1:\n",
    "    X1.append(item[0])\n",
    "    Y1.append(item[1])\n",
    "#print(X1)\n",
    "#print(Y1)\n",
    "\n",
    "inputs1, targets1 = skdata.load_boston(return_X_y=True)\n",
    "plt_un.title('Un-separable')\n",
    "plt_un.xlabel('X')\n",
    "plt_un.ylabel('Y')\n",
    "\n",
    "plt_un.scatter(X1, Y1, c=targets1Flat, cmap=colormap)\n",
    "\n",
    "weights1 = perceptron.get_weights()\n",
    "x_line1 = np.arange(-1,2)\n",
    "y_line1 = (-weights1[0]/weights1[1])* x_line1 - (weights1[2]/weights1[1]) \n",
    "plt_un.plot(x_line1,y_line1)\n",
    "\n",
    "plt_un.show\n",
    "\n",
    "\n"
   ]
  },
  {
   "cell_type": "code",
   "execution_count": 10,
   "metadata": {},
   "outputs": [
    {
     "output_type": "execute_result",
     "data": {
      "text/plain": [
       "<function matplotlib.pyplot.show(close=None, block=None)>"
      ]
     },
     "metadata": {},
     "execution_count": 10
    },
    {
     "output_type": "display_data",
     "data": {
      "text/plain": "<Figure size 432x288 with 1 Axes>",
      "image/svg+xml": "<?xml version=\"1.0\" encoding=\"utf-8\" standalone=\"no\"?>\n<!DOCTYPE svg PUBLIC \"-//W3C//DTD SVG 1.1//EN\"\n  \"http://www.w3.org/Graphics/SVG/1.1/DTD/svg11.dtd\">\n<svg height=\"277.314375pt\" version=\"1.1\" viewBox=\"0 0 394.160937 277.314375\" width=\"394.160937pt\" xmlns=\"http://www.w3.org/2000/svg\" xmlns:xlink=\"http://www.w3.org/1999/xlink\">\n <metadata>\n  <rdf:RDF xmlns:cc=\"http://creativecommons.org/ns#\" xmlns:dc=\"http://purl.org/dc/elements/1.1/\" xmlns:rdf=\"http://www.w3.org/1999/02/22-rdf-syntax-ns#\">\n   <cc:Work>\n    <dc:type rdf:resource=\"http://purl.org/dc/dcmitype/StillImage\"/>\n    <dc:date>2021-06-27T23:34:50.030330</dc:date>\n    <dc:format>image/svg+xml</dc:format>\n    <dc:creator>\n     <cc:Agent>\n      <dc:title>Matplotlib v3.4.2, https://matplotlib.org/</dc:title>\n     </cc:Agent>\n    </dc:creator>\n   </cc:Work>\n  </rdf:RDF>\n </metadata>\n <defs>\n  <style type=\"text/css\">*{stroke-linecap:butt;stroke-linejoin:round;}</style>\n </defs>\n <g id=\"figure_1\">\n  <g id=\"patch_1\">\n   <path d=\"M 0 277.314375 \nL 394.160937 277.314375 \nL 394.160937 0 \nL 0 0 \nz\n\" style=\"fill:none;\"/>\n  </g>\n  <g id=\"axes_1\">\n   <g id=\"patch_2\">\n    <path d=\"M 52.160938 239.758125 \nL 386.960938 239.758125 \nL 386.960938 22.318125 \nL 52.160938 22.318125 \nz\n\" style=\"fill:#ffffff;\"/>\n   </g>\n   <g id=\"PathCollection_1\">\n    <defs>\n     <path d=\"M 0 3 \nC 0.795609 3 1.55874 2.683901 2.12132 2.12132 \nC 2.683901 1.55874 3 0.795609 3 -0 \nC 3 -0.795609 2.683901 -1.55874 2.12132 -2.12132 \nC 1.55874 -2.683901 0.795609 -3 0 -3 \nC -0.795609 -3 -1.55874 -2.683901 -2.12132 -2.12132 \nC -2.683901 -1.55874 -3 -0.795609 -3 0 \nC -3 0.795609 -2.683901 1.55874 -2.12132 2.12132 \nC -1.55874 2.683901 -0.795609 3 0 3 \nz\n\" id=\"C0_0_ec2b29fe0f\"/>\n    </defs>\n    <g clip-path=\"url(#pf8f4a01bc6)\">\n     <use style=\"fill:#0000ff;stroke:#0000ff;\" x=\"120.642756\" xlink:href=\"#C0_0_ec2b29fe0f\" y=\"81.303445\"/>\n    </g>\n    <g clip-path=\"url(#pf8f4a01bc6)\">\n     <use style=\"fill:#ff0000;stroke:#ff0000;\" x=\"222.604574\" xlink:href=\"#C0_0_ec2b29fe0f\" y=\"152.717345\"/>\n    </g>\n    <g clip-path=\"url(#pf8f4a01bc6)\">\n     <use style=\"fill:#0000ff;stroke:#0000ff;\" x=\"242.38821\" xlink:href=\"#C0_0_ec2b29fe0f\" y=\"101.707416\"/>\n    </g>\n    <g clip-path=\"url(#pf8f4a01bc6)\">\n     <use style=\"fill:#0000ff;stroke:#0000ff;\" x=\"158.68821\" xlink:href=\"#C0_0_ec2b29fe0f\" y=\"162.91933\"/>\n    </g>\n    <g clip-path=\"url(#pf8f4a01bc6)\">\n     <use style=\"fill:#ff0000;stroke:#ff0000;\" x=\"333.697301\" xlink:href=\"#C0_0_ec2b29fe0f\" y=\"83.216317\"/>\n    </g>\n    <g clip-path=\"url(#pf8f4a01bc6)\">\n     <use style=\"fill:#0000ff;stroke:#0000ff;\" x=\"219.713119\" xlink:href=\"#C0_0_ec2b29fe0f\" y=\"130.9106\"/>\n    </g>\n    <g clip-path=\"url(#pf8f4a01bc6)\">\n     <use style=\"fill:#ff0000;stroke:#ff0000;\" x=\"216.517301\" xlink:href=\"#C0_0_ec2b29fe0f\" y=\"169.295571\"/>\n    </g>\n    <g clip-path=\"url(#pf8f4a01bc6)\">\n     <use style=\"fill:#ff0000;stroke:#ff0000;\" x=\"242.38821\" xlink:href=\"#C0_0_ec2b29fe0f\" y=\"132.632185\"/>\n    </g>\n   </g>\n   <g id=\"matplotlib.axis_1\">\n    <g id=\"xtick_1\">\n     <g id=\"line2d_1\">\n      <defs>\n       <path d=\"M 0 0 \nL 0 3.5 \n\" id=\"m386a90182b\" style=\"stroke:#000000;stroke-width:0.8;\"/>\n      </defs>\n      <g>\n       <use style=\"stroke:#000000;stroke-width:0.8;\" x=\"67.379119\" xlink:href=\"#m386a90182b\" y=\"239.758125\"/>\n      </g>\n     </g>\n     <g id=\"text_1\">\n      <!-- −1.00 -->\n      <g transform=\"translate(52.056463 254.356562)scale(0.1 -0.1)\">\n       <defs>\n        <path d=\"M 678 2272 \nL 4684 2272 \nL 4684 1741 \nL 678 1741 \nL 678 2272 \nz\n\" id=\"DejaVuSans-2212\" transform=\"scale(0.015625)\"/>\n        <path d=\"M 794 531 \nL 1825 531 \nL 1825 4091 \nL 703 3866 \nL 703 4441 \nL 1819 4666 \nL 2450 4666 \nL 2450 531 \nL 3481 531 \nL 3481 0 \nL 794 0 \nL 794 531 \nz\n\" id=\"DejaVuSans-31\" transform=\"scale(0.015625)\"/>\n        <path d=\"M 684 794 \nL 1344 794 \nL 1344 0 \nL 684 0 \nL 684 794 \nz\n\" id=\"DejaVuSans-2e\" transform=\"scale(0.015625)\"/>\n        <path d=\"M 2034 4250 \nQ 1547 4250 1301 3770 \nQ 1056 3291 1056 2328 \nQ 1056 1369 1301 889 \nQ 1547 409 2034 409 \nQ 2525 409 2770 889 \nQ 3016 1369 3016 2328 \nQ 3016 3291 2770 3770 \nQ 2525 4250 2034 4250 \nz\nM 2034 4750 \nQ 2819 4750 3233 4129 \nQ 3647 3509 3647 2328 \nQ 3647 1150 3233 529 \nQ 2819 -91 2034 -91 \nQ 1250 -91 836 529 \nQ 422 1150 422 2328 \nQ 422 3509 836 4129 \nQ 1250 4750 2034 4750 \nz\n\" id=\"DejaVuSans-30\" transform=\"scale(0.015625)\"/>\n       </defs>\n       <use xlink:href=\"#DejaVuSans-2212\"/>\n       <use x=\"83.789062\" xlink:href=\"#DejaVuSans-31\"/>\n       <use x=\"147.412109\" xlink:href=\"#DejaVuSans-2e\"/>\n       <use x=\"179.199219\" xlink:href=\"#DejaVuSans-30\"/>\n       <use x=\"242.822266\" xlink:href=\"#DejaVuSans-30\"/>\n      </g>\n     </g>\n    </g>\n    <g id=\"xtick_2\">\n     <g id=\"line2d_2\">\n      <g>\n       <use style=\"stroke:#000000;stroke-width:0.8;\" x=\"105.424574\" xlink:href=\"#m386a90182b\" y=\"239.758125\"/>\n      </g>\n     </g>\n     <g id=\"text_2\">\n      <!-- −0.75 -->\n      <g transform=\"translate(90.101918 254.356562)scale(0.1 -0.1)\">\n       <defs>\n        <path d=\"M 525 4666 \nL 3525 4666 \nL 3525 4397 \nL 1831 0 \nL 1172 0 \nL 2766 4134 \nL 525 4134 \nL 525 4666 \nz\n\" id=\"DejaVuSans-37\" transform=\"scale(0.015625)\"/>\n        <path d=\"M 691 4666 \nL 3169 4666 \nL 3169 4134 \nL 1269 4134 \nL 1269 2991 \nQ 1406 3038 1543 3061 \nQ 1681 3084 1819 3084 \nQ 2600 3084 3056 2656 \nQ 3513 2228 3513 1497 \nQ 3513 744 3044 326 \nQ 2575 -91 1722 -91 \nQ 1428 -91 1123 -41 \nQ 819 9 494 109 \nL 494 744 \nQ 775 591 1075 516 \nQ 1375 441 1709 441 \nQ 2250 441 2565 725 \nQ 2881 1009 2881 1497 \nQ 2881 1984 2565 2268 \nQ 2250 2553 1709 2553 \nQ 1456 2553 1204 2497 \nQ 953 2441 691 2322 \nL 691 4666 \nz\n\" id=\"DejaVuSans-35\" transform=\"scale(0.015625)\"/>\n       </defs>\n       <use xlink:href=\"#DejaVuSans-2212\"/>\n       <use x=\"83.789062\" xlink:href=\"#DejaVuSans-30\"/>\n       <use x=\"147.412109\" xlink:href=\"#DejaVuSans-2e\"/>\n       <use x=\"179.199219\" xlink:href=\"#DejaVuSans-37\"/>\n       <use x=\"242.822266\" xlink:href=\"#DejaVuSans-35\"/>\n      </g>\n     </g>\n    </g>\n    <g id=\"xtick_3\">\n     <g id=\"line2d_3\">\n      <g>\n       <use style=\"stroke:#000000;stroke-width:0.8;\" x=\"143.470028\" xlink:href=\"#m386a90182b\" y=\"239.758125\"/>\n      </g>\n     </g>\n     <g id=\"text_3\">\n      <!-- −0.50 -->\n      <g transform=\"translate(128.147372 254.356562)scale(0.1 -0.1)\">\n       <use xlink:href=\"#DejaVuSans-2212\"/>\n       <use x=\"83.789062\" xlink:href=\"#DejaVuSans-30\"/>\n       <use x=\"147.412109\" xlink:href=\"#DejaVuSans-2e\"/>\n       <use x=\"179.199219\" xlink:href=\"#DejaVuSans-35\"/>\n       <use x=\"242.822266\" xlink:href=\"#DejaVuSans-30\"/>\n      </g>\n     </g>\n    </g>\n    <g id=\"xtick_4\">\n     <g id=\"line2d_4\">\n      <g>\n       <use style=\"stroke:#000000;stroke-width:0.8;\" x=\"181.515483\" xlink:href=\"#m386a90182b\" y=\"239.758125\"/>\n      </g>\n     </g>\n     <g id=\"text_4\">\n      <!-- −0.25 -->\n      <g transform=\"translate(166.192827 254.356562)scale(0.1 -0.1)\">\n       <defs>\n        <path d=\"M 1228 531 \nL 3431 531 \nL 3431 0 \nL 469 0 \nL 469 531 \nQ 828 903 1448 1529 \nQ 2069 2156 2228 2338 \nQ 2531 2678 2651 2914 \nQ 2772 3150 2772 3378 \nQ 2772 3750 2511 3984 \nQ 2250 4219 1831 4219 \nQ 1534 4219 1204 4116 \nQ 875 4013 500 3803 \nL 500 4441 \nQ 881 4594 1212 4672 \nQ 1544 4750 1819 4750 \nQ 2544 4750 2975 4387 \nQ 3406 4025 3406 3419 \nQ 3406 3131 3298 2873 \nQ 3191 2616 2906 2266 \nQ 2828 2175 2409 1742 \nQ 1991 1309 1228 531 \nz\n\" id=\"DejaVuSans-32\" transform=\"scale(0.015625)\"/>\n       </defs>\n       <use xlink:href=\"#DejaVuSans-2212\"/>\n       <use x=\"83.789062\" xlink:href=\"#DejaVuSans-30\"/>\n       <use x=\"147.412109\" xlink:href=\"#DejaVuSans-2e\"/>\n       <use x=\"179.199219\" xlink:href=\"#DejaVuSans-32\"/>\n       <use x=\"242.822266\" xlink:href=\"#DejaVuSans-35\"/>\n      </g>\n     </g>\n    </g>\n    <g id=\"xtick_5\">\n     <g id=\"line2d_5\">\n      <g>\n       <use style=\"stroke:#000000;stroke-width:0.8;\" x=\"219.560938\" xlink:href=\"#m386a90182b\" y=\"239.758125\"/>\n      </g>\n     </g>\n     <g id=\"text_5\">\n      <!-- 0.00 -->\n      <g transform=\"translate(208.428125 254.356562)scale(0.1 -0.1)\">\n       <use xlink:href=\"#DejaVuSans-30\"/>\n       <use x=\"63.623047\" xlink:href=\"#DejaVuSans-2e\"/>\n       <use x=\"95.410156\" xlink:href=\"#DejaVuSans-30\"/>\n       <use x=\"159.033203\" xlink:href=\"#DejaVuSans-30\"/>\n      </g>\n     </g>\n    </g>\n    <g id=\"xtick_6\">\n     <g id=\"line2d_6\">\n      <g>\n       <use style=\"stroke:#000000;stroke-width:0.8;\" x=\"257.606392\" xlink:href=\"#m386a90182b\" y=\"239.758125\"/>\n      </g>\n     </g>\n     <g id=\"text_6\">\n      <!-- 0.25 -->\n      <g transform=\"translate(246.47358 254.356562)scale(0.1 -0.1)\">\n       <use xlink:href=\"#DejaVuSans-30\"/>\n       <use x=\"63.623047\" xlink:href=\"#DejaVuSans-2e\"/>\n       <use x=\"95.410156\" xlink:href=\"#DejaVuSans-32\"/>\n       <use x=\"159.033203\" xlink:href=\"#DejaVuSans-35\"/>\n      </g>\n     </g>\n    </g>\n    <g id=\"xtick_7\">\n     <g id=\"line2d_7\">\n      <g>\n       <use style=\"stroke:#000000;stroke-width:0.8;\" x=\"295.651847\" xlink:href=\"#m386a90182b\" y=\"239.758125\"/>\n      </g>\n     </g>\n     <g id=\"text_7\">\n      <!-- 0.50 -->\n      <g transform=\"translate(284.519034 254.356562)scale(0.1 -0.1)\">\n       <use xlink:href=\"#DejaVuSans-30\"/>\n       <use x=\"63.623047\" xlink:href=\"#DejaVuSans-2e\"/>\n       <use x=\"95.410156\" xlink:href=\"#DejaVuSans-35\"/>\n       <use x=\"159.033203\" xlink:href=\"#DejaVuSans-30\"/>\n      </g>\n     </g>\n    </g>\n    <g id=\"xtick_8\">\n     <g id=\"line2d_8\">\n      <g>\n       <use style=\"stroke:#000000;stroke-width:0.8;\" x=\"333.697301\" xlink:href=\"#m386a90182b\" y=\"239.758125\"/>\n      </g>\n     </g>\n     <g id=\"text_8\">\n      <!-- 0.75 -->\n      <g transform=\"translate(322.564489 254.356562)scale(0.1 -0.1)\">\n       <use xlink:href=\"#DejaVuSans-30\"/>\n       <use x=\"63.623047\" xlink:href=\"#DejaVuSans-2e\"/>\n       <use x=\"95.410156\" xlink:href=\"#DejaVuSans-37\"/>\n       <use x=\"159.033203\" xlink:href=\"#DejaVuSans-35\"/>\n      </g>\n     </g>\n    </g>\n    <g id=\"xtick_9\">\n     <g id=\"line2d_9\">\n      <g>\n       <use style=\"stroke:#000000;stroke-width:0.8;\" x=\"371.742756\" xlink:href=\"#m386a90182b\" y=\"239.758125\"/>\n      </g>\n     </g>\n     <g id=\"text_9\">\n      <!-- 1.00 -->\n      <g transform=\"translate(360.609943 254.356562)scale(0.1 -0.1)\">\n       <use xlink:href=\"#DejaVuSans-31\"/>\n       <use x=\"63.623047\" xlink:href=\"#DejaVuSans-2e\"/>\n       <use x=\"95.410156\" xlink:href=\"#DejaVuSans-30\"/>\n       <use x=\"159.033203\" xlink:href=\"#DejaVuSans-30\"/>\n      </g>\n     </g>\n    </g>\n    <g id=\"text_10\">\n     <!-- X -->\n     <g transform=\"translate(216.135938 268.034687)scale(0.1 -0.1)\">\n      <defs>\n       <path d=\"M 403 4666 \nL 1081 4666 \nL 2241 2931 \nL 3406 4666 \nL 4084 4666 \nL 2584 2425 \nL 4184 0 \nL 3506 0 \nL 2194 1984 \nL 872 0 \nL 191 0 \nL 1856 2491 \nL 403 4666 \nz\n\" id=\"DejaVuSans-58\" transform=\"scale(0.015625)\"/>\n      </defs>\n      <use xlink:href=\"#DejaVuSans-58\"/>\n     </g>\n    </g>\n   </g>\n   <g id=\"matplotlib.axis_2\">\n    <g id=\"ytick_1\">\n     <g id=\"line2d_10\">\n      <defs>\n       <path d=\"M 0 0 \nL -3.5 0 \n\" id=\"m52c3548e95\" style=\"stroke:#000000;stroke-width:0.8;\"/>\n      </defs>\n      <g>\n       <use style=\"stroke:#000000;stroke-width:0.8;\" x=\"52.160938\" xlink:href=\"#m52c3548e95\" y=\"226.681741\"/>\n      </g>\n     </g>\n     <g id=\"text_11\">\n      <!-- −1.5 -->\n      <g transform=\"translate(20.878125 230.48096)scale(0.1 -0.1)\">\n       <use xlink:href=\"#DejaVuSans-2212\"/>\n       <use x=\"83.789062\" xlink:href=\"#DejaVuSans-31\"/>\n       <use x=\"147.412109\" xlink:href=\"#DejaVuSans-2e\"/>\n       <use x=\"179.199219\" xlink:href=\"#DejaVuSans-35\"/>\n      </g>\n     </g>\n    </g>\n    <g id=\"ytick_2\">\n     <g id=\"line2d_11\">\n      <g>\n       <use style=\"stroke:#000000;stroke-width:0.8;\" x=\"52.160938\" xlink:href=\"#m52c3548e95\" y=\"194.800536\"/>\n      </g>\n     </g>\n     <g id=\"text_12\">\n      <!-- −1.0 -->\n      <g transform=\"translate(20.878125 198.599754)scale(0.1 -0.1)\">\n       <use xlink:href=\"#DejaVuSans-2212\"/>\n       <use x=\"83.789062\" xlink:href=\"#DejaVuSans-31\"/>\n       <use x=\"147.412109\" xlink:href=\"#DejaVuSans-2e\"/>\n       <use x=\"179.199219\" xlink:href=\"#DejaVuSans-30\"/>\n      </g>\n     </g>\n    </g>\n    <g id=\"ytick_3\">\n     <g id=\"line2d_12\">\n      <g>\n       <use style=\"stroke:#000000;stroke-width:0.8;\" x=\"52.160938\" xlink:href=\"#m52c3548e95\" y=\"162.91933\"/>\n      </g>\n     </g>\n     <g id=\"text_13\">\n      <!-- −0.5 -->\n      <g transform=\"translate(20.878125 166.718549)scale(0.1 -0.1)\">\n       <use xlink:href=\"#DejaVuSans-2212\"/>\n       <use x=\"83.789062\" xlink:href=\"#DejaVuSans-30\"/>\n       <use x=\"147.412109\" xlink:href=\"#DejaVuSans-2e\"/>\n       <use x=\"179.199219\" xlink:href=\"#DejaVuSans-35\"/>\n      </g>\n     </g>\n    </g>\n    <g id=\"ytick_4\">\n     <g id=\"line2d_13\">\n      <g>\n       <use style=\"stroke:#000000;stroke-width:0.8;\" x=\"52.160938\" xlink:href=\"#m52c3548e95\" y=\"131.038125\"/>\n      </g>\n     </g>\n     <g id=\"text_14\">\n      <!-- 0.0 -->\n      <g transform=\"translate(29.257812 134.837344)scale(0.1 -0.1)\">\n       <use xlink:href=\"#DejaVuSans-30\"/>\n       <use x=\"63.623047\" xlink:href=\"#DejaVuSans-2e\"/>\n       <use x=\"95.410156\" xlink:href=\"#DejaVuSans-30\"/>\n      </g>\n     </g>\n    </g>\n    <g id=\"ytick_5\">\n     <g id=\"line2d_14\">\n      <g>\n       <use style=\"stroke:#000000;stroke-width:0.8;\" x=\"52.160938\" xlink:href=\"#m52c3548e95\" y=\"99.15692\"/>\n      </g>\n     </g>\n     <g id=\"text_15\">\n      <!-- 0.5 -->\n      <g transform=\"translate(29.257812 102.956138)scale(0.1 -0.1)\">\n       <use xlink:href=\"#DejaVuSans-30\"/>\n       <use x=\"63.623047\" xlink:href=\"#DejaVuSans-2e\"/>\n       <use x=\"95.410156\" xlink:href=\"#DejaVuSans-35\"/>\n      </g>\n     </g>\n    </g>\n    <g id=\"ytick_6\">\n     <g id=\"line2d_15\">\n      <g>\n       <use style=\"stroke:#000000;stroke-width:0.8;\" x=\"52.160938\" xlink:href=\"#m52c3548e95\" y=\"67.275714\"/>\n      </g>\n     </g>\n     <g id=\"text_16\">\n      <!-- 1.0 -->\n      <g transform=\"translate(29.257812 71.074933)scale(0.1 -0.1)\">\n       <use xlink:href=\"#DejaVuSans-31\"/>\n       <use x=\"63.623047\" xlink:href=\"#DejaVuSans-2e\"/>\n       <use x=\"95.410156\" xlink:href=\"#DejaVuSans-30\"/>\n      </g>\n     </g>\n    </g>\n    <g id=\"ytick_7\">\n     <g id=\"line2d_16\">\n      <g>\n       <use style=\"stroke:#000000;stroke-width:0.8;\" x=\"52.160938\" xlink:href=\"#m52c3548e95\" y=\"35.394509\"/>\n      </g>\n     </g>\n     <g id=\"text_17\">\n      <!-- 1.5 -->\n      <g transform=\"translate(29.257812 39.193728)scale(0.1 -0.1)\">\n       <use xlink:href=\"#DejaVuSans-31\"/>\n       <use x=\"63.623047\" xlink:href=\"#DejaVuSans-2e\"/>\n       <use x=\"95.410156\" xlink:href=\"#DejaVuSans-35\"/>\n      </g>\n     </g>\n    </g>\n    <g id=\"text_18\">\n     <!-- Y -->\n     <g transform=\"translate(14.798438 134.092031)rotate(-90)scale(0.1 -0.1)\">\n      <defs>\n       <path d=\"M -13 4666 \nL 666 4666 \nL 1959 2747 \nL 3244 4666 \nL 3922 4666 \nL 2272 2222 \nL 2272 0 \nL 1638 0 \nL 1638 2222 \nL -13 4666 \nz\n\" id=\"DejaVuSans-59\" transform=\"scale(0.015625)\"/>\n      </defs>\n      <use xlink:href=\"#DejaVuSans-59\"/>\n     </g>\n    </g>\n   </g>\n   <g id=\"line2d_17\">\n    <path clip-path=\"url(#pf8f4a01bc6)\" d=\"M 67.379119 229.874489 \nL 219.560938 131.038125 \nL 371.742756 32.201761 \n\" style=\"fill:none;stroke:#1f77b4;stroke-linecap:square;stroke-width:1.5;\"/>\n   </g>\n   <g id=\"patch_3\">\n    <path d=\"M 52.160938 239.758125 \nL 52.160938 22.318125 \n\" style=\"fill:none;stroke:#000000;stroke-linecap:square;stroke-linejoin:miter;stroke-width:0.8;\"/>\n   </g>\n   <g id=\"patch_4\">\n    <path d=\"M 386.960938 239.758125 \nL 386.960938 22.318125 \n\" style=\"fill:none;stroke:#000000;stroke-linecap:square;stroke-linejoin:miter;stroke-width:0.8;\"/>\n   </g>\n   <g id=\"patch_5\">\n    <path d=\"M 52.160938 239.758125 \nL 386.960938 239.758125 \n\" style=\"fill:none;stroke:#000000;stroke-linecap:square;stroke-linejoin:miter;stroke-width:0.8;\"/>\n   </g>\n   <g id=\"patch_6\">\n    <path d=\"M 52.160938 22.318125 \nL 386.960938 22.318125 \n\" style=\"fill:none;stroke:#000000;stroke-linecap:square;stroke-linejoin:miter;stroke-width:0.8;\"/>\n   </g>\n   <g id=\"text_19\">\n    <!-- Separable -->\n    <g transform=\"translate(189.262813 16.318125)scale(0.12 -0.12)\">\n     <defs>\n      <path d=\"M 3425 4513 \nL 3425 3897 \nQ 3066 4069 2747 4153 \nQ 2428 4238 2131 4238 \nQ 1616 4238 1336 4038 \nQ 1056 3838 1056 3469 \nQ 1056 3159 1242 3001 \nQ 1428 2844 1947 2747 \nL 2328 2669 \nQ 3034 2534 3370 2195 \nQ 3706 1856 3706 1288 \nQ 3706 609 3251 259 \nQ 2797 -91 1919 -91 \nQ 1588 -91 1214 -16 \nQ 841 59 441 206 \nL 441 856 \nQ 825 641 1194 531 \nQ 1563 422 1919 422 \nQ 2459 422 2753 634 \nQ 3047 847 3047 1241 \nQ 3047 1584 2836 1778 \nQ 2625 1972 2144 2069 \nL 1759 2144 \nQ 1053 2284 737 2584 \nQ 422 2884 422 3419 \nQ 422 4038 858 4394 \nQ 1294 4750 2059 4750 \nQ 2388 4750 2728 4690 \nQ 3069 4631 3425 4513 \nz\n\" id=\"DejaVuSans-53\" transform=\"scale(0.015625)\"/>\n      <path d=\"M 3597 1894 \nL 3597 1613 \nL 953 1613 \nQ 991 1019 1311 708 \nQ 1631 397 2203 397 \nQ 2534 397 2845 478 \nQ 3156 559 3463 722 \nL 3463 178 \nQ 3153 47 2828 -22 \nQ 2503 -91 2169 -91 \nQ 1331 -91 842 396 \nQ 353 884 353 1716 \nQ 353 2575 817 3079 \nQ 1281 3584 2069 3584 \nQ 2775 3584 3186 3129 \nQ 3597 2675 3597 1894 \nz\nM 3022 2063 \nQ 3016 2534 2758 2815 \nQ 2500 3097 2075 3097 \nQ 1594 3097 1305 2825 \nQ 1016 2553 972 2059 \nL 3022 2063 \nz\n\" id=\"DejaVuSans-65\" transform=\"scale(0.015625)\"/>\n      <path d=\"M 1159 525 \nL 1159 -1331 \nL 581 -1331 \nL 581 3500 \nL 1159 3500 \nL 1159 2969 \nQ 1341 3281 1617 3432 \nQ 1894 3584 2278 3584 \nQ 2916 3584 3314 3078 \nQ 3713 2572 3713 1747 \nQ 3713 922 3314 415 \nQ 2916 -91 2278 -91 \nQ 1894 -91 1617 61 \nQ 1341 213 1159 525 \nz\nM 3116 1747 \nQ 3116 2381 2855 2742 \nQ 2594 3103 2138 3103 \nQ 1681 3103 1420 2742 \nQ 1159 2381 1159 1747 \nQ 1159 1113 1420 752 \nQ 1681 391 2138 391 \nQ 2594 391 2855 752 \nQ 3116 1113 3116 1747 \nz\n\" id=\"DejaVuSans-70\" transform=\"scale(0.015625)\"/>\n      <path d=\"M 2194 1759 \nQ 1497 1759 1228 1600 \nQ 959 1441 959 1056 \nQ 959 750 1161 570 \nQ 1363 391 1709 391 \nQ 2188 391 2477 730 \nQ 2766 1069 2766 1631 \nL 2766 1759 \nL 2194 1759 \nz\nM 3341 1997 \nL 3341 0 \nL 2766 0 \nL 2766 531 \nQ 2569 213 2275 61 \nQ 1981 -91 1556 -91 \nQ 1019 -91 701 211 \nQ 384 513 384 1019 \nQ 384 1609 779 1909 \nQ 1175 2209 1959 2209 \nL 2766 2209 \nL 2766 2266 \nQ 2766 2663 2505 2880 \nQ 2244 3097 1772 3097 \nQ 1472 3097 1187 3025 \nQ 903 2953 641 2809 \nL 641 3341 \nQ 956 3463 1253 3523 \nQ 1550 3584 1831 3584 \nQ 2591 3584 2966 3190 \nQ 3341 2797 3341 1997 \nz\n\" id=\"DejaVuSans-61\" transform=\"scale(0.015625)\"/>\n      <path d=\"M 2631 2963 \nQ 2534 3019 2420 3045 \nQ 2306 3072 2169 3072 \nQ 1681 3072 1420 2755 \nQ 1159 2438 1159 1844 \nL 1159 0 \nL 581 0 \nL 581 3500 \nL 1159 3500 \nL 1159 2956 \nQ 1341 3275 1631 3429 \nQ 1922 3584 2338 3584 \nQ 2397 3584 2469 3576 \nQ 2541 3569 2628 3553 \nL 2631 2963 \nz\n\" id=\"DejaVuSans-72\" transform=\"scale(0.015625)\"/>\n      <path d=\"M 3116 1747 \nQ 3116 2381 2855 2742 \nQ 2594 3103 2138 3103 \nQ 1681 3103 1420 2742 \nQ 1159 2381 1159 1747 \nQ 1159 1113 1420 752 \nQ 1681 391 2138 391 \nQ 2594 391 2855 752 \nQ 3116 1113 3116 1747 \nz\nM 1159 2969 \nQ 1341 3281 1617 3432 \nQ 1894 3584 2278 3584 \nQ 2916 3584 3314 3078 \nQ 3713 2572 3713 1747 \nQ 3713 922 3314 415 \nQ 2916 -91 2278 -91 \nQ 1894 -91 1617 61 \nQ 1341 213 1159 525 \nL 1159 0 \nL 581 0 \nL 581 4863 \nL 1159 4863 \nL 1159 2969 \nz\n\" id=\"DejaVuSans-62\" transform=\"scale(0.015625)\"/>\n      <path d=\"M 603 4863 \nL 1178 4863 \nL 1178 0 \nL 603 0 \nL 603 4863 \nz\n\" id=\"DejaVuSans-6c\" transform=\"scale(0.015625)\"/>\n     </defs>\n     <use xlink:href=\"#DejaVuSans-53\"/>\n     <use x=\"63.476562\" xlink:href=\"#DejaVuSans-65\"/>\n     <use x=\"125\" xlink:href=\"#DejaVuSans-70\"/>\n     <use x=\"188.476562\" xlink:href=\"#DejaVuSans-61\"/>\n     <use x=\"249.755859\" xlink:href=\"#DejaVuSans-72\"/>\n     <use x=\"290.869141\" xlink:href=\"#DejaVuSans-61\"/>\n     <use x=\"352.148438\" xlink:href=\"#DejaVuSans-62\"/>\n     <use x=\"415.625\" xlink:href=\"#DejaVuSans-6c\"/>\n     <use x=\"443.408203\" xlink:href=\"#DejaVuSans-65\"/>\n    </g>\n   </g>\n  </g>\n </g>\n <defs>\n  <clipPath id=\"pf8f4a01bc6\">\n   <rect height=\"217.44\" width=\"334.8\" x=\"52.160938\" y=\"22.318125\"/>\n  </clipPath>\n </defs>\n</svg>\n",
      "image/png": "[encoded data removed]"
     },
     "metadata": {
      "needs_background": "light"
     }
    }
   ],
   "source": [
    "# separable\n",
    "inputs2 = [[-0.65, 0.78,], [0.02, -0.34], [0.15, 0.46], [-0.4, -0.5], [0.75, 0.75], [0.001, 0.002], [-0.02, -0.6], [0.15, -0.025]]\n",
    "targets2 = [[0], [1], [0], [0], [1], [0], [1], [1]]\n",
    "\n",
    "\n",
    "# Graph datasets and decision lines\n",
    "colors = [\"blue\", \"red\"]\n",
    "colormap = matplotlib.colors.ListedColormap(colors)\n",
    "\n",
    "# sep\n",
    "targets2Flat = list(chain.from_iterable(targets2))\n",
    "\n",
    "X2 = []\n",
    "Y2 = []\n",
    "for item in inputs2:\n",
    "    X2.append(item[0])\n",
    "    Y2.append(item[1])\n",
    "\n",
    "inputs2, targets2 = skdata.load_boston(return_X_y=True)\n",
    "plt.title('Separable')\n",
    "plt.xlabel('X')\n",
    "plt.ylabel('Y')\n",
    "plt.scatter(X2, Y2, c=targets2Flat, cmap=colormap)\n",
    "\n",
    "\n",
    "weights2 = perceptron2.get_weights()\n",
    "x_line2 = np.arange(-1,2)\n",
    "y_line2 = (-weights2[0]/weights2[1])* x_line2 - (weights2[2]/weights2[1]) \n",
    "plt_un.plot(x_line2,y_line2)\n",
    "\n",
    "\n",
    "\n",
    "plt.show"
   ]
  },
  {
   "cell_type": "markdown",
   "metadata": {},
   "source": [
    "### 2.4 Discuss why the perceptron won’t converge on non-linearly separable data."
   ]
  },
  {
   "cell_type": "markdown",
   "metadata": {},
   "source": [
    "*Discussion goes here*\n",
    "A perceptron won't converge on non-lineraly separable data because no straight line will be able to fully accurately separate the data. This means that this problem is not linearly solveable. Therefore, the line will continue to float around all the possible spots, but won't set on one answer."
   ]
  },
  {
   "cell_type": "markdown",
   "metadata": {
    "id": "0ySvhd1lUGSe"
   },
   "source": [
    "## 3. (20%) Use your perceptron code to learn this version of the [voting data set](https://raw.githubusercontent.com/cs472ta/CS472/master/datasets/voting-dataset.arff).\n",
    "\n",
    "This particular task is an edited version of the standard voting set, where we have replaced all the “don’t know” values with the most common value for the particular attribute.  \n",
    "\n",
    "### 3.1 Create a table that reports the final training and test set accuracy and the number of epochs for each trial.\n",
    "\n",
    "- Try it five times with different random 70/30 splits. \n",
    "- Use your own code to randomize and make splits. \n",
    "- Report the 5 trials and the average across the 5 trials in a table.  \n",
    "\n",
    "| Trial | Training Accuracy | Test accuracy | Number of epochs |\n",
    "| --- | --- | --- | --- |\n",
    "| 1 | .95 | .55 | 4 |\n",
    "| 2 | .85 | .45 | 6 |\n",
    "| Average | .9 | .5 | 5 | \n",
    "\n",
    "*- As a rough sanity check, typical Perceptron test accuracies for the voting data set are 90%-98%.*\n"
   ]
  },
  {
   "cell_type": "code",
   "execution_count": 189,
   "metadata": {
    "id": "Romyl4G8Trki",
    "tags": []
   },
   "outputs": [
    {
     "output_type": "stream",
     "name": "stdout",
     "text": [
      "  % Total    % Received % Xferd  Average Speed   Time    Time     Time  Current\n",
      "                                 Dload  Upload   Total   Spent    Left  Speed\n",
      "100 43825  100 43825    0     0   460k      0 --:--:-- --:--:-- --:--:--  460k\n"
     ]
    },
    {
     "output_type": "display_data",
     "data": {
      "text/plain": "<IPython.core.display.HTML object>",
      "text/html": "<table>\n<thead>\n<tr><th>Trial  </th><th style=\"text-align: right;\">  Training Accuracy</th><th style=\"text-align: right;\">  Test Accuracy</th><th style=\"text-align: right;\">  Number of Epochs</th></tr>\n</thead>\n<tbody>\n<tr><td>1      </td><td style=\"text-align: right;\">           0.863777</td><td style=\"text-align: right;\">       0.862319</td><td style=\"text-align: right;\">              13  </td></tr>\n<tr><td>2      </td><td style=\"text-align: right;\">           0.950464</td><td style=\"text-align: right;\">       0.92029 </td><td style=\"text-align: right;\">              15  </td></tr>\n<tr><td>3      </td><td style=\"text-align: right;\">           0.959752</td><td style=\"text-align: right;\">       0.934783</td><td style=\"text-align: right;\">              17  </td></tr>\n<tr><td>4      </td><td style=\"text-align: right;\">           0.962848</td><td style=\"text-align: right;\">       0.927536</td><td style=\"text-align: right;\">              18  </td></tr>\n<tr><td>5      </td><td style=\"text-align: right;\">           0.959752</td><td style=\"text-align: right;\">       0.934783</td><td style=\"text-align: right;\">              16  </td></tr>\n<tr><td>Average</td><td style=\"text-align: right;\">           0.939319</td><td style=\"text-align: right;\">       0.915942</td><td style=\"text-align: right;\">              15.8</td></tr>\n</tbody>\n</table>"
     },
     "metadata": {}
    },
    {
     "output_type": "display_data",
     "data": {
      "text/plain": "<IPython.core.display.HTML object>",
      "text/html": "<table>\n<thead>\n<tr><th style=\"text-align: right;\">        W1</th><th style=\"text-align: right;\">          W2</th><th style=\"text-align: right;\">       W3</th><th style=\"text-align: right;\">     W4</th><th style=\"text-align: right;\">  W5</th><th style=\"text-align: right;\">          W6</th><th style=\"text-align: right;\">      W7</th><th style=\"text-align: right;\">  W8</th><th style=\"text-align: right;\">          W9</th><th style=\"text-align: right;\">      W10</th><th style=\"text-align: right;\">      W11</th><th style=\"text-align: right;\">         W12</th><th style=\"text-align: right;\">      W13</th><th style=\"text-align: right;\">         W14</th><th style=\"text-align: right;\">  W15</th><th style=\"text-align: right;\">     W16</th><th style=\"text-align: right;\">    B</th></tr>\n</thead>\n<tbody>\n<tr><td style=\"text-align: right;\">-0.3      </td><td style=\"text-align: right;\">-0.5        </td><td style=\"text-align: right;\">-1       </td><td style=\"text-align: right;\">1      </td><td style=\"text-align: right;\"> 0.1</td><td style=\"text-align: right;\">-0.4        </td><td style=\"text-align: right;\">0.1     </td><td style=\"text-align: right;\">0.8 </td><td style=\"text-align: right;\">-1          </td><td style=\"text-align: right;\">-0.1     </td><td style=\"text-align: right;\">-1       </td><td style=\"text-align: right;\"> 0.5        </td><td style=\"text-align: right;\"> 0.1     </td><td style=\"text-align: right;\"> 0.2        </td><td style=\"text-align: right;\">-0.1 </td><td style=\"text-align: right;\">0.1     </td><td style=\"text-align: right;\">-0.8 </td></tr>\n<tr><td style=\"text-align: right;\"> 0.2      </td><td style=\"text-align: right;\">-0.3        </td><td style=\"text-align: right;\">-0.8     </td><td style=\"text-align: right;\">1.4    </td><td style=\"text-align: right;\"> 0.8</td><td style=\"text-align: right;\">-2.77556e-17</td><td style=\"text-align: right;\">0.6     </td><td style=\"text-align: right;\">0.8 </td><td style=\"text-align: right;\">-0.5        </td><td style=\"text-align: right;\"> 0.2     </td><td style=\"text-align: right;\">-0.8     </td><td style=\"text-align: right;\"> 0.2        </td><td style=\"text-align: right;\"> 0.1     </td><td style=\"text-align: right;\"> 2.77556e-17</td><td style=\"text-align: right;\">-0.4 </td><td style=\"text-align: right;\">0.1     </td><td style=\"text-align: right;\">-0.9 </td></tr>\n<tr><td style=\"text-align: right;\"> 0.4      </td><td style=\"text-align: right;\"> 0.1        </td><td style=\"text-align: right;\">-0.8     </td><td style=\"text-align: right;\">1.6    </td><td style=\"text-align: right;\"> 0.8</td><td style=\"text-align: right;\">-0.3        </td><td style=\"text-align: right;\">0.1     </td><td style=\"text-align: right;\">1   </td><td style=\"text-align: right;\">-0.5        </td><td style=\"text-align: right;\"> 0.6     </td><td style=\"text-align: right;\">-0.8     </td><td style=\"text-align: right;\"> 0.3        </td><td style=\"text-align: right;\"> 0.5     </td><td style=\"text-align: right;\">-0.1        </td><td style=\"text-align: right;\">-0.7 </td><td style=\"text-align: right;\">0.1     </td><td style=\"text-align: right;\">-1.6 </td></tr>\n<tr><td style=\"text-align: right;\">-0.1      </td><td style=\"text-align: right;\"> 2.77556e-17</td><td style=\"text-align: right;\">-0.7     </td><td style=\"text-align: right;\">1.8    </td><td style=\"text-align: right;\"> 0.3</td><td style=\"text-align: right;\">-0.3        </td><td style=\"text-align: right;\">0.3     </td><td style=\"text-align: right;\">0.4 </td><td style=\"text-align: right;\">-0.6        </td><td style=\"text-align: right;\"> 0.1     </td><td style=\"text-align: right;\">-1.3     </td><td style=\"text-align: right;\"> 0.4        </td><td style=\"text-align: right;\"> 0.2     </td><td style=\"text-align: right;\"> 2.77556e-17</td><td style=\"text-align: right;\">-0.9 </td><td style=\"text-align: right;\">0.4     </td><td style=\"text-align: right;\">-0.3 </td></tr>\n<tr><td style=\"text-align: right;\">-0.3      </td><td style=\"text-align: right;\"> 0.1        </td><td style=\"text-align: right;\">-1.1     </td><td style=\"text-align: right;\">1.5    </td><td style=\"text-align: right;\"> 0.4</td><td style=\"text-align: right;\">-0.1        </td><td style=\"text-align: right;\">0.6     </td><td style=\"text-align: right;\">0.3 </td><td style=\"text-align: right;\">-2.77556e-17</td><td style=\"text-align: right;\"> 0.5     </td><td style=\"text-align: right;\">-1       </td><td style=\"text-align: right;\">-2.77556e-17</td><td style=\"text-align: right;\">-0.1     </td><td style=\"text-align: right;\">-0.3        </td><td style=\"text-align: right;\">-0.6 </td><td style=\"text-align: right;\">0.3     </td><td style=\"text-align: right;\">-0.9 </td></tr>\n<tr><td style=\"text-align: right;\">-0.0166667</td><td style=\"text-align: right;\">-0.1        </td><td style=\"text-align: right;\">-0.733333</td><td style=\"text-align: right;\">1.21667</td><td style=\"text-align: right;\"> 0.4</td><td style=\"text-align: right;\">-0.183333   </td><td style=\"text-align: right;\">0.283333</td><td style=\"text-align: right;\">0.55</td><td style=\"text-align: right;\">-0.433333   </td><td style=\"text-align: right;\"> 0.216667</td><td style=\"text-align: right;\">-0.816667</td><td style=\"text-align: right;\"> 0.233333   </td><td style=\"text-align: right;\"> 0.133333</td><td style=\"text-align: right;\">-0.0333333  </td><td style=\"text-align: right;\">-0.45</td><td style=\"text-align: right;\">0.166667</td><td style=\"text-align: right;\">-0.75</td></tr>\n</tbody>\n</table>"
     },
     "metadata": {}
    }
   ],
   "source": [
    "# Create the table any way you like\n",
    "!curl https://raw.githubusercontent.com/cs472ta/CS472/master/datasets/voting-dataset.arff --output voting_data.arff\n",
    "voting_data = arff.loadarff('voting_data.arff')\n",
    "voting_df = pd.DataFrame(voting_data[0])\n",
    "\n",
    "#voting_np_data = voting_df.apply(LabelEncoder().fit_transform)\n",
    "#voting_np_data = voting_np_data.to_numpy()\n",
    "#voting_np_data = voting_np_data.tolist()\n",
    "#print(voting_np_data[0])\n",
    "\n",
    "table = []\n",
    "#table.append([\"Ex\", 0.0, 1.0, 2.0, 5])\n",
    "\n",
    "# randomly split data 70/30\n",
    "# 0 = 'n', 1 = 'y', 0 = 'democrat'\n",
    "\n",
    "# --------------------- 1 ----------------------\n",
    "train1 = voting_df.sample(frac=0.7,random_state=200)\n",
    "test1 = voting_df.drop(train1.index)\n",
    "\n",
    "train1_np = train1.apply(LabelEncoder().fit_transform)\n",
    "train1_np = train1_np.to_numpy()\n",
    "train1_np = train1_np.astype(float)\n",
    "train1_np = train1_np.tolist()\n",
    "#print(train1_np)\n",
    "\n",
    "test1_np = test1.apply(LabelEncoder().fit_transform)\n",
    "test1_np = test1_np.to_numpy()\n",
    "test1_np = test1_np.astype(float)\n",
    "test1_np = test1_np.tolist()\n",
    "\n",
    "X1_train = []\n",
    "y1_train = []\n",
    "for data in train1_np:\n",
    "    X1_train.append(data[0:len(data)-1])\n",
    "    y1_train.append([data[len(data)-1]])\n",
    "\n",
    "X1_test = []\n",
    "y1_test = []\n",
    "for data in test1_np:\n",
    "    X1_test.append(data[0:len(data)-1])\n",
    "    y1_test.append([data[len(data)-1]])\n",
    "\n",
    "#print(y1_test)\n",
    "\n",
    "perceptron_1 = PerceptronClassifier(shuffle=False)\n",
    "perceptron_1.initialize_weights(X1_train)\n",
    "perceptron_1.setEpochs(13)\n",
    "perceptron_1.fit(X1_train, y1_train)\n",
    "list_of_miss_calc1 = perceptron_1.misClassificationRate_perEpoch\n",
    "table.append([1, perceptron_1.score(X1_train, y1_train), perceptron_1.score(X1_test, y1_test), perceptron_1.epochs])\n",
    "\n",
    "# --------------------- 2 ----------------------\n",
    "train2 = voting_df.sample(frac=0.7,random_state=175)\n",
    "test2 = voting_df.drop(train2.index)\n",
    "\n",
    "train2_np = train2.apply(LabelEncoder().fit_transform)\n",
    "train2_np = train2_np.to_numpy()\n",
    "train2_np = train2_np.astype(float)\n",
    "train2_np = train2_np.tolist()\n",
    "#print(train1_np)\n",
    "\n",
    "test2_np = test2.apply(LabelEncoder().fit_transform)\n",
    "test2_np = test2_np.to_numpy()\n",
    "test2_np = test2_np.astype(float)\n",
    "test2_np = test2_np.tolist()\n",
    "\n",
    "X2_train = []\n",
    "y2_train = []\n",
    "for data in train2_np:\n",
    "    X2_train.append(data[0:len(data)-1])\n",
    "    y2_train.append([data[len(data)-1]])\n",
    "\n",
    "X2_test = []\n",
    "y2_test = []\n",
    "for data in test2_np:\n",
    "    X2_test.append(data[0:len(data)-1])\n",
    "    y2_test.append([data[len(data)-1]])\n",
    "\n",
    "perceptron_2 = PerceptronClassifier(shuffle=False)\n",
    "perceptron_2.initialize_weights(X2_train)\n",
    "perceptron_2.setEpochs(15)\n",
    "perceptron_2.fit(X2_train, y2_train)\n",
    "list_of_miss_calc2 = perceptron_2.misClassificationRate_perEpoch\n",
    "table.append([2, perceptron_2.score(X2_train, y2_train), perceptron_2.score(X2_test, y2_test), perceptron_2.epochs])\n",
    "\n",
    "# --------------------- 3 ----------------------\n",
    "train3 = voting_df.sample(frac=0.7,random_state=150)\n",
    "test3 = voting_df.drop(train3.index)\n",
    "\n",
    "train3_np = train3.apply(LabelEncoder().fit_transform)\n",
    "train3_np = train3_np.to_numpy()\n",
    "train3_np = train3_np.astype(float)\n",
    "train3_np = train3_np.tolist()\n",
    "#print(train1_np)\n",
    "\n",
    "test3_np = test3.apply(LabelEncoder().fit_transform)\n",
    "test3_np = test3_np.to_numpy()\n",
    "test3_np = test3_np.astype(float)\n",
    "test3_np = test3_np.tolist()\n",
    "\n",
    "X3_train = []\n",
    "y3_train = []\n",
    "for data in train3_np:\n",
    "    X3_train.append(data[0:len(data)-1])\n",
    "    y3_train.append([data[len(data)-1]])\n",
    "\n",
    "X3_test = []\n",
    "y3_test = []\n",
    "for data in test3_np:\n",
    "    X3_test.append(data[0:len(data)-1])\n",
    "    y3_test.append([data[len(data)-1]])\n",
    "\n",
    "perceptron_3 = PerceptronClassifier(shuffle=False)\n",
    "perceptron_3.initialize_weights(X3_train)\n",
    "perceptron_3.setEpochs(17)\n",
    "perceptron_3.fit(X3_train, y3_train)\n",
    "list_of_miss_calc3 = perceptron_3.misClassificationRate_perEpoch\n",
    "table.append([3, perceptron_3.score(X3_train, y3_train), perceptron_3.score(X3_test, y3_test), perceptron_3.epochs])    \n",
    "\n",
    "# --------------------- 4 ----------------------\n",
    "train4 = voting_df.sample(frac=0.7,random_state=125)\n",
    "test4 = voting_df.drop(train4.index)\n",
    "\n",
    "train4_np = train4.apply(LabelEncoder().fit_transform)\n",
    "train4_np = train4_np.to_numpy()\n",
    "train4_np = train4_np.astype(float)\n",
    "train4_np = train4_np.tolist()\n",
    "#print(train1_np)\n",
    "\n",
    "test4_np = test4.apply(LabelEncoder().fit_transform)\n",
    "test4_np = test4_np.to_numpy()\n",
    "test4_np = test4_np.astype(float)\n",
    "test4_np = test4_np.tolist()\n",
    "\n",
    "X4_train = []\n",
    "y4_train = []\n",
    "for data in train4_np:\n",
    "    X4_train.append(data[0:len(data)-1])\n",
    "    y4_train.append([data[len(data)-1]])\n",
    "\n",
    "X4_test = []\n",
    "y4_test = []\n",
    "for data in test4_np:\n",
    "    X4_test.append(data[0:len(data)-1])\n",
    "    y4_test.append([data[len(data)-1]])\n",
    "\n",
    "perceptron_4 = PerceptronClassifier(shuffle=False)\n",
    "perceptron_4.initialize_weights(X4_train)\n",
    "perceptron_4.setEpochs(18)\n",
    "perceptron_4.fit(X4_train, y4_train)\n",
    "list_of_miss_calc4 = perceptron_4.misClassificationRate_perEpoch\n",
    "table.append([4, perceptron_4.score(X4_train, y4_train), perceptron_4.score(X4_test, y4_test), perceptron_4.epochs])\n",
    "\n",
    "# --------------------- 5 ----------------------\n",
    "train5 = voting_df.sample(frac=0.7,random_state=100)\n",
    "test5 = voting_df.drop(train5.index)\n",
    "\n",
    "train5_np = train5.apply(LabelEncoder().fit_transform)\n",
    "train5_np = train5_np.to_numpy()\n",
    "train5_np = train5_np.astype(float)\n",
    "train5_np = train5_np.tolist()\n",
    "#print(train1_np)\n",
    "\n",
    "test5_np = test5.apply(LabelEncoder().fit_transform)\n",
    "test5_np = test5_np.to_numpy()\n",
    "test5_np = test5_np.astype(float)\n",
    "test5_np = test5_np.tolist()\n",
    "\n",
    "X5_train = []\n",
    "y5_train = []\n",
    "for data in train5_np:\n",
    "    X5_train.append(data[0:len(data)-1])\n",
    "    y5_train.append([data[len(data)-1]])\n",
    "\n",
    "X5_test = []\n",
    "y5_test = []\n",
    "for data in test5_np:\n",
    "    X5_test.append(data[0:len(data)-1])\n",
    "    y5_test.append([data[len(data)-1]])\n",
    "\n",
    "perceptron_5 = PerceptronClassifier(shuffle=False)\n",
    "perceptron_5.initialize_weights(X5_train)\n",
    "perceptron_5.setEpochs(16)\n",
    "perceptron_5.fit(X5_train, y5_train)\n",
    "list_of_miss_calc5 = perceptron_5.misClassificationRate_perEpoch\n",
    "table.append([5, perceptron_5.score(X5_train, y5_train), perceptron_5.score(X5_test, y5_test), perceptron_5.epochs])\n",
    "\n",
    "# report the 5 trials and the average across the 5 trials in a table\n",
    "headers = [\"Trial\", \"Training Accuracy\", \"Test Accuracy\", \"Number of Epochs\"]\n",
    "\n",
    "avg_training = 0\n",
    "avg_test = 0\n",
    "avg_epochs = 0\n",
    "for row in table:\n",
    "    avg_training += row[1]\n",
    "    avg_test += row[2]\n",
    "    avg_epochs += row[3]\n",
    "avg_training /= len(table)\n",
    "avg_test /= len(table)\n",
    "avg_epochs /= len(table)\n",
    "\n",
    "table.append([\"Average\", avg_training, avg_test, avg_epochs])\n",
    "display(HTML(tabulate(table, headers=headers, tablefmt='html')))\n",
    "\n",
    "headers2 = [\"W1\", \"W2\", \"W3\", \"W4\", \"W5\", \"W6\", \"W7\", \"W8\", \"W9\", \"W10\", \"W11\", \"W12\", \"W13\", \"W14\", \"W15\", \"W16\", \"B\"]\n",
    "table2 = []\n",
    "table2.append(perceptron_1.get_weights())\n",
    "table2.append(perceptron_2.get_weights())\n",
    "table2.append(perceptron_3.get_weights())\n",
    "table2.append(perceptron_4.get_weights())\n",
    "table2.append(perceptron_5.get_weights())\n",
    "\n",
    "avg = [0, 0, 0, 0, 0, 0, 0, 0, 0, 0, 0, 0, 0, 0, 0, 0, 0]\n",
    "for row in table2:\n",
    "    avg = np.add(row, avg)\n",
    "\n",
    "avg /= len(table)\n",
    "\n",
    "table2.append(avg)\n",
    "\n",
    "display(HTML(tabulate(table2, headers=headers2, tablefmt='html')))"
   ]
  },
  {
   "cell_type": "markdown",
   "metadata": {
    "id": "cm4rbWkzVeoR"
   },
   "source": [
    "### 3.2 By looking at the weights, explain what the model has learned and how the individual input features affect the result. Which specific features are most critical for the voting task, and which are least critical? \n"
   ]
  },
  {
   "cell_type": "markdown",
   "metadata": {
    "id": "g3F0Qp-BVi1R"
   },
   "source": [
    "*Explanation goes here*: \n",
    "<br> Critical: \n",
    "<br>Negatively Impact: adoption of the budget resolution: -0.733, synfuels corporation cutback: -0.817. \n",
    "<br>Positively Impact: physician fee freeze: 1.217, aid to nicaraguan contras: 0.55. \n",
    "<br> Least Critical: handicapped infants: -0.01671, crime: -0.033"
   ]
  },
  {
   "cell_type": "markdown",
   "metadata": {
    "id": "NyUmJ4yWVsQ7"
   },
   "source": [
    "### 3.3 Make a graph of the average misclassification rate vs epochs (0th – final epoch).\n",
    "\n",
    "- Average the misclassification rate for the training set across your 5 trials (not across 5 epochs).\n",
    "\n",
    "\n",
    "![Average Misclassification Rate](https://raw.githubusercontent.com/rmorain/CS472-1/master/images/perceptron/avg_misclassification_rate_vs_epochs.png)"
   ]
  },
  {
   "cell_type": "code",
   "execution_count": 153,
   "metadata": {
    "id": "2_ZRPWWVVeFM"
   },
   "outputs": [
    {
     "output_type": "display_data",
     "data": {
      "text/plain": "<Figure size 432x288 with 1 Axes>",
      "image/svg+xml": "<?xml version=\"1.0\" encoding=\"utf-8\" standalone=\"no\"?>\n<!DOCTYPE svg PUBLIC \"-//W3C//DTD SVG 1.1//EN\"\n  \"http://www.w3.org/Graphics/SVG/1.1/DTD/svg11.dtd\">\n<svg height=\"277.314375pt\" version=\"1.1\" viewBox=\"0 0 392.14375 277.314375\" width=\"392.14375pt\" xmlns=\"http://www.w3.org/2000/svg\" xmlns:xlink=\"http://www.w3.org/1999/xlink\">\n <metadata>\n  <rdf:RDF xmlns:cc=\"http://creativecommons.org/ns#\" xmlns:dc=\"http://purl.org/dc/elements/1.1/\" xmlns:rdf=\"http://www.w3.org/1999/02/22-rdf-syntax-ns#\">\n   <cc:Work>\n    <dc:type rdf:resource=\"http://purl.org/dc/dcmitype/StillImage\"/>\n    <dc:date>2021-06-28T14:48:21.627204</dc:date>\n    <dc:format>image/svg+xml</dc:format>\n    <dc:creator>\n     <cc:Agent>\n      <dc:title>Matplotlib v3.4.2, https://matplotlib.org/</dc:title>\n     </cc:Agent>\n    </dc:creator>\n   </cc:Work>\n  </rdf:RDF>\n </metadata>\n <defs>\n  <style type=\"text/css\">*{stroke-linecap:butt;stroke-linejoin:round;}</style>\n </defs>\n <g id=\"figure_1\">\n  <g id=\"patch_1\">\n   <path d=\"M 0 277.314375 \nL 392.14375 277.314375 \nL 392.14375 0 \nL 0 0 \nz\n\" style=\"fill:none;\"/>\n  </g>\n  <g id=\"axes_1\">\n   <g id=\"patch_2\">\n    <path d=\"M 50.14375 239.758125 \nL 384.94375 239.758125 \nL 384.94375 22.318125 \nL 50.14375 22.318125 \nz\n\" style=\"fill:#ffffff;\"/>\n   </g>\n   <g id=\"matplotlib.axis_1\">\n    <g id=\"xtick_1\">\n     <g id=\"line2d_1\">\n      <defs>\n       <path d=\"M 0 0 \nL 0 3.5 \n\" id=\"md002be34d2\" style=\"stroke:#000000;stroke-width:0.8;\"/>\n      </defs>\n      <g>\n       <use style=\"stroke:#000000;stroke-width:0.8;\" x=\"65.361932\" xlink:href=\"#md002be34d2\" y=\"239.758125\"/>\n      </g>\n     </g>\n     <g id=\"text_1\">\n      <!-- 0 -->\n      <g transform=\"translate(62.180682 254.356562)scale(0.1 -0.1)\">\n       <defs>\n        <path d=\"M 2034 4250 \nQ 1547 4250 1301 3770 \nQ 1056 3291 1056 2328 \nQ 1056 1369 1301 889 \nQ 1547 409 2034 409 \nQ 2525 409 2770 889 \nQ 3016 1369 3016 2328 \nQ 3016 3291 2770 3770 \nQ 2525 4250 2034 4250 \nz\nM 2034 4750 \nQ 2819 4750 3233 4129 \nQ 3647 3509 3647 2328 \nQ 3647 1150 3233 529 \nQ 2819 -91 2034 -91 \nQ 1250 -91 836 529 \nQ 422 1150 422 2328 \nQ 422 3509 836 4129 \nQ 1250 4750 2034 4750 \nz\n\" id=\"DejaVuSans-30\" transform=\"scale(0.015625)\"/>\n       </defs>\n       <use xlink:href=\"#DejaVuSans-30\"/>\n      </g>\n     </g>\n    </g>\n    <g id=\"xtick_2\">\n     <g id=\"line2d_2\">\n      <g>\n       <use style=\"stroke:#000000;stroke-width:0.8;\" x=\"116.089205\" xlink:href=\"#md002be34d2\" y=\"239.758125\"/>\n      </g>\n     </g>\n     <g id=\"text_2\">\n      <!-- 2 -->\n      <g transform=\"translate(112.907955 254.356562)scale(0.1 -0.1)\">\n       <defs>\n        <path d=\"M 1228 531 \nL 3431 531 \nL 3431 0 \nL 469 0 \nL 469 531 \nQ 828 903 1448 1529 \nQ 2069 2156 2228 2338 \nQ 2531 2678 2651 2914 \nQ 2772 3150 2772 3378 \nQ 2772 3750 2511 3984 \nQ 2250 4219 1831 4219 \nQ 1534 4219 1204 4116 \nQ 875 4013 500 3803 \nL 500 4441 \nQ 881 4594 1212 4672 \nQ 1544 4750 1819 4750 \nQ 2544 4750 2975 4387 \nQ 3406 4025 3406 3419 \nQ 3406 3131 3298 2873 \nQ 3191 2616 2906 2266 \nQ 2828 2175 2409 1742 \nQ 1991 1309 1228 531 \nz\n\" id=\"DejaVuSans-32\" transform=\"scale(0.015625)\"/>\n       </defs>\n       <use xlink:href=\"#DejaVuSans-32\"/>\n      </g>\n     </g>\n    </g>\n    <g id=\"xtick_3\">\n     <g id=\"line2d_3\">\n      <g>\n       <use style=\"stroke:#000000;stroke-width:0.8;\" x=\"166.816477\" xlink:href=\"#md002be34d2\" y=\"239.758125\"/>\n      </g>\n     </g>\n     <g id=\"text_3\">\n      <!-- 4 -->\n      <g transform=\"translate(163.635227 254.356562)scale(0.1 -0.1)\">\n       <defs>\n        <path d=\"M 2419 4116 \nL 825 1625 \nL 2419 1625 \nL 2419 4116 \nz\nM 2253 4666 \nL 3047 4666 \nL 3047 1625 \nL 3713 1625 \nL 3713 1100 \nL 3047 1100 \nL 3047 0 \nL 2419 0 \nL 2419 1100 \nL 313 1100 \nL 313 1709 \nL 2253 4666 \nz\n\" id=\"DejaVuSans-34\" transform=\"scale(0.015625)\"/>\n       </defs>\n       <use xlink:href=\"#DejaVuSans-34\"/>\n      </g>\n     </g>\n    </g>\n    <g id=\"xtick_4\">\n     <g id=\"line2d_4\">\n      <g>\n       <use style=\"stroke:#000000;stroke-width:0.8;\" x=\"217.54375\" xlink:href=\"#md002be34d2\" y=\"239.758125\"/>\n      </g>\n     </g>\n     <g id=\"text_4\">\n      <!-- 6 -->\n      <g transform=\"translate(214.3625 254.356562)scale(0.1 -0.1)\">\n       <defs>\n        <path d=\"M 2113 2584 \nQ 1688 2584 1439 2293 \nQ 1191 2003 1191 1497 \nQ 1191 994 1439 701 \nQ 1688 409 2113 409 \nQ 2538 409 2786 701 \nQ 3034 994 3034 1497 \nQ 3034 2003 2786 2293 \nQ 2538 2584 2113 2584 \nz\nM 3366 4563 \nL 3366 3988 \nQ 3128 4100 2886 4159 \nQ 2644 4219 2406 4219 \nQ 1781 4219 1451 3797 \nQ 1122 3375 1075 2522 \nQ 1259 2794 1537 2939 \nQ 1816 3084 2150 3084 \nQ 2853 3084 3261 2657 \nQ 3669 2231 3669 1497 \nQ 3669 778 3244 343 \nQ 2819 -91 2113 -91 \nQ 1303 -91 875 529 \nQ 447 1150 447 2328 \nQ 447 3434 972 4092 \nQ 1497 4750 2381 4750 \nQ 2619 4750 2861 4703 \nQ 3103 4656 3366 4563 \nz\n\" id=\"DejaVuSans-36\" transform=\"scale(0.015625)\"/>\n       </defs>\n       <use xlink:href=\"#DejaVuSans-36\"/>\n      </g>\n     </g>\n    </g>\n    <g id=\"xtick_5\">\n     <g id=\"line2d_5\">\n      <g>\n       <use style=\"stroke:#000000;stroke-width:0.8;\" x=\"268.271023\" xlink:href=\"#md002be34d2\" y=\"239.758125\"/>\n      </g>\n     </g>\n     <g id=\"text_5\">\n      <!-- 8 -->\n      <g transform=\"translate(265.089773 254.356562)scale(0.1 -0.1)\">\n       <defs>\n        <path d=\"M 2034 2216 \nQ 1584 2216 1326 1975 \nQ 1069 1734 1069 1313 \nQ 1069 891 1326 650 \nQ 1584 409 2034 409 \nQ 2484 409 2743 651 \nQ 3003 894 3003 1313 \nQ 3003 1734 2745 1975 \nQ 2488 2216 2034 2216 \nz\nM 1403 2484 \nQ 997 2584 770 2862 \nQ 544 3141 544 3541 \nQ 544 4100 942 4425 \nQ 1341 4750 2034 4750 \nQ 2731 4750 3128 4425 \nQ 3525 4100 3525 3541 \nQ 3525 3141 3298 2862 \nQ 3072 2584 2669 2484 \nQ 3125 2378 3379 2068 \nQ 3634 1759 3634 1313 \nQ 3634 634 3220 271 \nQ 2806 -91 2034 -91 \nQ 1263 -91 848 271 \nQ 434 634 434 1313 \nQ 434 1759 690 2068 \nQ 947 2378 1403 2484 \nz\nM 1172 3481 \nQ 1172 3119 1398 2916 \nQ 1625 2713 2034 2713 \nQ 2441 2713 2670 2916 \nQ 2900 3119 2900 3481 \nQ 2900 3844 2670 4047 \nQ 2441 4250 2034 4250 \nQ 1625 4250 1398 4047 \nQ 1172 3844 1172 3481 \nz\n\" id=\"DejaVuSans-38\" transform=\"scale(0.015625)\"/>\n       </defs>\n       <use xlink:href=\"#DejaVuSans-38\"/>\n      </g>\n     </g>\n    </g>\n    <g id=\"xtick_6\">\n     <g id=\"line2d_6\">\n      <g>\n       <use style=\"stroke:#000000;stroke-width:0.8;\" x=\"318.998295\" xlink:href=\"#md002be34d2\" y=\"239.758125\"/>\n      </g>\n     </g>\n     <g id=\"text_6\">\n      <!-- 10 -->\n      <g transform=\"translate(312.635795 254.356562)scale(0.1 -0.1)\">\n       <defs>\n        <path d=\"M 794 531 \nL 1825 531 \nL 1825 4091 \nL 703 3866 \nL 703 4441 \nL 1819 4666 \nL 2450 4666 \nL 2450 531 \nL 3481 531 \nL 3481 0 \nL 794 0 \nL 794 531 \nz\n\" id=\"DejaVuSans-31\" transform=\"scale(0.015625)\"/>\n       </defs>\n       <use xlink:href=\"#DejaVuSans-31\"/>\n       <use x=\"63.623047\" xlink:href=\"#DejaVuSans-30\"/>\n      </g>\n     </g>\n    </g>\n    <g id=\"xtick_7\">\n     <g id=\"line2d_7\">\n      <g>\n       <use style=\"stroke:#000000;stroke-width:0.8;\" x=\"369.725568\" xlink:href=\"#md002be34d2\" y=\"239.758125\"/>\n      </g>\n     </g>\n     <g id=\"text_7\">\n      <!-- 12 -->\n      <g transform=\"translate(363.363068 254.356562)scale(0.1 -0.1)\">\n       <use xlink:href=\"#DejaVuSans-31\"/>\n       <use x=\"63.623047\" xlink:href=\"#DejaVuSans-32\"/>\n      </g>\n     </g>\n    </g>\n    <g id=\"text_8\">\n     <!-- Epoch -->\n     <g transform=\"translate(202.232813 268.034687)scale(0.1 -0.1)\">\n      <defs>\n       <path d=\"M 628 4666 \nL 3578 4666 \nL 3578 4134 \nL 1259 4134 \nL 1259 2753 \nL 3481 2753 \nL 3481 2222 \nL 1259 2222 \nL 1259 531 \nL 3634 531 \nL 3634 0 \nL 628 0 \nL 628 4666 \nz\n\" id=\"DejaVuSans-45\" transform=\"scale(0.015625)\"/>\n       <path d=\"M 1159 525 \nL 1159 -1331 \nL 581 -1331 \nL 581 3500 \nL 1159 3500 \nL 1159 2969 \nQ 1341 3281 1617 3432 \nQ 1894 3584 2278 3584 \nQ 2916 3584 3314 3078 \nQ 3713 2572 3713 1747 \nQ 3713 922 3314 415 \nQ 2916 -91 2278 -91 \nQ 1894 -91 1617 61 \nQ 1341 213 1159 525 \nz\nM 3116 1747 \nQ 3116 2381 2855 2742 \nQ 2594 3103 2138 3103 \nQ 1681 3103 1420 2742 \nQ 1159 2381 1159 1747 \nQ 1159 1113 1420 752 \nQ 1681 391 2138 391 \nQ 2594 391 2855 752 \nQ 3116 1113 3116 1747 \nz\n\" id=\"DejaVuSans-70\" transform=\"scale(0.015625)\"/>\n       <path d=\"M 1959 3097 \nQ 1497 3097 1228 2736 \nQ 959 2375 959 1747 \nQ 959 1119 1226 758 \nQ 1494 397 1959 397 \nQ 2419 397 2687 759 \nQ 2956 1122 2956 1747 \nQ 2956 2369 2687 2733 \nQ 2419 3097 1959 3097 \nz\nM 1959 3584 \nQ 2709 3584 3137 3096 \nQ 3566 2609 3566 1747 \nQ 3566 888 3137 398 \nQ 2709 -91 1959 -91 \nQ 1206 -91 779 398 \nQ 353 888 353 1747 \nQ 353 2609 779 3096 \nQ 1206 3584 1959 3584 \nz\n\" id=\"DejaVuSans-6f\" transform=\"scale(0.015625)\"/>\n       <path d=\"M 3122 3366 \nL 3122 2828 \nQ 2878 2963 2633 3030 \nQ 2388 3097 2138 3097 \nQ 1578 3097 1268 2742 \nQ 959 2388 959 1747 \nQ 959 1106 1268 751 \nQ 1578 397 2138 397 \nQ 2388 397 2633 464 \nQ 2878 531 3122 666 \nL 3122 134 \nQ 2881 22 2623 -34 \nQ 2366 -91 2075 -91 \nQ 1284 -91 818 406 \nQ 353 903 353 1747 \nQ 353 2603 823 3093 \nQ 1294 3584 2113 3584 \nQ 2378 3584 2631 3529 \nQ 2884 3475 3122 3366 \nz\n\" id=\"DejaVuSans-63\" transform=\"scale(0.015625)\"/>\n       <path d=\"M 3513 2113 \nL 3513 0 \nL 2938 0 \nL 2938 2094 \nQ 2938 2591 2744 2837 \nQ 2550 3084 2163 3084 \nQ 1697 3084 1428 2787 \nQ 1159 2491 1159 1978 \nL 1159 0 \nL 581 0 \nL 581 4863 \nL 1159 4863 \nL 1159 2956 \nQ 1366 3272 1645 3428 \nQ 1925 3584 2291 3584 \nQ 2894 3584 3203 3211 \nQ 3513 2838 3513 2113 \nz\n\" id=\"DejaVuSans-68\" transform=\"scale(0.015625)\"/>\n      </defs>\n      <use xlink:href=\"#DejaVuSans-45\"/>\n      <use x=\"63.183594\" xlink:href=\"#DejaVuSans-70\"/>\n      <use x=\"126.660156\" xlink:href=\"#DejaVuSans-6f\"/>\n      <use x=\"187.841797\" xlink:href=\"#DejaVuSans-63\"/>\n      <use x=\"242.822266\" xlink:href=\"#DejaVuSans-68\"/>\n     </g>\n    </g>\n   </g>\n   <g id=\"matplotlib.axis_2\">\n    <g id=\"ytick_1\">\n     <g id=\"line2d_8\">\n      <defs>\n       <path d=\"M 0 0 \nL -3.5 0 \n\" id=\"mbaff6ef0f8\" style=\"stroke:#000000;stroke-width:0.8;\"/>\n      </defs>\n      <g>\n       <use style=\"stroke:#000000;stroke-width:0.8;\" x=\"50.14375\" xlink:href=\"#mbaff6ef0f8\" y=\"230.524728\"/>\n      </g>\n     </g>\n     <g id=\"text_9\">\n      <!-- 0.25 -->\n      <g transform=\"translate(20.878125 234.323947)scale(0.1 -0.1)\">\n       <defs>\n        <path d=\"M 684 794 \nL 1344 794 \nL 1344 0 \nL 684 0 \nL 684 794 \nz\n\" id=\"DejaVuSans-2e\" transform=\"scale(0.015625)\"/>\n        <path d=\"M 691 4666 \nL 3169 4666 \nL 3169 4134 \nL 1269 4134 \nL 1269 2991 \nQ 1406 3038 1543 3061 \nQ 1681 3084 1819 3084 \nQ 2600 3084 3056 2656 \nQ 3513 2228 3513 1497 \nQ 3513 744 3044 326 \nQ 2575 -91 1722 -91 \nQ 1428 -91 1123 -41 \nQ 819 9 494 109 \nL 494 744 \nQ 775 591 1075 516 \nQ 1375 441 1709 441 \nQ 2250 441 2565 725 \nQ 2881 1009 2881 1497 \nQ 2881 1984 2565 2268 \nQ 2250 2553 1709 2553 \nQ 1456 2553 1204 2497 \nQ 953 2441 691 2322 \nL 691 4666 \nz\n\" id=\"DejaVuSans-35\" transform=\"scale(0.015625)\"/>\n       </defs>\n       <use xlink:href=\"#DejaVuSans-30\"/>\n       <use x=\"63.623047\" xlink:href=\"#DejaVuSans-2e\"/>\n       <use x=\"95.410156\" xlink:href=\"#DejaVuSans-32\"/>\n       <use x=\"159.033203\" xlink:href=\"#DejaVuSans-35\"/>\n      </g>\n     </g>\n    </g>\n    <g id=\"ytick_2\">\n     <g id=\"line2d_9\">\n      <g>\n       <use style=\"stroke:#000000;stroke-width:0.8;\" x=\"50.14375\" xlink:href=\"#mbaff6ef0f8\" y=\"188.519273\"/>\n      </g>\n     </g>\n     <g id=\"text_10\">\n      <!-- 0.30 -->\n      <g transform=\"translate(20.878125 192.318492)scale(0.1 -0.1)\">\n       <defs>\n        <path d=\"M 2597 2516 \nQ 3050 2419 3304 2112 \nQ 3559 1806 3559 1356 \nQ 3559 666 3084 287 \nQ 2609 -91 1734 -91 \nQ 1441 -91 1130 -33 \nQ 819 25 488 141 \nL 488 750 \nQ 750 597 1062 519 \nQ 1375 441 1716 441 \nQ 2309 441 2620 675 \nQ 2931 909 2931 1356 \nQ 2931 1769 2642 2001 \nQ 2353 2234 1838 2234 \nL 1294 2234 \nL 1294 2753 \nL 1863 2753 \nQ 2328 2753 2575 2939 \nQ 2822 3125 2822 3475 \nQ 2822 3834 2567 4026 \nQ 2313 4219 1838 4219 \nQ 1578 4219 1281 4162 \nQ 984 4106 628 3988 \nL 628 4550 \nQ 988 4650 1302 4700 \nQ 1616 4750 1894 4750 \nQ 2613 4750 3031 4423 \nQ 3450 4097 3450 3541 \nQ 3450 3153 3228 2886 \nQ 3006 2619 2597 2516 \nz\n\" id=\"DejaVuSans-33\" transform=\"scale(0.015625)\"/>\n       </defs>\n       <use xlink:href=\"#DejaVuSans-30\"/>\n       <use x=\"63.623047\" xlink:href=\"#DejaVuSans-2e\"/>\n       <use x=\"95.410156\" xlink:href=\"#DejaVuSans-33\"/>\n       <use x=\"159.033203\" xlink:href=\"#DejaVuSans-30\"/>\n      </g>\n     </g>\n    </g>\n    <g id=\"ytick_3\">\n     <g id=\"line2d_10\">\n      <g>\n       <use style=\"stroke:#000000;stroke-width:0.8;\" x=\"50.14375\" xlink:href=\"#mbaff6ef0f8\" y=\"146.513819\"/>\n      </g>\n     </g>\n     <g id=\"text_11\">\n      <!-- 0.35 -->\n      <g transform=\"translate(20.878125 150.313038)scale(0.1 -0.1)\">\n       <use xlink:href=\"#DejaVuSans-30\"/>\n       <use x=\"63.623047\" xlink:href=\"#DejaVuSans-2e\"/>\n       <use x=\"95.410156\" xlink:href=\"#DejaVuSans-33\"/>\n       <use x=\"159.033203\" xlink:href=\"#DejaVuSans-35\"/>\n      </g>\n     </g>\n    </g>\n    <g id=\"ytick_4\">\n     <g id=\"line2d_11\">\n      <g>\n       <use style=\"stroke:#000000;stroke-width:0.8;\" x=\"50.14375\" xlink:href=\"#mbaff6ef0f8\" y=\"104.508364\"/>\n      </g>\n     </g>\n     <g id=\"text_12\">\n      <!-- 0.40 -->\n      <g transform=\"translate(20.878125 108.307583)scale(0.1 -0.1)\">\n       <use xlink:href=\"#DejaVuSans-30\"/>\n       <use x=\"63.623047\" xlink:href=\"#DejaVuSans-2e\"/>\n       <use x=\"95.410156\" xlink:href=\"#DejaVuSans-34\"/>\n       <use x=\"159.033203\" xlink:href=\"#DejaVuSans-30\"/>\n      </g>\n     </g>\n    </g>\n    <g id=\"ytick_5\">\n     <g id=\"line2d_12\">\n      <g>\n       <use style=\"stroke:#000000;stroke-width:0.8;\" x=\"50.14375\" xlink:href=\"#mbaff6ef0f8\" y=\"62.50291\"/>\n      </g>\n     </g>\n     <g id=\"text_13\">\n      <!-- 0.45 -->\n      <g transform=\"translate(20.878125 66.302128)scale(0.1 -0.1)\">\n       <use xlink:href=\"#DejaVuSans-30\"/>\n       <use x=\"63.623047\" xlink:href=\"#DejaVuSans-2e\"/>\n       <use x=\"95.410156\" xlink:href=\"#DejaVuSans-34\"/>\n       <use x=\"159.033203\" xlink:href=\"#DejaVuSans-35\"/>\n      </g>\n     </g>\n    </g>\n    <g id=\"text_14\">\n     <!-- Misclassification Rate -->\n     <g transform=\"translate(14.798438 184.738125)rotate(-90)scale(0.1 -0.1)\">\n      <defs>\n       <path d=\"M 628 4666 \nL 1569 4666 \nL 2759 1491 \nL 3956 4666 \nL 4897 4666 \nL 4897 0 \nL 4281 0 \nL 4281 4097 \nL 3078 897 \nL 2444 897 \nL 1241 4097 \nL 1241 0 \nL 628 0 \nL 628 4666 \nz\n\" id=\"DejaVuSans-4d\" transform=\"scale(0.015625)\"/>\n       <path d=\"M 603 3500 \nL 1178 3500 \nL 1178 0 \nL 603 0 \nL 603 3500 \nz\nM 603 4863 \nL 1178 4863 \nL 1178 4134 \nL 603 4134 \nL 603 4863 \nz\n\" id=\"DejaVuSans-69\" transform=\"scale(0.015625)\"/>\n       <path d=\"M 2834 3397 \nL 2834 2853 \nQ 2591 2978 2328 3040 \nQ 2066 3103 1784 3103 \nQ 1356 3103 1142 2972 \nQ 928 2841 928 2578 \nQ 928 2378 1081 2264 \nQ 1234 2150 1697 2047 \nL 1894 2003 \nQ 2506 1872 2764 1633 \nQ 3022 1394 3022 966 \nQ 3022 478 2636 193 \nQ 2250 -91 1575 -91 \nQ 1294 -91 989 -36 \nQ 684 19 347 128 \nL 347 722 \nQ 666 556 975 473 \nQ 1284 391 1588 391 \nQ 1994 391 2212 530 \nQ 2431 669 2431 922 \nQ 2431 1156 2273 1281 \nQ 2116 1406 1581 1522 \nL 1381 1569 \nQ 847 1681 609 1914 \nQ 372 2147 372 2553 \nQ 372 3047 722 3315 \nQ 1072 3584 1716 3584 \nQ 2034 3584 2315 3537 \nQ 2597 3491 2834 3397 \nz\n\" id=\"DejaVuSans-73\" transform=\"scale(0.015625)\"/>\n       <path d=\"M 603 4863 \nL 1178 4863 \nL 1178 0 \nL 603 0 \nL 603 4863 \nz\n\" id=\"DejaVuSans-6c\" transform=\"scale(0.015625)\"/>\n       <path d=\"M 2194 1759 \nQ 1497 1759 1228 1600 \nQ 959 1441 959 1056 \nQ 959 750 1161 570 \nQ 1363 391 1709 391 \nQ 2188 391 2477 730 \nQ 2766 1069 2766 1631 \nL 2766 1759 \nL 2194 1759 \nz\nM 3341 1997 \nL 3341 0 \nL 2766 0 \nL 2766 531 \nQ 2569 213 2275 61 \nQ 1981 -91 1556 -91 \nQ 1019 -91 701 211 \nQ 384 513 384 1019 \nQ 384 1609 779 1909 \nQ 1175 2209 1959 2209 \nL 2766 2209 \nL 2766 2266 \nQ 2766 2663 2505 2880 \nQ 2244 3097 1772 3097 \nQ 1472 3097 1187 3025 \nQ 903 2953 641 2809 \nL 641 3341 \nQ 956 3463 1253 3523 \nQ 1550 3584 1831 3584 \nQ 2591 3584 2966 3190 \nQ 3341 2797 3341 1997 \nz\n\" id=\"DejaVuSans-61\" transform=\"scale(0.015625)\"/>\n       <path d=\"M 2375 4863 \nL 2375 4384 \nL 1825 4384 \nQ 1516 4384 1395 4259 \nQ 1275 4134 1275 3809 \nL 1275 3500 \nL 2222 3500 \nL 2222 3053 \nL 1275 3053 \nL 1275 0 \nL 697 0 \nL 697 3053 \nL 147 3053 \nL 147 3500 \nL 697 3500 \nL 697 3744 \nQ 697 4328 969 4595 \nQ 1241 4863 1831 4863 \nL 2375 4863 \nz\n\" id=\"DejaVuSans-66\" transform=\"scale(0.015625)\"/>\n       <path d=\"M 1172 4494 \nL 1172 3500 \nL 2356 3500 \nL 2356 3053 \nL 1172 3053 \nL 1172 1153 \nQ 1172 725 1289 603 \nQ 1406 481 1766 481 \nL 2356 481 \nL 2356 0 \nL 1766 0 \nQ 1100 0 847 248 \nQ 594 497 594 1153 \nL 594 3053 \nL 172 3053 \nL 172 3500 \nL 594 3500 \nL 594 4494 \nL 1172 4494 \nz\n\" id=\"DejaVuSans-74\" transform=\"scale(0.015625)\"/>\n       <path d=\"M 3513 2113 \nL 3513 0 \nL 2938 0 \nL 2938 2094 \nQ 2938 2591 2744 2837 \nQ 2550 3084 2163 3084 \nQ 1697 3084 1428 2787 \nQ 1159 2491 1159 1978 \nL 1159 0 \nL 581 0 \nL 581 3500 \nL 1159 3500 \nL 1159 2956 \nQ 1366 3272 1645 3428 \nQ 1925 3584 2291 3584 \nQ 2894 3584 3203 3211 \nQ 3513 2838 3513 2113 \nz\n\" id=\"DejaVuSans-6e\" transform=\"scale(0.015625)\"/>\n       <path id=\"DejaVuSans-20\" transform=\"scale(0.015625)\"/>\n       <path d=\"M 2841 2188 \nQ 3044 2119 3236 1894 \nQ 3428 1669 3622 1275 \nL 4263 0 \nL 3584 0 \nL 2988 1197 \nQ 2756 1666 2539 1819 \nQ 2322 1972 1947 1972 \nL 1259 1972 \nL 1259 0 \nL 628 0 \nL 628 4666 \nL 2053 4666 \nQ 2853 4666 3247 4331 \nQ 3641 3997 3641 3322 \nQ 3641 2881 3436 2590 \nQ 3231 2300 2841 2188 \nz\nM 1259 4147 \nL 1259 2491 \nL 2053 2491 \nQ 2509 2491 2742 2702 \nQ 2975 2913 2975 3322 \nQ 2975 3731 2742 3939 \nQ 2509 4147 2053 4147 \nL 1259 4147 \nz\n\" id=\"DejaVuSans-52\" transform=\"scale(0.015625)\"/>\n       <path d=\"M 3597 1894 \nL 3597 1613 \nL 953 1613 \nQ 991 1019 1311 708 \nQ 1631 397 2203 397 \nQ 2534 397 2845 478 \nQ 3156 559 3463 722 \nL 3463 178 \nQ 3153 47 2828 -22 \nQ 2503 -91 2169 -91 \nQ 1331 -91 842 396 \nQ 353 884 353 1716 \nQ 353 2575 817 3079 \nQ 1281 3584 2069 3584 \nQ 2775 3584 3186 3129 \nQ 3597 2675 3597 1894 \nz\nM 3022 2063 \nQ 3016 2534 2758 2815 \nQ 2500 3097 2075 3097 \nQ 1594 3097 1305 2825 \nQ 1016 2553 972 2059 \nL 3022 2063 \nz\n\" id=\"DejaVuSans-65\" transform=\"scale(0.015625)\"/>\n      </defs>\n      <use xlink:href=\"#DejaVuSans-4d\"/>\n      <use x=\"86.279297\" xlink:href=\"#DejaVuSans-69\"/>\n      <use x=\"114.0625\" xlink:href=\"#DejaVuSans-73\"/>\n      <use x=\"166.162109\" xlink:href=\"#DejaVuSans-63\"/>\n      <use x=\"221.142578\" xlink:href=\"#DejaVuSans-6c\"/>\n      <use x=\"248.925781\" xlink:href=\"#DejaVuSans-61\"/>\n      <use x=\"310.205078\" xlink:href=\"#DejaVuSans-73\"/>\n      <use x=\"362.304688\" xlink:href=\"#DejaVuSans-73\"/>\n      <use x=\"414.404297\" xlink:href=\"#DejaVuSans-69\"/>\n      <use x=\"442.1875\" xlink:href=\"#DejaVuSans-66\"/>\n      <use x=\"477.392578\" xlink:href=\"#DejaVuSans-69\"/>\n      <use x=\"505.175781\" xlink:href=\"#DejaVuSans-63\"/>\n      <use x=\"560.15625\" xlink:href=\"#DejaVuSans-61\"/>\n      <use x=\"621.435547\" xlink:href=\"#DejaVuSans-74\"/>\n      <use x=\"660.644531\" xlink:href=\"#DejaVuSans-69\"/>\n      <use x=\"688.427734\" xlink:href=\"#DejaVuSans-6f\"/>\n      <use x=\"749.609375\" xlink:href=\"#DejaVuSans-6e\"/>\n      <use x=\"812.988281\" xlink:href=\"#DejaVuSans-20\"/>\n      <use x=\"844.775391\" xlink:href=\"#DejaVuSans-52\"/>\n      <use x=\"912.007812\" xlink:href=\"#DejaVuSans-61\"/>\n      <use x=\"973.287109\" xlink:href=\"#DejaVuSans-74\"/>\n      <use x=\"1012.496094\" xlink:href=\"#DejaVuSans-65\"/>\n     </g>\n    </g>\n   </g>\n   <g id=\"line2d_13\">\n    <path clip-path=\"url(#p2ee122b37a)\" d=\"M 65.361932 32.201761 \nL 90.725568 188.259178 \nL 116.089205 167.451522 \nL 141.452841 149.244824 \nL 166.816477 151.845781 \nL 192.180114 175.254393 \nL 217.54375 224.672575 \nL 242.907386 216.869704 \nL 268.271023 229.874489 \nL 293.634659 193.461092 \nL 318.998295 214.268747 \nL 344.361932 219.470661 \nL 369.725568 177.85535 \n\" style=\"fill:none;stroke:#1f77b4;stroke-linecap:square;stroke-width:1.5;\"/>\n   </g>\n   <g id=\"patch_3\">\n    <path d=\"M 50.14375 239.758125 \nL 50.14375 22.318125 \n\" style=\"fill:none;stroke:#000000;stroke-linecap:square;stroke-linejoin:miter;stroke-width:0.8;\"/>\n   </g>\n   <g id=\"patch_4\">\n    <path d=\"M 384.94375 239.758125 \nL 384.94375 22.318125 \n\" style=\"fill:none;stroke:#000000;stroke-linecap:square;stroke-linejoin:miter;stroke-width:0.8;\"/>\n   </g>\n   <g id=\"patch_5\">\n    <path d=\"M 50.14375 239.758125 \nL 384.94375 239.758125 \n\" style=\"fill:none;stroke:#000000;stroke-linecap:square;stroke-linejoin:miter;stroke-width:0.8;\"/>\n   </g>\n   <g id=\"patch_6\">\n    <path d=\"M 50.14375 22.318125 \nL 384.94375 22.318125 \n\" style=\"fill:none;stroke:#000000;stroke-linecap:square;stroke-linejoin:miter;stroke-width:0.8;\"/>\n   </g>\n   <g id=\"text_15\">\n    <!-- Average Misclassification Rate vs. Epoch -->\n    <g transform=\"translate(95.786875 16.318125)scale(0.12 -0.12)\">\n     <defs>\n      <path d=\"M 2188 4044 \nL 1331 1722 \nL 3047 1722 \nL 2188 4044 \nz\nM 1831 4666 \nL 2547 4666 \nL 4325 0 \nL 3669 0 \nL 3244 1197 \nL 1141 1197 \nL 716 0 \nL 50 0 \nL 1831 4666 \nz\n\" id=\"DejaVuSans-41\" transform=\"scale(0.015625)\"/>\n      <path d=\"M 191 3500 \nL 800 3500 \nL 1894 563 \nL 2988 3500 \nL 3597 3500 \nL 2284 0 \nL 1503 0 \nL 191 3500 \nz\n\" id=\"DejaVuSans-76\" transform=\"scale(0.015625)\"/>\n      <path d=\"M 2631 2963 \nQ 2534 3019 2420 3045 \nQ 2306 3072 2169 3072 \nQ 1681 3072 1420 2755 \nQ 1159 2438 1159 1844 \nL 1159 0 \nL 581 0 \nL 581 3500 \nL 1159 3500 \nL 1159 2956 \nQ 1341 3275 1631 3429 \nQ 1922 3584 2338 3584 \nQ 2397 3584 2469 3576 \nQ 2541 3569 2628 3553 \nL 2631 2963 \nz\n\" id=\"DejaVuSans-72\" transform=\"scale(0.015625)\"/>\n      <path d=\"M 2906 1791 \nQ 2906 2416 2648 2759 \nQ 2391 3103 1925 3103 \nQ 1463 3103 1205 2759 \nQ 947 2416 947 1791 \nQ 947 1169 1205 825 \nQ 1463 481 1925 481 \nQ 2391 481 2648 825 \nQ 2906 1169 2906 1791 \nz\nM 3481 434 \nQ 3481 -459 3084 -895 \nQ 2688 -1331 1869 -1331 \nQ 1566 -1331 1297 -1286 \nQ 1028 -1241 775 -1147 \nL 775 -588 \nQ 1028 -725 1275 -790 \nQ 1522 -856 1778 -856 \nQ 2344 -856 2625 -561 \nQ 2906 -266 2906 331 \nL 2906 616 \nQ 2728 306 2450 153 \nQ 2172 0 1784 0 \nQ 1141 0 747 490 \nQ 353 981 353 1791 \nQ 353 2603 747 3093 \nQ 1141 3584 1784 3584 \nQ 2172 3584 2450 3431 \nQ 2728 3278 2906 2969 \nL 2906 3500 \nL 3481 3500 \nL 3481 434 \nz\n\" id=\"DejaVuSans-67\" transform=\"scale(0.015625)\"/>\n     </defs>\n     <use xlink:href=\"#DejaVuSans-41\"/>\n     <use x=\"62.533203\" xlink:href=\"#DejaVuSans-76\"/>\n     <use x=\"121.712891\" xlink:href=\"#DejaVuSans-65\"/>\n     <use x=\"183.236328\" xlink:href=\"#DejaVuSans-72\"/>\n     <use x=\"224.349609\" xlink:href=\"#DejaVuSans-61\"/>\n     <use x=\"285.628906\" xlink:href=\"#DejaVuSans-67\"/>\n     <use x=\"349.105469\" xlink:href=\"#DejaVuSans-65\"/>\n     <use x=\"410.628906\" xlink:href=\"#DejaVuSans-20\"/>\n     <use x=\"442.416016\" xlink:href=\"#DejaVuSans-4d\"/>\n     <use x=\"528.695312\" xlink:href=\"#DejaVuSans-69\"/>\n     <use x=\"556.478516\" xlink:href=\"#DejaVuSans-73\"/>\n     <use x=\"608.578125\" xlink:href=\"#DejaVuSans-63\"/>\n     <use x=\"663.558594\" xlink:href=\"#DejaVuSans-6c\"/>\n     <use x=\"691.341797\" xlink:href=\"#DejaVuSans-61\"/>\n     <use x=\"752.621094\" xlink:href=\"#DejaVuSans-73\"/>\n     <use x=\"804.720703\" xlink:href=\"#DejaVuSans-73\"/>\n     <use x=\"856.820312\" xlink:href=\"#DejaVuSans-69\"/>\n     <use x=\"884.603516\" xlink:href=\"#DejaVuSans-66\"/>\n     <use x=\"919.808594\" xlink:href=\"#DejaVuSans-69\"/>\n     <use x=\"947.591797\" xlink:href=\"#DejaVuSans-63\"/>\n     <use x=\"1002.572266\" xlink:href=\"#DejaVuSans-61\"/>\n     <use x=\"1063.851562\" xlink:href=\"#DejaVuSans-74\"/>\n     <use x=\"1103.060547\" xlink:href=\"#DejaVuSans-69\"/>\n     <use x=\"1130.84375\" xlink:href=\"#DejaVuSans-6f\"/>\n     <use x=\"1192.025391\" xlink:href=\"#DejaVuSans-6e\"/>\n     <use x=\"1255.404297\" xlink:href=\"#DejaVuSans-20\"/>\n     <use x=\"1287.191406\" xlink:href=\"#DejaVuSans-52\"/>\n     <use x=\"1354.423828\" xlink:href=\"#DejaVuSans-61\"/>\n     <use x=\"1415.703125\" xlink:href=\"#DejaVuSans-74\"/>\n     <use x=\"1454.912109\" xlink:href=\"#DejaVuSans-65\"/>\n     <use x=\"1516.435547\" xlink:href=\"#DejaVuSans-20\"/>\n     <use x=\"1548.222656\" xlink:href=\"#DejaVuSans-76\"/>\n     <use x=\"1607.402344\" xlink:href=\"#DejaVuSans-73\"/>\n     <use x=\"1659.501953\" xlink:href=\"#DejaVuSans-2e\"/>\n     <use x=\"1691.289062\" xlink:href=\"#DejaVuSans-20\"/>\n     <use x=\"1723.076172\" xlink:href=\"#DejaVuSans-45\"/>\n     <use x=\"1786.259766\" xlink:href=\"#DejaVuSans-70\"/>\n     <use x=\"1849.736328\" xlink:href=\"#DejaVuSans-6f\"/>\n     <use x=\"1910.917969\" xlink:href=\"#DejaVuSans-63\"/>\n     <use x=\"1965.898438\" xlink:href=\"#DejaVuSans-68\"/>\n    </g>\n   </g>\n  </g>\n </g>\n <defs>\n  <clipPath id=\"p2ee122b37a\">\n   <rect height=\"217.44\" width=\"334.8\" x=\"50.14375\" y=\"22.318125\"/>\n  </clipPath>\n </defs>\n</svg>\n",
      "image/png": "[encoded data removed]"
     },
     "metadata": {
      "needs_background": "light"
     }
    }
   ],
   "source": [
    "# Graph here\n",
    "\n",
    "collected_missClass = []\n",
    "collected_missClass.append(list_of_miss_calc1)\n",
    "collected_missClass.append(list_of_miss_calc2)\n",
    "collected_missClass.append(list_of_miss_calc3)\n",
    "collected_missClass.append(list_of_miss_calc4)\n",
    "collected_missClass.append(list_of_miss_calc5)\n",
    "\n",
    "minLength = 1000\n",
    "for item in collected_missClass:\n",
    "    if minLength > len(item):\n",
    "        minLength = len(item)\n",
    "#print(minLength)\n",
    "#print(collected_missClass)\n",
    "editedList = []\n",
    "for item in collected_missClass:\n",
    "    editedList.append(item[0:minLength])\n",
    "\n",
    "#print(editedList)\n",
    "newList = np.sum(editedList, 0)\n",
    "#print(newList)\n",
    "\n",
    "\n",
    "\n",
    "#sum_missClass = [sum(i) for i in zip(*average_missClass)]\n",
    "\n",
    "    \n",
    "def plot_misclassification(avg_misclassification_rate):\n",
    "    \"\"\"\n",
    "        Plots the average misclassification rate\n",
    "    Args:\n",
    "        avg_misclassification_rate (array-like): A 1D array or list\n",
    "    \"\"\"\n",
    "    plt.plot(np.arange(len(avg_misclassification_rate)), avg_misclassification_rate)\n",
    "    plt.title(\"Average Misclassification Rate vs. Epoch\")\n",
    "    plt.xlabel(\"Epoch\")\n",
    "    plt.ylabel(\"Misclassification Rate\")\n",
    "    plt.show()\n",
    "\n",
    "#print(average_missClass)\n",
    "plot_misclassification(newList)"
   ]
  },
  {
   "cell_type": "markdown",
   "metadata": {
    "id": "oBBmeNQ7jvcQ"
   },
   "source": [
    "## 4.1 (5%) Use the perceptron algorithm from the [scikit-learn toolkit](https://scikit-learn.org/stable/modules/generated/sklearn.linear_model.Perceptron.html) to learn the voting task above.\n",
    "- Report and compare your results with your own perceptron code."
   ]
  },
  {
   "cell_type": "code",
   "execution_count": 201,
   "metadata": {
    "id": "OFQv70W2VyqJ"
   },
   "outputs": [
    {
     "output_type": "execute_result",
     "data": {
      "text/plain": [
       "0.9202898550724637"
      ]
     },
     "metadata": {},
     "execution_count": 201
    }
   ],
   "source": [
    "\n",
    "# Load sklearn perceptron\n",
    "clf = Perceptron(max_iter=15, shuffle=True, random_state=0)\n",
    "y1_train_flat = list(chain.from_iterable(y1_train))\n",
    "# Train on voting dataset\n",
    "clf.fit(X1_train, y1_train_flat)\n",
    "\n",
    "y1_test_flat = list(chain.from_iterable(y1_test))\n",
    "clf.score(X1_test, y1_test_flat)"
   ]
  },
  {
   "cell_type": "markdown",
   "metadata": {},
   "source": [
    "*Report your comparison*: Using the Scikit-learn Perceptron, I was able to achieve 92% accuracy. And with my Perceptron, I achieved 86.2% accuracy using the same dataset between each models. However, for other dataset trials my model outperformed the sklearn Perceptron. These differences I think could be explained by hyperparameters that are used.\n"
   ]
  },
  {
   "cell_type": "markdown",
   "metadata": {},
   "source": [
    "## 4.2 (5%) Use the perceptron algorithm from the [scikit-learn toolkit](https://scikit-learn.org/stable/modules/generated/sklearn.linear_model.Perceptron.html) to learn one other data set of your choice.\n",
    "- Try out some of the hyper-parameters that scikit-learn makes available."
   ]
  },
  {
   "cell_type": "code",
   "execution_count": 152,
   "metadata": {
    "tags": []
   },
   "outputs": [
    {
     "output_type": "stream",
     "name": "stdout",
     "text": [
      "0.939176245210728\n[ 0.4     1.062  -0.66   -2.244  -3.6522 10.9594  4.1028 -6.4332]\n"
     ]
    },
    {
     "output_type": "display_data",
     "data": {
      "text/plain": "<Figure size 432x288 with 1 Axes>",
      "image/svg+xml": "<?xml version=\"1.0\" encoding=\"utf-8\" standalone=\"no\"?>\n<!DOCTYPE svg PUBLIC \"-//W3C//DTD SVG 1.1//EN\"\n  \"http://www.w3.org/Graphics/SVG/1.1/DTD/svg11.dtd\">\n<svg height=\"277.314375pt\" version=\"1.1\" viewBox=\"0 0 385.78125 277.314375\" width=\"385.78125pt\" xmlns=\"http://www.w3.org/2000/svg\" xmlns:xlink=\"http://www.w3.org/1999/xlink\">\n <metadata>\n  <rdf:RDF xmlns:cc=\"http://creativecommons.org/ns#\" xmlns:dc=\"http://purl.org/dc/elements/1.1/\" xmlns:rdf=\"http://www.w3.org/1999/02/22-rdf-syntax-ns#\">\n   <cc:Work>\n    <dc:type rdf:resource=\"http://purl.org/dc/dcmitype/StillImage\"/>\n    <dc:date>2021-06-28T14:45:15.276261</dc:date>\n    <dc:format>image/svg+xml</dc:format>\n    <dc:creator>\n     <cc:Agent>\n      <dc:title>Matplotlib v3.4.2, https://matplotlib.org/</dc:title>\n     </cc:Agent>\n    </dc:creator>\n   </cc:Work>\n  </rdf:RDF>\n </metadata>\n <defs>\n  <style type=\"text/css\">*{stroke-linecap:butt;stroke-linejoin:round;}</style>\n </defs>\n <g id=\"figure_1\">\n  <g id=\"patch_1\">\n   <path d=\"M 0 277.314375 \nL 385.78125 277.314375 \nL 385.78125 0 \nL 0 0 \nz\n\" style=\"fill:none;\"/>\n  </g>\n  <g id=\"axes_1\">\n   <g id=\"patch_2\">\n    <path d=\"M 43.78125 239.758125 \nL 378.58125 239.758125 \nL 378.58125 22.318125 \nL 43.78125 22.318125 \nz\n\" style=\"fill:#ffffff;\"/>\n   </g>\n   <g id=\"PathCollection_1\">\n    <defs>\n     <path d=\"M 0 3 \nC 0.795609 3 1.55874 2.683901 2.12132 2.12132 \nC 2.683901 1.55874 3 0.795609 3 -0 \nC 3 -0.795609 2.683901 -1.55874 2.12132 -2.12132 \nC 1.55874 -2.683901 0.795609 -3 0 -3 \nC -0.795609 -3 -1.55874 -2.683901 -2.12132 -2.12132 \nC -2.683901 -1.55874 -3 -0.795609 -3 0 \nC -3 0.795609 -2.683901 1.55874 -2.12132 2.12132 \nC -1.55874 2.683901 -0.795609 3 0 3 \nz\n\" id=\"C0_0_e0714e9289\"/>\n    </defs>\n    <g clip-path=\"url(#p4676a690c5)\">\n     <use style=\"fill:#ff0000;stroke:#ff0000;\" x=\"139.655795\" xlink:href=\"#C0_0_e0714e9289\" y=\"214.934108\"/>\n    </g>\n    <g clip-path=\"url(#p4676a690c5)\">\n     <use style=\"fill:#ff0000;stroke:#ff0000;\" x=\"188.353977\" xlink:href=\"#C0_0_e0714e9289\" y=\"168.521683\"/>\n    </g>\n    <g clip-path=\"url(#p4676a690c5)\">\n     <use style=\"fill:#ff0000;stroke:#ff0000;\" x=\"214.224886\" xlink:href=\"#C0_0_e0714e9289\" y=\"142.265512\"/>\n    </g>\n    <g clip-path=\"url(#p4676a690c5)\">\n     <use style=\"fill:#ff0000;stroke:#ff0000;\" x=\"148.786705\" xlink:href=\"#C0_0_e0714e9289\" y=\"214.315276\"/>\n    </g>\n    <g clip-path=\"url(#p4676a690c5)\">\n     <use style=\"fill:#ff0000;stroke:#ff0000;\" x=\"206.615795\" xlink:href=\"#C0_0_e0714e9289\" y=\"138.817731\"/>\n    </g>\n    <g clip-path=\"url(#p4676a690c5)\">\n     <use style=\"fill:#ff0000;stroke:#ff0000;\" x=\"180.744886\" xlink:href=\"#C0_0_e0714e9289\" y=\"187.617081\"/>\n    </g>\n    <g clip-path=\"url(#p4676a690c5)\">\n     <use style=\"fill:#ff0000;stroke:#ff0000;\" x=\"119.872159\" xlink:href=\"#C0_0_e0714e9289\" y=\"226.515113\"/>\n    </g>\n    <g clip-path=\"url(#p4676a690c5)\">\n     <use style=\"fill:#ff0000;stroke:#ff0000;\" x=\"145.743068\" xlink:href=\"#C0_0_e0714e9289\" y=\"216.348582\"/>\n    </g>\n    <g clip-path=\"url(#p4676a690c5)\">\n     <use style=\"fill:#ff0000;stroke:#ff0000;\" x=\"103.132159\" xlink:href=\"#C0_0_e0714e9289\" y=\"229.609275\"/>\n    </g>\n    <g clip-path=\"url(#p4676a690c5)\">\n     <use style=\"fill:#ff0000;stroke:#ff0000;\" x=\"200.528523\" xlink:href=\"#C0_0_e0714e9289\" y=\"163.217406\"/>\n    </g>\n    <g clip-path=\"url(#p4676a690c5)\">\n     <use style=\"fill:#ff0000;stroke:#ff0000;\" x=\"197.484886\" xlink:href=\"#C0_0_e0714e9289\" y=\"180.367902\"/>\n    </g>\n    <g clip-path=\"url(#p4676a690c5)\">\n     <use style=\"fill:#ff0000;stroke:#ff0000;\" x=\"138.133977\" xlink:href=\"#C0_0_e0714e9289\" y=\"218.647102\"/>\n    </g>\n    <g clip-path=\"url(#p4676a690c5)\">\n     <use style=\"fill:#0000ff;stroke:#0000ff;\" x=\"180.744886\" xlink:href=\"#C0_0_e0714e9289\" y=\"168.786897\"/>\n    </g>\n    <g clip-path=\"url(#p4676a690c5)\">\n     <use style=\"fill:#ff0000;stroke:#ff0000;\" x=\"141.177614\" xlink:href=\"#C0_0_e0714e9289\" y=\"217.586247\"/>\n    </g>\n    <g clip-path=\"url(#p4676a690c5)\">\n     <use style=\"fill:#ff0000;stroke:#ff0000;\" x=\"180.744886\" xlink:href=\"#C0_0_e0714e9289\" y=\"184.699729\"/>\n    </g>\n    <g clip-path=\"url(#p4676a690c5)\">\n     <use style=\"fill:#ff0000;stroke:#ff0000;\" x=\"154.873977\" xlink:href=\"#C0_0_e0714e9289\" y=\"210.867496\"/>\n    </g>\n    <g clip-path=\"url(#p4676a690c5)\">\n     <use style=\"fill:#ff0000;stroke:#ff0000;\" x=\"206.615795\" xlink:href=\"#C0_0_e0714e9289\" y=\"149.868309\"/>\n    </g>\n    <g clip-path=\"url(#p4676a690c5)\">\n     <use style=\"fill:#ff0000;stroke:#ff0000;\" x=\"171.613977\" xlink:href=\"#C0_0_e0714e9289\" y=\"196.457543\"/>\n    </g>\n    <g clip-path=\"url(#p4676a690c5)\">\n     <use style=\"fill:#ff0000;stroke:#ff0000;\" x=\"197.484886\" xlink:href=\"#C0_0_e0714e9289\" y=\"163.129002\"/>\n    </g>\n    <g clip-path=\"url(#p4676a690c5)\">\n     <use style=\"fill:#0000ff;stroke:#0000ff;\" x=\"192.919432\" xlink:href=\"#C0_0_e0714e9289\" y=\"177.185336\"/>\n    </g>\n    <g clip-path=\"url(#p4676a690c5)\">\n     <use style=\"fill:#ff0000;stroke:#ff0000;\" x=\"160.96125\" xlink:href=\"#C0_0_e0714e9289\" y=\"211.486328\"/>\n    </g>\n    <g clip-path=\"url(#p4676a690c5)\">\n     <use style=\"fill:#ff0000;stroke:#ff0000;\" x=\"183.788523\" xlink:href=\"#C0_0_e0714e9289\" y=\"173.207128\"/>\n    </g>\n    <g clip-path=\"url(#p4676a690c5)\">\n     <use style=\"fill:#ff0000;stroke:#ff0000;\" x=\"217.268523\" xlink:href=\"#C0_0_e0714e9289\" y=\"128.916414\"/>\n    </g>\n    <g clip-path=\"url(#p4676a690c5)\">\n     <use style=\"fill:#ff0000;stroke:#ff0000;\" x=\"156.395795\" xlink:href=\"#C0_0_e0714e9289\" y=\"202.645866\"/>\n    </g>\n    <g clip-path=\"url(#p4676a690c5)\">\n     <use style=\"fill:#ff0000;stroke:#ff0000;\" x=\"177.70125\" xlink:href=\"#C0_0_e0714e9289\" y=\"176.566504\"/>\n    </g>\n    <g clip-path=\"url(#p4676a690c5)\">\n     <use style=\"fill:#ff0000;stroke:#ff0000;\" x=\"203.572159\" xlink:href=\"#C0_0_e0714e9289\" y=\"122.728091\"/>\n    </g>\n    <g clip-path=\"url(#p4676a690c5)\">\n     <use style=\"fill:#ff0000;stroke:#ff0000;\" x=\"232.486705\" xlink:href=\"#C0_0_e0714e9289\" y=\"101.864601\"/>\n    </g>\n    <g clip-path=\"url(#p4676a690c5)\">\n     <use style=\"fill:#ff0000;stroke:#ff0000;\" x=\"159.439432\" xlink:href=\"#C0_0_e0714e9289\" y=\"196.192329\"/>\n    </g>\n    <g clip-path=\"url(#p4676a690c5)\">\n     <use style=\"fill:#ff0000;stroke:#ff0000;\" x=\"183.788523\" xlink:href=\"#C0_0_e0714e9289\" y=\"155.791418\"/>\n    </g>\n    <g clip-path=\"url(#p4676a690c5)\">\n     <use style=\"fill:#ff0000;stroke:#ff0000;\" x=\"206.615795\" xlink:href=\"#C0_0_e0714e9289\" y=\"138.552518\"/>\n    </g>\n    <g clip-path=\"url(#p4676a690c5)\">\n     <use style=\"fill:#ff0000;stroke:#ff0000;\" x=\"230.964886\" xlink:href=\"#C0_0_e0714e9289\" y=\"110.351444\"/>\n    </g>\n    <g clip-path=\"url(#p4676a690c5)\">\n     <use style=\"fill:#ff0000;stroke:#ff0000;\" x=\"141.177614\" xlink:href=\"#C0_0_e0714e9289\" y=\"217.232628\"/>\n    </g>\n    <g clip-path=\"url(#p4676a690c5)\">\n     <use style=\"fill:#ff0000;stroke:#ff0000;\" x=\"174.657614\" xlink:href=\"#C0_0_e0714e9289\" y=\"180.456307\"/>\n    </g>\n    <g clip-path=\"url(#p4676a690c5)\">\n     <use style=\"fill:#ff0000;stroke:#ff0000;\" x=\"188.353977\" xlink:href=\"#C0_0_e0714e9289\" y=\"177.804168\"/>\n    </g>\n    <g clip-path=\"url(#p4676a690c5)\">\n     <use style=\"fill:#ff0000;stroke:#ff0000;\" x=\"203.572159\" xlink:href=\"#C0_0_e0714e9289\" y=\"150.66395\"/>\n    </g>\n    <g clip-path=\"url(#p4676a690c5)\">\n     <use style=\"fill:#ff0000;stroke:#ff0000;\" x=\"218.790341\" xlink:href=\"#C0_0_e0714e9289\" y=\"111.147086\"/>\n    </g>\n    <g clip-path=\"url(#p4676a690c5)\">\n     <use style=\"fill:#ff0000;stroke:#ff0000;\" x=\"150.308523\" xlink:href=\"#C0_0_e0714e9289\" y=\"206.800883\"/>\n    </g>\n    <g clip-path=\"url(#p4676a690c5)\">\n     <use style=\"fill:#ff0000;stroke:#ff0000;\" x=\"191.397614\" xlink:href=\"#C0_0_e0714e9289\" y=\"148.542239\"/>\n    </g>\n    <g clip-path=\"url(#p4676a690c5)\">\n     <use style=\"fill:#ff0000;stroke:#ff0000;\" x=\"211.18125\" xlink:href=\"#C0_0_e0714e9289\" y=\"97.002347\"/>\n    </g>\n    <g clip-path=\"url(#p4676a690c5)\">\n     <use style=\"fill:#ff0000;stroke:#ff0000;\" x=\"162.483068\" xlink:href=\"#C0_0_e0714e9289\" y=\"208.038548\"/>\n    </g>\n    <g clip-path=\"url(#p4676a690c5)\">\n     <use style=\"fill:#ff0000;stroke:#ff0000;\" x=\"189.875795\" xlink:href=\"#C0_0_e0714e9289\" y=\"166.665186\"/>\n    </g>\n    <g clip-path=\"url(#p4676a690c5)\">\n     <use style=\"fill:#ff0000;stroke:#ff0000;\" x=\"194.44125\" xlink:href=\"#C0_0_e0714e9289\" y=\"161.714528\"/>\n    </g>\n    <g clip-path=\"url(#p4676a690c5)\">\n     <use style=\"fill:#ff0000;stroke:#ff0000;\" x=\"223.355795\" xlink:href=\"#C0_0_e0714e9289\" y=\"144.210413\"/>\n    </g>\n    <g clip-path=\"url(#p4676a690c5)\">\n     <use style=\"fill:#ff0000;stroke:#ff0000;\" x=\"226.399432\" xlink:href=\"#C0_0_e0714e9289\" y=\"128.916414\"/>\n    </g>\n    <g clip-path=\"url(#p4676a690c5)\">\n     <use style=\"fill:#ff0000;stroke:#ff0000;\" x=\"240.095795\" xlink:href=\"#C0_0_e0714e9289\" y=\"41.042223\"/>\n    </g>\n    <g clip-path=\"url(#p4676a690c5)\">\n     <use style=\"fill:#ff0000;stroke:#ff0000;\" x=\"203.572159\" xlink:href=\"#C0_0_e0714e9289\" y=\"130.861316\"/>\n    </g>\n    <g clip-path=\"url(#p4676a690c5)\">\n     <use style=\"fill:#ff0000;stroke:#ff0000;\" x=\"160.96125\" xlink:href=\"#C0_0_e0714e9289\" y=\"208.65738\"/>\n    </g>\n    <g clip-path=\"url(#p4676a690c5)\">\n     <use style=\"fill:#ff0000;stroke:#ff0000;\" x=\"195.963068\" xlink:href=\"#C0_0_e0714e9289\" y=\"172.85351\"/>\n    </g>\n    <g clip-path=\"url(#p4676a690c5)\">\n     <use style=\"fill:#ff0000;stroke:#ff0000;\" x=\"202.050341\" xlink:href=\"#C0_0_e0714e9289\" y=\"147.835003\"/>\n    </g>\n    <g clip-path=\"url(#p4676a690c5)\">\n     <use style=\"fill:#ff0000;stroke:#ff0000;\" x=\"215.746705\" xlink:href=\"#C0_0_e0714e9289\" y=\"122.993305\"/>\n    </g>\n    <g clip-path=\"url(#p4676a690c5)\">\n     <use style=\"fill:#ff0000;stroke:#ff0000;\" x=\"141.177614\" xlink:href=\"#C0_0_e0714e9289\" y=\"213.696443\"/>\n    </g>\n    <g clip-path=\"url(#p4676a690c5)\">\n     <use style=\"fill:#ff0000;stroke:#ff0000;\" x=\"132.046705\" xlink:href=\"#C0_0_e0714e9289\" y=\"222.536905\"/>\n    </g>\n    <g clip-path=\"url(#p4676a690c5)\">\n     <use style=\"fill:#ff0000;stroke:#ff0000;\" x=\"211.18125\" xlink:href=\"#C0_0_e0714e9289\" y=\"123.523732\"/>\n    </g>\n    <g clip-path=\"url(#p4676a690c5)\">\n     <use style=\"fill:#ff0000;stroke:#ff0000;\" x=\"168.570341\" xlink:href=\"#C0_0_e0714e9289\" y=\"201.231392\"/>\n    </g>\n    <g clip-path=\"url(#p4676a690c5)\">\n     <use style=\"fill:#0000ff;stroke:#0000ff;\" x=\"230.964886\" xlink:href=\"#C0_0_e0714e9289\" y=\"104.428335\"/>\n    </g>\n    <g clip-path=\"url(#p4676a690c5)\">\n     <use style=\"fill:#0000ff;stroke:#0000ff;\" x=\"208.137614\" xlink:href=\"#C0_0_e0714e9289\" y=\"157.117487\"/>\n    </g>\n    <g clip-path=\"url(#p4676a690c5)\">\n     <use style=\"fill:#ff0000;stroke:#ff0000;\" x=\"156.395795\" xlink:href=\"#C0_0_e0714e9289\" y=\"205.651623\"/>\n    </g>\n    <g clip-path=\"url(#p4676a690c5)\">\n     <use style=\"fill:#ff0000;stroke:#ff0000;\" x=\"185.310341\" xlink:href=\"#C0_0_e0714e9289\" y=\"188.324318\"/>\n    </g>\n    <g clip-path=\"url(#p4676a690c5)\">\n     <use style=\"fill:#ff0000;stroke:#ff0000;\" x=\"179.223068\" xlink:href=\"#C0_0_e0714e9289\" y=\"194.86626\"/>\n    </g>\n    <g clip-path=\"url(#p4676a690c5)\">\n     <use style=\"fill:#ff0000;stroke:#ff0000;\" x=\"195.963068\" xlink:href=\"#C0_0_e0714e9289\" y=\"171.881059\"/>\n    </g>\n    <g clip-path=\"url(#p4676a690c5)\">\n     <use style=\"fill:#ff0000;stroke:#ff0000;\" x=\"185.310341\" xlink:href=\"#C0_0_e0714e9289\" y=\"179.483856\"/>\n    </g>\n    <g clip-path=\"url(#p4676a690c5)\">\n     <use style=\"fill:#ff0000;stroke:#ff0000;\" x=\"185.310341\" xlink:href=\"#C0_0_e0714e9289\" y=\"172.588296\"/>\n    </g>\n    <g clip-path=\"url(#p4676a690c5)\">\n     <use style=\"fill:#ff0000;stroke:#ff0000;\" x=\"145.743068\" xlink:href=\"#C0_0_e0714e9289\" y=\"213.077611\"/>\n    </g>\n    <g clip-path=\"url(#p4676a690c5)\">\n     <use style=\"fill:#ff0000;stroke:#ff0000;\" x=\"186.832159\" xlink:href=\"#C0_0_e0714e9289\" y=\"163.217406\"/>\n    </g>\n    <g clip-path=\"url(#p4676a690c5)\">\n     <use style=\"fill:#ff0000;stroke:#ff0000;\" x=\"164.004886\" xlink:href=\"#C0_0_e0714e9289\" y=\"184.964942\"/>\n    </g>\n    <g clip-path=\"url(#p4676a690c5)\">\n     <use style=\"fill:#ff0000;stroke:#ff0000;\" x=\"211.18125\" xlink:href=\"#C0_0_e0714e9289\" y=\"126.441085\"/>\n    </g>\n    <g clip-path=\"url(#p4676a690c5)\">\n     <use style=\"fill:#ff0000;stroke:#ff0000;\" x=\"170.092159\" xlink:href=\"#C0_0_e0714e9289\" y=\"196.722757\"/>\n    </g>\n    <g clip-path=\"url(#p4676a690c5)\">\n     <use style=\"fill:#ff0000;stroke:#ff0000;\" x=\"208.137614\" xlink:href=\"#C0_0_e0714e9289\" y=\"143.237962\"/>\n    </g>\n    <g clip-path=\"url(#p4676a690c5)\">\n     <use style=\"fill:#ff0000;stroke:#ff0000;\" x=\"147.264886\" xlink:href=\"#C0_0_e0714e9289\" y=\"207.773334\"/>\n    </g>\n    <g clip-path=\"url(#p4676a690c5)\">\n     <use style=\"fill:#ff0000;stroke:#ff0000;\" x=\"188.353977\" xlink:href=\"#C0_0_e0714e9289\" y=\"156.056632\"/>\n    </g>\n    <g clip-path=\"url(#p4676a690c5)\">\n     <use style=\"fill:#ff0000;stroke:#ff0000;\" x=\"215.746705\" xlink:href=\"#C0_0_e0714e9289\" y=\"141.46987\"/>\n    </g>\n    <g clip-path=\"url(#p4676a690c5)\">\n     <use style=\"fill:#ff0000;stroke:#ff0000;\" x=\"191.397614\" xlink:href=\"#C0_0_e0714e9289\" y=\"157.294297\"/>\n    </g>\n    <g clip-path=\"url(#p4676a690c5)\">\n     <use style=\"fill:#ff0000;stroke:#ff0000;\" x=\"173.135795\" xlink:href=\"#C0_0_e0714e9289\" y=\"182.04759\"/>\n    </g>\n    <g clip-path=\"url(#p4676a690c5)\">\n     <use style=\"fill:#ff0000;stroke:#ff0000;\" x=\"195.963068\" xlink:href=\"#C0_0_e0714e9289\" y=\"155.172586\"/>\n    </g>\n    <g clip-path=\"url(#p4676a690c5)\">\n     <use style=\"fill:#ff0000;stroke:#ff0000;\" x=\"214.224886\" xlink:href=\"#C0_0_e0714e9289\" y=\"113.180392\"/>\n    </g>\n    <g clip-path=\"url(#p4676a690c5)\">\n     <use style=\"fill:#ff0000;stroke:#ff0000;\" x=\"209.659432\" xlink:href=\"#C0_0_e0714e9289\" y=\"112.649964\"/>\n    </g>\n    <g clip-path=\"url(#p4676a690c5)\">\n     <use style=\"fill:#ff0000;stroke:#ff0000;\" x=\"202.050341\" xlink:href=\"#C0_0_e0714e9289\" y=\"152.874066\"/>\n    </g>\n    <g clip-path=\"url(#p4676a690c5)\">\n     <use style=\"fill:#ff0000;stroke:#ff0000;\" x=\"226.399432\" xlink:href=\"#C0_0_e0714e9289\" y=\"136.784425\"/>\n    </g>\n    <g clip-path=\"url(#p4676a690c5)\">\n     <use style=\"fill:#ff0000;stroke:#ff0000;\" x=\"188.353977\" xlink:href=\"#C0_0_e0714e9289\" y=\"145.978506\"/>\n    </g>\n    <g clip-path=\"url(#p4676a690c5)\">\n     <use style=\"fill:#ff0000;stroke:#ff0000;\" x=\"125.959432\" xlink:href=\"#C0_0_e0714e9289\" y=\"219.089125\"/>\n    </g>\n    <g clip-path=\"url(#p4676a690c5)\">\n     <use style=\"fill:#ff0000;stroke:#ff0000;\" x=\"150.308523\" xlink:href=\"#C0_0_e0714e9289\" y=\"212.812397\"/>\n    </g>\n    <g clip-path=\"url(#p4676a690c5)\">\n     <use style=\"fill:#ff0000;stroke:#ff0000;\" x=\"218.790341\" xlink:href=\"#C0_0_e0714e9289\" y=\"121.75564\"/>\n    </g>\n    <g clip-path=\"url(#p4676a690c5)\">\n     <use style=\"fill:#ff0000;stroke:#ff0000;\" x=\"195.963068\" xlink:href=\"#C0_0_e0714e9289\" y=\"176.478099\"/>\n    </g>\n    <g clip-path=\"url(#p4676a690c5)\">\n     <use style=\"fill:#ff0000;stroke:#ff0000;\" x=\"176.179432\" xlink:href=\"#C0_0_e0714e9289\" y=\"197.518398\"/>\n    </g>\n    <g clip-path=\"url(#p4676a690c5)\">\n     <use style=\"fill:#ff0000;stroke:#ff0000;\" x=\"154.873977\" xlink:href=\"#C0_0_e0714e9289\" y=\"211.132709\"/>\n    </g>\n    <g clip-path=\"url(#p4676a690c5)\">\n     <use style=\"fill:#0000ff;stroke:#0000ff;\" x=\"179.223068\" xlink:href=\"#C0_0_e0714e9289\" y=\"194.601046\"/>\n    </g>\n    <g clip-path=\"url(#p4676a690c5)\">\n     <use style=\"fill:#ff0000;stroke:#ff0000;\" x=\"167.048523\" xlink:href=\"#C0_0_e0714e9289\" y=\"197.960421\"/>\n    </g>\n    <g clip-path=\"url(#p4676a690c5)\">\n     <use style=\"fill:#ff0000;stroke:#ff0000;\" x=\"164.004886\" xlink:href=\"#C0_0_e0714e9289\" y=\"189.738792\"/>\n    </g>\n    <g clip-path=\"url(#p4676a690c5)\">\n     <use style=\"fill:#ff0000;stroke:#ff0000;\" x=\"104.653977\" xlink:href=\"#C0_0_e0714e9289\" y=\"229.874489\"/>\n    </g>\n    <g clip-path=\"url(#p4676a690c5)\">\n     <use style=\"fill:#ff0000;stroke:#ff0000;\" x=\"186.832159\" xlink:href=\"#C0_0_e0714e9289\" y=\"170.024562\"/>\n    </g>\n    <g clip-path=\"url(#p4676a690c5)\">\n     <use style=\"fill:#ff0000;stroke:#ff0000;\" x=\"145.743068\" xlink:href=\"#C0_0_e0714e9289\" y=\"212.458779\"/>\n    </g>\n    <g clip-path=\"url(#p4676a690c5)\">\n     <use style=\"fill:#ff0000;stroke:#ff0000;\" x=\"171.613977\" xlink:href=\"#C0_0_e0714e9289\" y=\"205.740028\"/>\n    </g>\n    <g clip-path=\"url(#p4676a690c5)\">\n     <use style=\"fill:#ff0000;stroke:#ff0000;\" x=\"202.050341\" xlink:href=\"#C0_0_e0714e9289\" y=\"132.187385\"/>\n    </g>\n    <g clip-path=\"url(#p4676a690c5)\">\n     <use style=\"fill:#ff0000;stroke:#ff0000;\" x=\"153.352159\" xlink:href=\"#C0_0_e0714e9289\" y=\"184.169301\"/>\n    </g>\n    <g clip-path=\"url(#p4676a690c5)\">\n     <use style=\"fill:#ff0000;stroke:#ff0000;\" x=\"186.832159\" xlink:href=\"#C0_0_e0714e9289\" y=\"180.544711\"/>\n    </g>\n    <g clip-path=\"url(#p4676a690c5)\">\n     <use style=\"fill:#ff0000;stroke:#ff0000;\" x=\"106.175795\" xlink:href=\"#C0_0_e0714e9289\" y=\"228.37161\"/>\n    </g>\n    <g clip-path=\"url(#p4676a690c5)\">\n     <use style=\"fill:#ff0000;stroke:#ff0000;\" x=\"186.832159\" xlink:href=\"#C0_0_e0714e9289\" y=\"187.440272\"/>\n    </g>\n    <g clip-path=\"url(#p4676a690c5)\">\n     <use style=\"fill:#ff0000;stroke:#ff0000;\" x=\"197.484886\" xlink:href=\"#C0_0_e0714e9289\" y=\"154.907372\"/>\n    </g>\n    <g clip-path=\"url(#p4676a690c5)\">\n     <use style=\"fill:#ff0000;stroke:#ff0000;\" x=\"144.22125\" xlink:href=\"#C0_0_e0714e9289\" y=\"217.055819\"/>\n    </g>\n    <g clip-path=\"url(#p4676a690c5)\">\n     <use style=\"fill:#ff0000;stroke:#ff0000;\" x=\"226.399432\" xlink:href=\"#C0_0_e0714e9289\" y=\"32.201761\"/>\n    </g>\n    <g clip-path=\"url(#p4676a690c5)\">\n     <use style=\"fill:#ff0000;stroke:#ff0000;\" x=\"165.526705\" xlink:href=\"#C0_0_e0714e9289\" y=\"170.289776\"/>\n    </g>\n    <g clip-path=\"url(#p4676a690c5)\">\n     <use style=\"fill:#ff0000;stroke:#ff0000;\" x=\"195.963068\" xlink:href=\"#C0_0_e0714e9289\" y=\"153.13928\"/>\n    </g>\n    <g clip-path=\"url(#p4676a690c5)\">\n     <use style=\"fill:#ff0000;stroke:#ff0000;\" x=\"195.963068\" xlink:href=\"#C0_0_e0714e9289\" y=\"157.382701\"/>\n    </g>\n    <g clip-path=\"url(#p4676a690c5)\">\n     <use style=\"fill:#ff0000;stroke:#ff0000;\" x=\"165.526705\" xlink:href=\"#C0_0_e0714e9289\" y=\"194.512641\"/>\n    </g>\n    <g clip-path=\"url(#p4676a690c5)\">\n     <use style=\"fill:#ff0000;stroke:#ff0000;\" x=\"197.484886\" xlink:href=\"#C0_0_e0714e9289\" y=\"157.294297\"/>\n    </g>\n   </g>\n   <g id=\"matplotlib.axis_1\">\n    <g id=\"xtick_1\">\n     <g id=\"line2d_1\">\n      <defs>\n       <path d=\"M 0 0 \nL 0 3.5 \n\" id=\"m141e9fb8fd\" style=\"stroke:#000000;stroke-width:0.8;\"/>\n      </defs>\n      <g>\n       <use style=\"stroke:#000000;stroke-width:0.8;\" x=\"58.999432\" xlink:href=\"#m141e9fb8fd\" y=\"239.758125\"/>\n      </g>\n     </g>\n     <g id=\"text_1\">\n      <!-- 0.0 -->\n      <g transform=\"translate(51.047869 254.356562)scale(0.1 -0.1)\">\n       <defs>\n        <path d=\"M 2034 4250 \nQ 1547 4250 1301 3770 \nQ 1056 3291 1056 2328 \nQ 1056 1369 1301 889 \nQ 1547 409 2034 409 \nQ 2525 409 2770 889 \nQ 3016 1369 3016 2328 \nQ 3016 3291 2770 3770 \nQ 2525 4250 2034 4250 \nz\nM 2034 4750 \nQ 2819 4750 3233 4129 \nQ 3647 3509 3647 2328 \nQ 3647 1150 3233 529 \nQ 2819 -91 2034 -91 \nQ 1250 -91 836 529 \nQ 422 1150 422 2328 \nQ 422 3509 836 4129 \nQ 1250 4750 2034 4750 \nz\n\" id=\"DejaVuSans-30\" transform=\"scale(0.015625)\"/>\n        <path d=\"M 684 794 \nL 1344 794 \nL 1344 0 \nL 684 0 \nL 684 794 \nz\n\" id=\"DejaVuSans-2e\" transform=\"scale(0.015625)\"/>\n       </defs>\n       <use xlink:href=\"#DejaVuSans-30\"/>\n       <use x=\"63.623047\" xlink:href=\"#DejaVuSans-2e\"/>\n       <use x=\"95.410156\" xlink:href=\"#DejaVuSans-30\"/>\n      </g>\n     </g>\n    </g>\n    <g id=\"xtick_2\">\n     <g id=\"line2d_2\">\n      <g>\n       <use style=\"stroke:#000000;stroke-width:0.8;\" x=\"119.872159\" xlink:href=\"#m141e9fb8fd\" y=\"239.758125\"/>\n      </g>\n     </g>\n     <g id=\"text_2\">\n      <!-- 0.2 -->\n      <g transform=\"translate(111.920597 254.356562)scale(0.1 -0.1)\">\n       <defs>\n        <path d=\"M 1228 531 \nL 3431 531 \nL 3431 0 \nL 469 0 \nL 469 531 \nQ 828 903 1448 1529 \nQ 2069 2156 2228 2338 \nQ 2531 2678 2651 2914 \nQ 2772 3150 2772 3378 \nQ 2772 3750 2511 3984 \nQ 2250 4219 1831 4219 \nQ 1534 4219 1204 4116 \nQ 875 4013 500 3803 \nL 500 4441 \nQ 881 4594 1212 4672 \nQ 1544 4750 1819 4750 \nQ 2544 4750 2975 4387 \nQ 3406 4025 3406 3419 \nQ 3406 3131 3298 2873 \nQ 3191 2616 2906 2266 \nQ 2828 2175 2409 1742 \nQ 1991 1309 1228 531 \nz\n\" id=\"DejaVuSans-32\" transform=\"scale(0.015625)\"/>\n       </defs>\n       <use xlink:href=\"#DejaVuSans-30\"/>\n       <use x=\"63.623047\" xlink:href=\"#DejaVuSans-2e\"/>\n       <use x=\"95.410156\" xlink:href=\"#DejaVuSans-32\"/>\n      </g>\n     </g>\n    </g>\n    <g id=\"xtick_3\">\n     <g id=\"line2d_3\">\n      <g>\n       <use style=\"stroke:#000000;stroke-width:0.8;\" x=\"180.744886\" xlink:href=\"#m141e9fb8fd\" y=\"239.758125\"/>\n      </g>\n     </g>\n     <g id=\"text_3\">\n      <!-- 0.4 -->\n      <g transform=\"translate(172.793324 254.356562)scale(0.1 -0.1)\">\n       <defs>\n        <path d=\"M 2419 4116 \nL 825 1625 \nL 2419 1625 \nL 2419 4116 \nz\nM 2253 4666 \nL 3047 4666 \nL 3047 1625 \nL 3713 1625 \nL 3713 1100 \nL 3047 1100 \nL 3047 0 \nL 2419 0 \nL 2419 1100 \nL 313 1100 \nL 313 1709 \nL 2253 4666 \nz\n\" id=\"DejaVuSans-34\" transform=\"scale(0.015625)\"/>\n       </defs>\n       <use xlink:href=\"#DejaVuSans-30\"/>\n       <use x=\"63.623047\" xlink:href=\"#DejaVuSans-2e\"/>\n       <use x=\"95.410156\" xlink:href=\"#DejaVuSans-34\"/>\n      </g>\n     </g>\n    </g>\n    <g id=\"xtick_4\">\n     <g id=\"line2d_4\">\n      <g>\n       <use style=\"stroke:#000000;stroke-width:0.8;\" x=\"241.617614\" xlink:href=\"#m141e9fb8fd\" y=\"239.758125\"/>\n      </g>\n     </g>\n     <g id=\"text_4\">\n      <!-- 0.6 -->\n      <g transform=\"translate(233.666051 254.356562)scale(0.1 -0.1)\">\n       <defs>\n        <path d=\"M 2113 2584 \nQ 1688 2584 1439 2293 \nQ 1191 2003 1191 1497 \nQ 1191 994 1439 701 \nQ 1688 409 2113 409 \nQ 2538 409 2786 701 \nQ 3034 994 3034 1497 \nQ 3034 2003 2786 2293 \nQ 2538 2584 2113 2584 \nz\nM 3366 4563 \nL 3366 3988 \nQ 3128 4100 2886 4159 \nQ 2644 4219 2406 4219 \nQ 1781 4219 1451 3797 \nQ 1122 3375 1075 2522 \nQ 1259 2794 1537 2939 \nQ 1816 3084 2150 3084 \nQ 2853 3084 3261 2657 \nQ 3669 2231 3669 1497 \nQ 3669 778 3244 343 \nQ 2819 -91 2113 -91 \nQ 1303 -91 875 529 \nQ 447 1150 447 2328 \nQ 447 3434 972 4092 \nQ 1497 4750 2381 4750 \nQ 2619 4750 2861 4703 \nQ 3103 4656 3366 4563 \nz\n\" id=\"DejaVuSans-36\" transform=\"scale(0.015625)\"/>\n       </defs>\n       <use xlink:href=\"#DejaVuSans-30\"/>\n       <use x=\"63.623047\" xlink:href=\"#DejaVuSans-2e\"/>\n       <use x=\"95.410156\" xlink:href=\"#DejaVuSans-36\"/>\n      </g>\n     </g>\n    </g>\n    <g id=\"xtick_5\">\n     <g id=\"line2d_5\">\n      <g>\n       <use style=\"stroke:#000000;stroke-width:0.8;\" x=\"302.490341\" xlink:href=\"#m141e9fb8fd\" y=\"239.758125\"/>\n      </g>\n     </g>\n     <g id=\"text_5\">\n      <!-- 0.8 -->\n      <g transform=\"translate(294.538778 254.356562)scale(0.1 -0.1)\">\n       <defs>\n        <path d=\"M 2034 2216 \nQ 1584 2216 1326 1975 \nQ 1069 1734 1069 1313 \nQ 1069 891 1326 650 \nQ 1584 409 2034 409 \nQ 2484 409 2743 651 \nQ 3003 894 3003 1313 \nQ 3003 1734 2745 1975 \nQ 2488 2216 2034 2216 \nz\nM 1403 2484 \nQ 997 2584 770 2862 \nQ 544 3141 544 3541 \nQ 544 4100 942 4425 \nQ 1341 4750 2034 4750 \nQ 2731 4750 3128 4425 \nQ 3525 4100 3525 3541 \nQ 3525 3141 3298 2862 \nQ 3072 2584 2669 2484 \nQ 3125 2378 3379 2068 \nQ 3634 1759 3634 1313 \nQ 3634 634 3220 271 \nQ 2806 -91 2034 -91 \nQ 1263 -91 848 271 \nQ 434 634 434 1313 \nQ 434 1759 690 2068 \nQ 947 2378 1403 2484 \nz\nM 1172 3481 \nQ 1172 3119 1398 2916 \nQ 1625 2713 2034 2713 \nQ 2441 2713 2670 2916 \nQ 2900 3119 2900 3481 \nQ 2900 3844 2670 4047 \nQ 2441 4250 2034 4250 \nQ 1625 4250 1398 4047 \nQ 1172 3844 1172 3481 \nz\n\" id=\"DejaVuSans-38\" transform=\"scale(0.015625)\"/>\n       </defs>\n       <use xlink:href=\"#DejaVuSans-30\"/>\n       <use x=\"63.623047\" xlink:href=\"#DejaVuSans-2e\"/>\n       <use x=\"95.410156\" xlink:href=\"#DejaVuSans-38\"/>\n      </g>\n     </g>\n    </g>\n    <g id=\"xtick_6\">\n     <g id=\"line2d_6\">\n      <g>\n       <use style=\"stroke:#000000;stroke-width:0.8;\" x=\"363.363068\" xlink:href=\"#m141e9fb8fd\" y=\"239.758125\"/>\n      </g>\n     </g>\n     <g id=\"text_6\">\n      <!-- 1.0 -->\n      <g transform=\"translate(355.411506 254.356562)scale(0.1 -0.1)\">\n       <defs>\n        <path d=\"M 794 531 \nL 1825 531 \nL 1825 4091 \nL 703 3866 \nL 703 4441 \nL 1819 4666 \nL 2450 4666 \nL 2450 531 \nL 3481 531 \nL 3481 0 \nL 794 0 \nL 794 531 \nz\n\" id=\"DejaVuSans-31\" transform=\"scale(0.015625)\"/>\n       </defs>\n       <use xlink:href=\"#DejaVuSans-31\"/>\n       <use x=\"63.623047\" xlink:href=\"#DejaVuSans-2e\"/>\n       <use x=\"95.410156\" xlink:href=\"#DejaVuSans-30\"/>\n      </g>\n     </g>\n    </g>\n    <g id=\"text_7\">\n     <!-- Diameter -->\n     <g transform=\"translate(187.839063 268.034687)scale(0.1 -0.1)\">\n      <defs>\n       <path d=\"M 1259 4147 \nL 1259 519 \nL 2022 519 \nQ 2988 519 3436 956 \nQ 3884 1394 3884 2338 \nQ 3884 3275 3436 3711 \nQ 2988 4147 2022 4147 \nL 1259 4147 \nz\nM 628 4666 \nL 1925 4666 \nQ 3281 4666 3915 4102 \nQ 4550 3538 4550 2338 \nQ 4550 1131 3912 565 \nQ 3275 0 1925 0 \nL 628 0 \nL 628 4666 \nz\n\" id=\"DejaVuSans-44\" transform=\"scale(0.015625)\"/>\n       <path d=\"M 603 3500 \nL 1178 3500 \nL 1178 0 \nL 603 0 \nL 603 3500 \nz\nM 603 4863 \nL 1178 4863 \nL 1178 4134 \nL 603 4134 \nL 603 4863 \nz\n\" id=\"DejaVuSans-69\" transform=\"scale(0.015625)\"/>\n       <path d=\"M 2194 1759 \nQ 1497 1759 1228 1600 \nQ 959 1441 959 1056 \nQ 959 750 1161 570 \nQ 1363 391 1709 391 \nQ 2188 391 2477 730 \nQ 2766 1069 2766 1631 \nL 2766 1759 \nL 2194 1759 \nz\nM 3341 1997 \nL 3341 0 \nL 2766 0 \nL 2766 531 \nQ 2569 213 2275 61 \nQ 1981 -91 1556 -91 \nQ 1019 -91 701 211 \nQ 384 513 384 1019 \nQ 384 1609 779 1909 \nQ 1175 2209 1959 2209 \nL 2766 2209 \nL 2766 2266 \nQ 2766 2663 2505 2880 \nQ 2244 3097 1772 3097 \nQ 1472 3097 1187 3025 \nQ 903 2953 641 2809 \nL 641 3341 \nQ 956 3463 1253 3523 \nQ 1550 3584 1831 3584 \nQ 2591 3584 2966 3190 \nQ 3341 2797 3341 1997 \nz\n\" id=\"DejaVuSans-61\" transform=\"scale(0.015625)\"/>\n       <path d=\"M 3328 2828 \nQ 3544 3216 3844 3400 \nQ 4144 3584 4550 3584 \nQ 5097 3584 5394 3201 \nQ 5691 2819 5691 2113 \nL 5691 0 \nL 5113 0 \nL 5113 2094 \nQ 5113 2597 4934 2840 \nQ 4756 3084 4391 3084 \nQ 3944 3084 3684 2787 \nQ 3425 2491 3425 1978 \nL 3425 0 \nL 2847 0 \nL 2847 2094 \nQ 2847 2600 2669 2842 \nQ 2491 3084 2119 3084 \nQ 1678 3084 1418 2786 \nQ 1159 2488 1159 1978 \nL 1159 0 \nL 581 0 \nL 581 3500 \nL 1159 3500 \nL 1159 2956 \nQ 1356 3278 1631 3431 \nQ 1906 3584 2284 3584 \nQ 2666 3584 2933 3390 \nQ 3200 3197 3328 2828 \nz\n\" id=\"DejaVuSans-6d\" transform=\"scale(0.015625)\"/>\n       <path d=\"M 3597 1894 \nL 3597 1613 \nL 953 1613 \nQ 991 1019 1311 708 \nQ 1631 397 2203 397 \nQ 2534 397 2845 478 \nQ 3156 559 3463 722 \nL 3463 178 \nQ 3153 47 2828 -22 \nQ 2503 -91 2169 -91 \nQ 1331 -91 842 396 \nQ 353 884 353 1716 \nQ 353 2575 817 3079 \nQ 1281 3584 2069 3584 \nQ 2775 3584 3186 3129 \nQ 3597 2675 3597 1894 \nz\nM 3022 2063 \nQ 3016 2534 2758 2815 \nQ 2500 3097 2075 3097 \nQ 1594 3097 1305 2825 \nQ 1016 2553 972 2059 \nL 3022 2063 \nz\n\" id=\"DejaVuSans-65\" transform=\"scale(0.015625)\"/>\n       <path d=\"M 1172 4494 \nL 1172 3500 \nL 2356 3500 \nL 2356 3053 \nL 1172 3053 \nL 1172 1153 \nQ 1172 725 1289 603 \nQ 1406 481 1766 481 \nL 2356 481 \nL 2356 0 \nL 1766 0 \nQ 1100 0 847 248 \nQ 594 497 594 1153 \nL 594 3053 \nL 172 3053 \nL 172 3500 \nL 594 3500 \nL 594 4494 \nL 1172 4494 \nz\n\" id=\"DejaVuSans-74\" transform=\"scale(0.015625)\"/>\n       <path d=\"M 2631 2963 \nQ 2534 3019 2420 3045 \nQ 2306 3072 2169 3072 \nQ 1681 3072 1420 2755 \nQ 1159 2438 1159 1844 \nL 1159 0 \nL 581 0 \nL 581 3500 \nL 1159 3500 \nL 1159 2956 \nQ 1341 3275 1631 3429 \nQ 1922 3584 2338 3584 \nQ 2397 3584 2469 3576 \nQ 2541 3569 2628 3553 \nL 2631 2963 \nz\n\" id=\"DejaVuSans-72\" transform=\"scale(0.015625)\"/>\n      </defs>\n      <use xlink:href=\"#DejaVuSans-44\"/>\n      <use x=\"77.001953\" xlink:href=\"#DejaVuSans-69\"/>\n      <use x=\"104.785156\" xlink:href=\"#DejaVuSans-61\"/>\n      <use x=\"166.064453\" xlink:href=\"#DejaVuSans-6d\"/>\n      <use x=\"263.476562\" xlink:href=\"#DejaVuSans-65\"/>\n      <use x=\"325\" xlink:href=\"#DejaVuSans-74\"/>\n      <use x=\"364.208984\" xlink:href=\"#DejaVuSans-65\"/>\n      <use x=\"425.732422\" xlink:href=\"#DejaVuSans-72\"/>\n     </g>\n    </g>\n   </g>\n   <g id=\"matplotlib.axis_2\">\n    <g id=\"ytick_1\">\n     <g id=\"line2d_7\">\n      <defs>\n       <path d=\"M 0 0 \nL -3.5 0 \n\" id=\"m0899abde23\" style=\"stroke:#000000;stroke-width:0.8;\"/>\n      </defs>\n      <g>\n       <use style=\"stroke:#000000;stroke-width:0.8;\" x=\"43.78125\" xlink:href=\"#m0899abde23\" y=\"232.526627\"/>\n      </g>\n     </g>\n     <g id=\"text_8\">\n      <!-- 0.0 -->\n      <g transform=\"translate(20.878125 236.325846)scale(0.1 -0.1)\">\n       <use xlink:href=\"#DejaVuSans-30\"/>\n       <use x=\"63.623047\" xlink:href=\"#DejaVuSans-2e\"/>\n       <use x=\"95.410156\" xlink:href=\"#DejaVuSans-30\"/>\n      </g>\n     </g>\n    </g>\n    <g id=\"ytick_2\">\n     <g id=\"line2d_8\">\n      <g>\n       <use style=\"stroke:#000000;stroke-width:0.8;\" x=\"43.78125\" xlink:href=\"#m0899abde23\" y=\"197.16478\"/>\n      </g>\n     </g>\n     <g id=\"text_9\">\n      <!-- 0.2 -->\n      <g transform=\"translate(20.878125 200.963998)scale(0.1 -0.1)\">\n       <use xlink:href=\"#DejaVuSans-30\"/>\n       <use x=\"63.623047\" xlink:href=\"#DejaVuSans-2e\"/>\n       <use x=\"95.410156\" xlink:href=\"#DejaVuSans-32\"/>\n      </g>\n     </g>\n    </g>\n    <g id=\"ytick_3\">\n     <g id=\"line2d_9\">\n      <g>\n       <use style=\"stroke:#000000;stroke-width:0.8;\" x=\"43.78125\" xlink:href=\"#m0899abde23\" y=\"161.802932\"/>\n      </g>\n     </g>\n     <g id=\"text_10\">\n      <!-- 0.4 -->\n      <g transform=\"translate(20.878125 165.602151)scale(0.1 -0.1)\">\n       <use xlink:href=\"#DejaVuSans-30\"/>\n       <use x=\"63.623047\" xlink:href=\"#DejaVuSans-2e\"/>\n       <use x=\"95.410156\" xlink:href=\"#DejaVuSans-34\"/>\n      </g>\n     </g>\n    </g>\n    <g id=\"ytick_4\">\n     <g id=\"line2d_10\">\n      <g>\n       <use style=\"stroke:#000000;stroke-width:0.8;\" x=\"43.78125\" xlink:href=\"#m0899abde23\" y=\"126.441085\"/>\n      </g>\n     </g>\n     <g id=\"text_11\">\n      <!-- 0.6 -->\n      <g transform=\"translate(20.878125 130.240304)scale(0.1 -0.1)\">\n       <use xlink:href=\"#DejaVuSans-30\"/>\n       <use x=\"63.623047\" xlink:href=\"#DejaVuSans-2e\"/>\n       <use x=\"95.410156\" xlink:href=\"#DejaVuSans-36\"/>\n      </g>\n     </g>\n    </g>\n    <g id=\"ytick_5\">\n     <g id=\"line2d_11\">\n      <g>\n       <use style=\"stroke:#000000;stroke-width:0.8;\" x=\"43.78125\" xlink:href=\"#m0899abde23\" y=\"91.079237\"/>\n      </g>\n     </g>\n     <g id=\"text_12\">\n      <!-- 0.8 -->\n      <g transform=\"translate(20.878125 94.878456)scale(0.1 -0.1)\">\n       <use xlink:href=\"#DejaVuSans-30\"/>\n       <use x=\"63.623047\" xlink:href=\"#DejaVuSans-2e\"/>\n       <use x=\"95.410156\" xlink:href=\"#DejaVuSans-38\"/>\n      </g>\n     </g>\n    </g>\n    <g id=\"ytick_6\">\n     <g id=\"line2d_12\">\n      <g>\n       <use style=\"stroke:#000000;stroke-width:0.8;\" x=\"43.78125\" xlink:href=\"#m0899abde23\" y=\"55.71739\"/>\n      </g>\n     </g>\n     <g id=\"text_13\">\n      <!-- 1.0 -->\n      <g transform=\"translate(20.878125 59.516609)scale(0.1 -0.1)\">\n       <use xlink:href=\"#DejaVuSans-31\"/>\n       <use x=\"63.623047\" xlink:href=\"#DejaVuSans-2e\"/>\n       <use x=\"95.410156\" xlink:href=\"#DejaVuSans-30\"/>\n      </g>\n     </g>\n    </g>\n    <g id=\"text_14\">\n     <!-- Shucked Weight -->\n     <g transform=\"translate(14.798438 171.271719)rotate(-90)scale(0.1 -0.1)\">\n      <defs>\n       <path d=\"M 3425 4513 \nL 3425 3897 \nQ 3066 4069 2747 4153 \nQ 2428 4238 2131 4238 \nQ 1616 4238 1336 4038 \nQ 1056 3838 1056 3469 \nQ 1056 3159 1242 3001 \nQ 1428 2844 1947 2747 \nL 2328 2669 \nQ 3034 2534 3370 2195 \nQ 3706 1856 3706 1288 \nQ 3706 609 3251 259 \nQ 2797 -91 1919 -91 \nQ 1588 -91 1214 -16 \nQ 841 59 441 206 \nL 441 856 \nQ 825 641 1194 531 \nQ 1563 422 1919 422 \nQ 2459 422 2753 634 \nQ 3047 847 3047 1241 \nQ 3047 1584 2836 1778 \nQ 2625 1972 2144 2069 \nL 1759 2144 \nQ 1053 2284 737 2584 \nQ 422 2884 422 3419 \nQ 422 4038 858 4394 \nQ 1294 4750 2059 4750 \nQ 2388 4750 2728 4690 \nQ 3069 4631 3425 4513 \nz\n\" id=\"DejaVuSans-53\" transform=\"scale(0.015625)\"/>\n       <path d=\"M 3513 2113 \nL 3513 0 \nL 2938 0 \nL 2938 2094 \nQ 2938 2591 2744 2837 \nQ 2550 3084 2163 3084 \nQ 1697 3084 1428 2787 \nQ 1159 2491 1159 1978 \nL 1159 0 \nL 581 0 \nL 581 4863 \nL 1159 4863 \nL 1159 2956 \nQ 1366 3272 1645 3428 \nQ 1925 3584 2291 3584 \nQ 2894 3584 3203 3211 \nQ 3513 2838 3513 2113 \nz\n\" id=\"DejaVuSans-68\" transform=\"scale(0.015625)\"/>\n       <path d=\"M 544 1381 \nL 544 3500 \nL 1119 3500 \nL 1119 1403 \nQ 1119 906 1312 657 \nQ 1506 409 1894 409 \nQ 2359 409 2629 706 \nQ 2900 1003 2900 1516 \nL 2900 3500 \nL 3475 3500 \nL 3475 0 \nL 2900 0 \nL 2900 538 \nQ 2691 219 2414 64 \nQ 2138 -91 1772 -91 \nQ 1169 -91 856 284 \nQ 544 659 544 1381 \nz\nM 1991 3584 \nL 1991 3584 \nz\n\" id=\"DejaVuSans-75\" transform=\"scale(0.015625)\"/>\n       <path d=\"M 3122 3366 \nL 3122 2828 \nQ 2878 2963 2633 3030 \nQ 2388 3097 2138 3097 \nQ 1578 3097 1268 2742 \nQ 959 2388 959 1747 \nQ 959 1106 1268 751 \nQ 1578 397 2138 397 \nQ 2388 397 2633 464 \nQ 2878 531 3122 666 \nL 3122 134 \nQ 2881 22 2623 -34 \nQ 2366 -91 2075 -91 \nQ 1284 -91 818 406 \nQ 353 903 353 1747 \nQ 353 2603 823 3093 \nQ 1294 3584 2113 3584 \nQ 2378 3584 2631 3529 \nQ 2884 3475 3122 3366 \nz\n\" id=\"DejaVuSans-63\" transform=\"scale(0.015625)\"/>\n       <path d=\"M 581 4863 \nL 1159 4863 \nL 1159 1991 \nL 2875 3500 \nL 3609 3500 \nL 1753 1863 \nL 3688 0 \nL 2938 0 \nL 1159 1709 \nL 1159 0 \nL 581 0 \nL 581 4863 \nz\n\" id=\"DejaVuSans-6b\" transform=\"scale(0.015625)\"/>\n       <path d=\"M 2906 2969 \nL 2906 4863 \nL 3481 4863 \nL 3481 0 \nL 2906 0 \nL 2906 525 \nQ 2725 213 2448 61 \nQ 2172 -91 1784 -91 \nQ 1150 -91 751 415 \nQ 353 922 353 1747 \nQ 353 2572 751 3078 \nQ 1150 3584 1784 3584 \nQ 2172 3584 2448 3432 \nQ 2725 3281 2906 2969 \nz\nM 947 1747 \nQ 947 1113 1208 752 \nQ 1469 391 1925 391 \nQ 2381 391 2643 752 \nQ 2906 1113 2906 1747 \nQ 2906 2381 2643 2742 \nQ 2381 3103 1925 3103 \nQ 1469 3103 1208 2742 \nQ 947 2381 947 1747 \nz\n\" id=\"DejaVuSans-64\" transform=\"scale(0.015625)\"/>\n       <path id=\"DejaVuSans-20\" transform=\"scale(0.015625)\"/>\n       <path d=\"M 213 4666 \nL 850 4666 \nL 1831 722 \nL 2809 4666 \nL 3519 4666 \nL 4500 722 \nL 5478 4666 \nL 6119 4666 \nL 4947 0 \nL 4153 0 \nL 3169 4050 \nL 2175 0 \nL 1381 0 \nL 213 4666 \nz\n\" id=\"DejaVuSans-57\" transform=\"scale(0.015625)\"/>\n       <path d=\"M 2906 1791 \nQ 2906 2416 2648 2759 \nQ 2391 3103 1925 3103 \nQ 1463 3103 1205 2759 \nQ 947 2416 947 1791 \nQ 947 1169 1205 825 \nQ 1463 481 1925 481 \nQ 2391 481 2648 825 \nQ 2906 1169 2906 1791 \nz\nM 3481 434 \nQ 3481 -459 3084 -895 \nQ 2688 -1331 1869 -1331 \nQ 1566 -1331 1297 -1286 \nQ 1028 -1241 775 -1147 \nL 775 -588 \nQ 1028 -725 1275 -790 \nQ 1522 -856 1778 -856 \nQ 2344 -856 2625 -561 \nQ 2906 -266 2906 331 \nL 2906 616 \nQ 2728 306 2450 153 \nQ 2172 0 1784 0 \nQ 1141 0 747 490 \nQ 353 981 353 1791 \nQ 353 2603 747 3093 \nQ 1141 3584 1784 3584 \nQ 2172 3584 2450 3431 \nQ 2728 3278 2906 2969 \nL 2906 3500 \nL 3481 3500 \nL 3481 434 \nz\n\" id=\"DejaVuSans-67\" transform=\"scale(0.015625)\"/>\n      </defs>\n      <use xlink:href=\"#DejaVuSans-53\"/>\n      <use x=\"63.476562\" xlink:href=\"#DejaVuSans-68\"/>\n      <use x=\"126.855469\" xlink:href=\"#DejaVuSans-75\"/>\n      <use x=\"190.234375\" xlink:href=\"#DejaVuSans-63\"/>\n      <use x=\"245.214844\" xlink:href=\"#DejaVuSans-6b\"/>\n      <use x=\"299.5\" xlink:href=\"#DejaVuSans-65\"/>\n      <use x=\"361.023438\" xlink:href=\"#DejaVuSans-64\"/>\n      <use x=\"424.5\" xlink:href=\"#DejaVuSans-20\"/>\n      <use x=\"456.287109\" xlink:href=\"#DejaVuSans-57\"/>\n      <use x=\"549.289062\" xlink:href=\"#DejaVuSans-65\"/>\n      <use x=\"610.8125\" xlink:href=\"#DejaVuSans-69\"/>\n      <use x=\"638.595703\" xlink:href=\"#DejaVuSans-67\"/>\n      <use x=\"702.072266\" xlink:href=\"#DejaVuSans-68\"/>\n      <use x=\"765.451172\" xlink:href=\"#DejaVuSans-74\"/>\n     </g>\n    </g>\n   </g>\n   <g id=\"line2d_13\">\n    <path clip-path=\"url(#p4676a690c5)\" d=\"M 58.999432 128.739085 \nL 363.363068 118.091231 \n\" style=\"fill:none;stroke:#1f77b4;stroke-linecap:square;stroke-width:1.5;\"/>\n   </g>\n   <g id=\"patch_3\">\n    <path d=\"M 43.78125 239.758125 \nL 43.78125 22.318125 \n\" style=\"fill:none;stroke:#000000;stroke-linecap:square;stroke-linejoin:miter;stroke-width:0.8;\"/>\n   </g>\n   <g id=\"patch_4\">\n    <path d=\"M 378.58125 239.758125 \nL 378.58125 22.318125 \n\" style=\"fill:none;stroke:#000000;stroke-linecap:square;stroke-linejoin:miter;stroke-width:0.8;\"/>\n   </g>\n   <g id=\"patch_5\">\n    <path d=\"M 43.78125 239.758125 \nL 378.58125 239.758125 \n\" style=\"fill:none;stroke:#000000;stroke-linecap:square;stroke-linejoin:miter;stroke-width:0.8;\"/>\n   </g>\n   <g id=\"patch_6\">\n    <path d=\"M 43.78125 22.318125 \nL 378.58125 22.318125 \n\" style=\"fill:none;stroke:#000000;stroke-linecap:square;stroke-linejoin:miter;stroke-width:0.8;\"/>\n   </g>\n   <g id=\"text_15\">\n    <!-- Abalone -->\n    <g transform=\"translate(186.758438 16.318125)scale(0.12 -0.12)\">\n     <defs>\n      <path d=\"M 2188 4044 \nL 1331 1722 \nL 3047 1722 \nL 2188 4044 \nz\nM 1831 4666 \nL 2547 4666 \nL 4325 0 \nL 3669 0 \nL 3244 1197 \nL 1141 1197 \nL 716 0 \nL 50 0 \nL 1831 4666 \nz\n\" id=\"DejaVuSans-41\" transform=\"scale(0.015625)\"/>\n      <path d=\"M 3116 1747 \nQ 3116 2381 2855 2742 \nQ 2594 3103 2138 3103 \nQ 1681 3103 1420 2742 \nQ 1159 2381 1159 1747 \nQ 1159 1113 1420 752 \nQ 1681 391 2138 391 \nQ 2594 391 2855 752 \nQ 3116 1113 3116 1747 \nz\nM 1159 2969 \nQ 1341 3281 1617 3432 \nQ 1894 3584 2278 3584 \nQ 2916 3584 3314 3078 \nQ 3713 2572 3713 1747 \nQ 3713 922 3314 415 \nQ 2916 -91 2278 -91 \nQ 1894 -91 1617 61 \nQ 1341 213 1159 525 \nL 1159 0 \nL 581 0 \nL 581 4863 \nL 1159 4863 \nL 1159 2969 \nz\n\" id=\"DejaVuSans-62\" transform=\"scale(0.015625)\"/>\n      <path d=\"M 603 4863 \nL 1178 4863 \nL 1178 0 \nL 603 0 \nL 603 4863 \nz\n\" id=\"DejaVuSans-6c\" transform=\"scale(0.015625)\"/>\n      <path d=\"M 1959 3097 \nQ 1497 3097 1228 2736 \nQ 959 2375 959 1747 \nQ 959 1119 1226 758 \nQ 1494 397 1959 397 \nQ 2419 397 2687 759 \nQ 2956 1122 2956 1747 \nQ 2956 2369 2687 2733 \nQ 2419 3097 1959 3097 \nz\nM 1959 3584 \nQ 2709 3584 3137 3096 \nQ 3566 2609 3566 1747 \nQ 3566 888 3137 398 \nQ 2709 -91 1959 -91 \nQ 1206 -91 779 398 \nQ 353 888 353 1747 \nQ 353 2609 779 3096 \nQ 1206 3584 1959 3584 \nz\n\" id=\"DejaVuSans-6f\" transform=\"scale(0.015625)\"/>\n      <path d=\"M 3513 2113 \nL 3513 0 \nL 2938 0 \nL 2938 2094 \nQ 2938 2591 2744 2837 \nQ 2550 3084 2163 3084 \nQ 1697 3084 1428 2787 \nQ 1159 2491 1159 1978 \nL 1159 0 \nL 581 0 \nL 581 3500 \nL 1159 3500 \nL 1159 2956 \nQ 1366 3272 1645 3428 \nQ 1925 3584 2291 3584 \nQ 2894 3584 3203 3211 \nQ 3513 2838 3513 2113 \nz\n\" id=\"DejaVuSans-6e\" transform=\"scale(0.015625)\"/>\n     </defs>\n     <use xlink:href=\"#DejaVuSans-41\"/>\n     <use x=\"68.408203\" xlink:href=\"#DejaVuSans-62\"/>\n     <use x=\"131.884766\" xlink:href=\"#DejaVuSans-61\"/>\n     <use x=\"193.164062\" xlink:href=\"#DejaVuSans-6c\"/>\n     <use x=\"220.947266\" xlink:href=\"#DejaVuSans-6f\"/>\n     <use x=\"282.128906\" xlink:href=\"#DejaVuSans-6e\"/>\n     <use x=\"345.507812\" xlink:href=\"#DejaVuSans-65\"/>\n    </g>\n   </g>\n  </g>\n </g>\n <defs>\n  <clipPath id=\"p4676a690c5\">\n   <rect height=\"217.44\" width=\"334.8\" x=\"43.78125\" y=\"22.318125\"/>\n  </clipPath>\n </defs>\n</svg>\n",
      "image/png": "[encoded data removed]"
     },
     "metadata": {
      "needs_background": "light"
     }
    }
   ],
   "source": [
    "\n",
    "# Load sklearn perceptron\n",
    "clf2 = Perceptron(max_iter=10000, shuffle=True, fit_intercept=True, eta0=0.4)\n",
    "#print(os.getcwd())\n",
    "data = pd.read_csv(\"../../../../../../Downloads/abalone.data\")\n",
    "#print(data)\n",
    "\n",
    "custom_mapping = {'M':2, 'F':1, 'I':0}\n",
    "custom_mapping2 = {1:1,\n",
    "                    2:1,\n",
    "                    3:1,\n",
    "                    4:1,\n",
    "                    5:1,\n",
    "                    6:1,\n",
    "                    7:1,\n",
    "                    8:1,\n",
    "                    9:1,\n",
    "                    10:1,\n",
    "                    11:1,\n",
    "                    12:1,\n",
    "                    13:1,\n",
    "                    14:1,\n",
    "                    15:1,\n",
    "                    16:0,\n",
    "                    17:0,\n",
    "                    18:0,\n",
    "                    19:0,\n",
    "                    20:0,\n",
    "                    21:0,\n",
    "                    22:0,\n",
    "                    23:0,\n",
    "                    24:0,\n",
    "                    25:0,\n",
    "                    26:0,\n",
    "                    27:0,\n",
    "                    28:0,\n",
    "                    29:0}\n",
    "data['M'] = data['M'].map(custom_mapping)\n",
    "data['15'] = data['15'].map(custom_mapping2)\n",
    "\n",
    "# print(data.head())\n",
    "data = data.to_numpy()\n",
    "\n",
    "#print(data)\n",
    "myDf = pd.DataFrame(data, columns = ['Sex', 'Length', 'Diameter', 'Height', 'Whole Weight', 'Shucked Weight', 'Viscera Weight', 'Shell Weight', 'Rings'])\n",
    "#print(myDf)\n",
    "toSplit = myDf.to_numpy()\n",
    "#print(toSplit)\n",
    "\n",
    "SKIP_EVERY = 40\n",
    "\n",
    "X = []\n",
    "y = []\n",
    "y2 = []\n",
    "it = 0\n",
    "for item in toSplit:\n",
    "    #print(item)\n",
    "    X.append(item[0:len(item)-1])\n",
    "    y.append(item[len(item)-1])\n",
    "    if it % SKIP_EVERY == 0:\n",
    "        y2.append([item[len(item)-1]])\n",
    "    it += 1\n",
    "#print(X[0])\n",
    "#print(y[0])\n",
    "\n",
    "# Train on your dataset\n",
    "clf2.fit(X, y)\n",
    "print(clf2.score(X, y))\n",
    "#print(clf2.coef_)\n",
    "\n",
    "X2 = []\n",
    "X22 = []\n",
    "it = 0\n",
    "X_COL = 2\n",
    "Y_COL = 5\n",
    "for x in X:\n",
    "    if it % SKIP_EVERY == 0:\n",
    "        X2.append(x[X_COL])\n",
    "    it += 1\n",
    "it = 0\n",
    "for x in X:\n",
    "    if it % SKIP_EVERY == 0:\n",
    "        X22.append(x[Y_COL])\n",
    "    it += 1\n",
    "\n",
    "columns = ['Sex', 'Length', 'Diameter', 'Height', 'Whole Weight', 'Shucked Weight', 'Viscera Weight', 'Shell Weight', 'Rings']\n",
    "colors = [\"blue\", \"red\"]\n",
    "colormap = matplotlib.colors.ListedColormap(colors)\n",
    "X, y = skdata.load_boston(return_X_y=True)\n",
    "plt.title('Abalone')\n",
    "plt.xlabel(columns[X_COL])\n",
    "plt.ylabel(columns[Y_COL])\n",
    "plt.scatter(X2, X22, c=y2, cmap=colormap)\n",
    "\n",
    "\n",
    "weights2 = clf2.coef_[0]\n",
    "print(weights2)\n",
    "x_line2 = np.arange(0,2)\n",
    "y_line2 = (-weights2[X_COL]/weights2[Y_COL]) * x_line2 - (weights2[len(weights2)-1]/weights2[Y_COL])\n",
    "plt.plot(x_line2,y_line2)\n",
    "\n",
    "plt.show()\n"
   ]
  },
  {
   "cell_type": "markdown",
   "metadata": {
    "id": "BqSFAXwlk3Ms"
   },
   "source": [
    "*Report what hyperparameters you experimented with & what performed well*\n",
    "<br> - I noticed that when I played with the learning rate, it didn't affect my end accuracy, however it affected the magnitude of each of the weights. Which was to be expected.\n",
    "<br> - I also played with the number of iterations, which converged after a certain number of iterations. Where maxIter > 1000 did not affect the accuracy that much. I am thinking that this could be potentially due to overfitting?\n",
    "<br> - Shuffle interestingly enough provided for a more accurate model. It would make sense that it would help generalize, especially with the larger data size. \n",
    "<br> - And the final hyperparameter that I played with was fit_intercept. This was an interesting one to play with, because to my knowledge it determined if the bias was used or not. I found that using the bias, the model was incredibly more accurate. Which was to be expected. "
   ]
  },
  {
   "cell_type": "markdown",
   "metadata": {
    "id": "cTlK-kijk8Mg"
   },
   "source": [
    "## 5. (Optional 5% extra credit) Use the perceptron rule to learn the [iris task](https://raw.githubusercontent.com/cs472ta/CS472/master/datasets/iris.arff) or some other task with more than two possible output values. \n",
    "\n",
    "Note that the [iris data](https://raw.githubusercontent.com/cs472ta/CS472/master/datasets/iris.arff) set has 3 output classes, and a perceptron node only has two possible outputs.  You could implement either of the two most common ways to deal with this. For testing you just execute the novel instance on each model and combine the overall results to see which output class wins."
   ]
  },
  {
   "cell_type": "code",
   "execution_count": 183,
   "metadata": {
    "id": "5iY77P7gk1Nh"
   },
   "outputs": [
    {
     "output_type": "stream",
     "name": "stdout",
     "text": [
      "  % Total    % Received % Xferd  Average Speed   Time    Time     Time  Current\n",
      "                                 Dload  Upload   Total   Spent    Left  Speed\n",
      "100  7485  100  7485    0     0  91280      0 --:--:-- --:--:-- --:--:-- 91280\n",
      "1.0\n",
      "0.62\n",
      "0.8266666666666667\n",
      "[setosa:0.409, versicolor:0.253, virginica:0.338]\n",
      "Weights: [setosa:[ 1.3  5.1 -8.  -3.5], versicolor:[ 15.9 -31.9  11.  -28. ], virginica:[-36.1 -35.4  62.5  57.5]]\n"
     ]
    }
   ],
   "source": [
    "!curl https://raw.githubusercontent.com/cs472ta/CS472/master/datasets/iris.arff --output iris_data.arff\n",
    "iris_data = arff.loadarff('iris_data.arff')\n",
    "iris_df0 = pd.DataFrame(iris_data[0])\n",
    "iris_df1 = pd.DataFrame(iris_data[0])\n",
    "iris_df2 = pd.DataFrame(iris_data[0])\n",
    "\n",
    "#print(iris_df)\n",
    "custom_mapping_iris0 = {'Iris-setosa':1, 'Iris-versicolor':0, 'Iris-virginica':0}\n",
    "custom_mapping_iris1 = {'Iris-setosa':0, 'Iris-versicolor':1, 'Iris-virginica':0}\n",
    "custom_mapping_iris2 = {'Iris-setosa':0, 'Iris-versicolor':0, 'Iris-virginica':1}\n",
    "\n",
    "iris_df0['class'] = iris_df0['class'].str.decode(\"utf-8\")\n",
    "iris_df0['class'] = iris_df0['class'].map(custom_mapping_iris0)\n",
    "iris_df1['class'] = iris_df1['class'].str.decode(\"utf-8\")\n",
    "iris_df1['class'] = iris_df1['class'].map(custom_mapping_iris1)\n",
    "iris_df2['class'] = iris_df2['class'].str.decode(\"utf-8\")\n",
    "iris_df2['class'] = iris_df2['class'].map(custom_mapping_iris2)\n",
    "\n",
    "#print(iris_df)\n",
    "iris_np0 = iris_df0.to_numpy()\n",
    "iris_np1 = iris_df1.to_numpy()\n",
    "iris_np2 = iris_df2.to_numpy()\n",
    "#print(iris_np0)\n",
    "\n",
    "XI0 = []\n",
    "yI0 = []\n",
    "for item in iris_np0:\n",
    "    XI0.append(item[0:len(item)-1])\n",
    "    yI0.append(item[len(item)-1])\n",
    "\n",
    "XI1 = []\n",
    "yI1 = []\n",
    "for item in iris_np1:\n",
    "    XI1.append(item[0:len(item)-1])\n",
    "    yI1.append(item[len(item)-1])\n",
    "\n",
    "XI2 = []\n",
    "yI2 = []\n",
    "for item in iris_np2:\n",
    "    XI2.append(item[0:len(item)-1])\n",
    "    yI2.append(item[len(item)-1])\n",
    "\n",
    "clf0 = Perceptron(max_iter=150, shuffle=True, random_state=1)\n",
    "clf1 = Perceptron(max_iter=150, shuffle=True, random_state=1)\n",
    "clf2 = Perceptron(max_iter=150, shuffle=True, random_state=1)\n",
    "\n",
    "clf0.fit(XI0, yI0)\n",
    "print(clf0.score(XI0, yI0))\n",
    "\n",
    "clf1.fit(XI1, yI1)\n",
    "print(clf1.score(XI1, yI1))\n",
    "\n",
    "clf2.fit(XI2, yI2)\n",
    "print(clf2.score(XI2, yI2))\n",
    "\n",
    "print('[setosa:{x:.3f}, versicolor:{y:.3f}, virginica:{z:.3f}]'.format(x=1/2.447, y=0.62/2.447, z=0.827/2.447))\n",
    "print('Weights: [setosa:{x}, versicolor:{y}, virginica:{z}]'.format(x=clf0.coef_[0], y=clf1.coef_[0], z=clf2.coef_[0]))\n",
    "\n",
    "#y1_train_flat = list(chain.from_iterable(y1_train))\n",
    "# Train on voting dataset\n",
    "#clf.fit(X1_train, y1_train_flat)\n",
    "\n",
    "#y1_test_flat = list(chain.from_iterable(y1_test))\n",
    "#clf.score(X1_test, y1_test_flat)"
   ]
  },
  {
   "cell_type": "code",
   "execution_count": null,
   "metadata": {},
   "outputs": [],
   "source": []
  }
 ],
 "metadata": {
  "colab": {
   "collapsed_sections": [],
   "name": "lab 1 - perceptron",
   "provenance": []
  },
  "kernelspec": {
   "name": "python382jvsc74a57bd031f2aee4e71d21fbe5cf8b01ff0e069b9275f58929596ceb00d14d90e3e16cd6",
   "display_name": "Python 3.8.2 64-bit"
  },
  "language_info": {
   "codemirror_mode": {
    "name": "ipython",
    "version": 3
   },
   "file_extension": ".py",
   "mimetype": "text/x-python",
   "name": "python",
   "nbconvert_exporter": "python",
   "pygments_lexer": "ipython3",
   "version": "3.8.2"
  },
  "metadata": {
   "interpreter": {
    "hash": "31f2aee4e71d21fbe5cf8b01ff0e069b9275f58929596ceb00d14d90e3e16cd6"
   }
  }
 },
 "nbformat": 4,
 "nbformat_minor": 4
}