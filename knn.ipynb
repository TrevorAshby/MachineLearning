{
 "cells": [
  {
   "cell_type": "markdown",
   "metadata": {
    "id": "DVL7_bgmIAPR"
   },
   "source": [
    "# K-Nearest Neighbor Lab\n",
    "\n",
    "\n",
    "\n"
   ]
  },
  {
   "cell_type": "code",
   "execution_count": 109,
   "metadata": {
    "id": "6ZbYjZZZ_yLV"
   },
   "outputs": [],
   "source": [
    "from sklearn.base import BaseEstimator, ClassifierMixin\n",
    "from sklearn.neighbors import KNeighborsClassifier, KNeighborsRegressor\n",
    "import numpy as np\n",
    "import matplotlib.pyplot as plt\n",
    "from scipy.io import arff\n",
    "import pandas as pd\n",
    "import random"
   ]
  },
  {
   "cell_type": "markdown",
   "metadata": {
    "id": "sCcEPx5VIORj"
   },
   "source": [
    "## 1. (40%) Correctly implement the k-nearest neighbor (KNN) algorithm and the KNN regression algorithm\n",
    "\n",
    "### Code requirements\n",
    "- Use Euclidean distance to decide closest neighbors. \n",
    "- Include optional distance weighting for both algorithms\n"
   ]
  },
  {
   "cell_type": "code",
   "execution_count": null,
   "metadata": {
    "id": "_a2KSZ_7AN0G"
   },
   "outputs": [],
   "source": [
    "class KNNClassifier(BaseEstimator,ClassifierMixin):\n",
    "    data = []\n",
    "    labels = []\n",
    "    def __init__(self, columntype=[], weight_type='inverse_distance'): ## add parameters here\n",
    "        \"\"\"\n",
    "        Args:\n",
    "            columntype for each column tells you if continues[real] or if nominal[categoritcal].\n",
    "            weight_type: inverse_distance voting or if non distance weighting. Options = [\"no_weight\",\"inverse_distance\"]\n",
    "        \"\"\"\n",
    "        self.data = []\n",
    "        self.labels = []\n",
    "        self.K = 3 # default set to 3\n",
    "        self.columntype = columntype # Note This won't be needed until part 5\n",
    "        self.weight_type = weight_type\n",
    "        self.isClassification = True # default is classification\n",
    "        self.isWeighted = True # default is true\n",
    "\n",
    "    def fit(self, data, labels):\n",
    "        \"\"\" Fit the data; run the algorithm (for this lab really just saves the data :D)\n",
    "        Args:\n",
    "            X (array-like): A 2D numpy array with the training data, excluding targets\n",
    "            y (array-like): A 2D numpy array with the training targets\n",
    "        Returns:\n",
    "            self: this allows this to be chained, e.g. model.fit(X,y).predict(X_test)\n",
    "        \"\"\"\n",
    "        self.data = data\n",
    "        self.labels = labels\n",
    "        return self\n",
    "    \n",
    "    def predict(self, data):\n",
    "        \"\"\" Predict all classes for a dataset X\n",
    "        Args:\n",
    "            X (array-like): A 2D numpy array with the training data, excluding targets\n",
    "        Returns:\n",
    "            array, shape (n_samples,)\n",
    "                Predicted target values per element in X.\n",
    "        \"\"\"\n",
    "        # The KNN Algorithm\n",
    "        # For each example in the data\n",
    "        distances_indices = []\n",
    "        for inc in range(len(self.data)):\n",
    "            sum = 0\n",
    "            for item in range(len(data)):\n",
    "                # Calculate the distance between the query example and \n",
    "                # the current example from the data.\n",
    "                # print('self.data[inc]: ', self.data[inc])\n",
    "                # print('data: ', data)\n",
    "                # print('item: ', item)\n",
    "                sum += np.abs(self.data[inc][item] - data[item])\n",
    "            # Add the distance and the index of the example to an ordered collection\n",
    "            distances_indices.append([sum, inc])\n",
    "        \n",
    "        # Sort the ordered collection of distances and indices from \n",
    "        # smallest to largest (in ascending order) by the distances\n",
    "        # print('pre-sort: ', distances_indices)\n",
    "        distances_indices = sorted(distances_indices, key=lambda x: x[0])\n",
    "        # print('post-sort: ', distances_indices)\n",
    "\n",
    "        final_selection = []\n",
    "        # Pick the first K entries from the sorted collection\n",
    "        for i in range(self.K):\n",
    "            final_selection.append(distances_indices[i])\n",
    "        \n",
    "        final_labels = []\n",
    "        # Get the labels of the selected K entries\n",
    "        # --------------------------- NEED TO FIX THIS SECTION -------------------------\n",
    "        res = None\n",
    "        avg = 0\n",
    "        if self.isWeighted:\n",
    "            for selection in final_selection:\n",
    "                if not self.isClassification:\n",
    "                    if selection[0] != 0:\n",
    "                        print('selection: ', selection[0])\n",
    "                        avg += (self.labels[selection[1]]) / ((selection[0])**2)\n",
    "                    else:\n",
    "                        avg += 0\n",
    "                else:\n",
    "                    avg += 0\n",
    "                final_labels.append(self.labels[selection[1]])\n",
    "            \n",
    "            myset = set()\n",
    "            # check to see how many different tags there are\n",
    "            if not self.isClassification:\n",
    "                divideBy = 0\n",
    "            for label in final_labels:\n",
    "                if not self.isClassification:\n",
    "                    divideBy += label\n",
    "                myset.add(label)\n",
    "            \n",
    "            if not self.isClassification:\n",
    "                avg /= divideBy\n",
    "            return_values = []\n",
    "            while(len(myset) > 0):\n",
    "                currLabel = myset.pop()\n",
    "                sum = 0\n",
    "                for selection in final_selection:\n",
    "                    # if the labels match\n",
    "                    # mse = self.labels[selection[1]] / \n",
    "                    if self.labels[selection[1]] == currLabel:\n",
    "                        # sum the weighted output\n",
    "                        if selection[0] != 0:\n",
    "                            sum += 1/selection[0]**2\n",
    "                        else:\n",
    "                            sum += 0\n",
    "                return_values.append([sum, currLabel])\n",
    "            return_values = sorted(return_values, key=lambda x: x[0])\n",
    "            # return the one that is the highest\n",
    "            if self.isClassification:\n",
    "                return return_values[len(return_values) - 1][1]\n",
    "            else:\n",
    "                return avg\n",
    "            # FIXME not sure what to do for regression?\n",
    "        \n",
    "        else:\n",
    "            for selection in final_selection:\n",
    "                final_labels.append(self.labels[selection[1]])\n",
    "            # --------------------------- NEED TO FIX THIS SECTION -------------------------\n",
    "            # If regression, return the mean of the K labels\n",
    "            res = max(set(final_labels), key = final_labels.count)\n",
    "            sum = 0\n",
    "            count = 0\n",
    "            for selection in final_selection:\n",
    "                if selection[1] == res:\n",
    "                    count += 1\n",
    "                    sum += selection[0]\n",
    "            \n",
    "            if count != 0:\n",
    "                avg = sum / count\n",
    "            \n",
    "\n",
    "        # If classification, return the mode of the K labels\n",
    "        # res = max(set(final_labels), key = final_labels.count)\n",
    "\n",
    "        # print(res)\n",
    "        if self.isClassification:\n",
    "            return res\n",
    "        else:\n",
    "            return avg\n",
    "\n",
    "    #Returns the Mean score given input data and labels\n",
    "    def score(self, X, y):\n",
    "        \"\"\" Return accuracy of model on a given dataset. Must implement own score function.\n",
    "        Args:\n",
    "            X (array-like): A 2D numpy array with data, excluding targets\n",
    "            y (array-like): A 2D numpy array with targets\n",
    "        Returns:\n",
    "            score : float\n",
    "                Mean accuracy of self.predict(X) wrt. y.\n",
    "        \"\"\"\n",
    "        predictions = []\n",
    "        for x in X:\n",
    "            predictions.append(self.predict(x))\n",
    "\n",
    "        sum = 0\n",
    "        mse = 0\n",
    "        for inc in range(len(predictions)):\n",
    "            mse = (y[inc] - predictions[inc])**2\n",
    "            if predictions[inc] == y[inc]:\n",
    "                sum += 1\n",
    "        mse /= len(predictions)\n",
    "        sum /= len(predictions)\n",
    "        if self.isClassification == True:\n",
    "            return sum\n",
    "        else:\n",
    "            return mse\n",
    "\n",
    "    def setK(self, kToSetTo):\n",
    "        self.K = kToSetTo\n",
    "\n",
    "    def setClassification(self, classifcationToSet):\n",
    "        self.isClassification = classifcationToSet\n",
    "    \n",
    "    def setIsWeighted(self, weightedToSet):\n",
    "        self.isWeighted = weightedToSet\n",
    "    "
   ]
  },
  {
   "cell_type": "markdown",
   "metadata": {},
   "source": [
    "## 1.1 Debug and Evaluation\n",
    "\n",
    "Debug and Evaluate your model using the parameters below:\n",
    "\n",
    "- Use distance weighting\n",
    "- KNN = 3 (three nearest neighbors)\n",
    "- Don’t normalize the data\n",
    "- Use Euclidean Distance\n",
    "\n",
    "---\n",
    "\n",
    "### 1.1.1 Debug\n",
    "\n",
    "- Use this [training set](https://raw.githubusercontent.com/cs472ta/CS472/master/datasets/glass_train.arff) and this [test set](https://raw.githubusercontent.com/cs472ta/CS472/master/datasets/glass_test.arff)\n",
    "- Use distance weighting\n",
    "- KNN = 3 (three nearest neighbors)\n",
    "- Don’t normalize the data\n",
    "- Use Euclidean Distance\n",
    "\n",
    "Expected Results:\n",
    "- Not using inverse weighted distancing = roughly [68.29%]\n",
    "- Link to [debug solution](https://github.com/cs472ta/CS472/blob/master/debug_solutions/glass_no_inv_prediction.csv)\n",
    "\n",
    "- Using inverse weighted distancing = roughly [74.39%]\n",
    "- Link to [debug solution](https://github.com/cs472ta/CS472/blob/master/debug_solutions/glass_inv_prediction.csv)\n"
   ]
  },
  {
   "cell_type": "code",
   "execution_count": 8,
   "metadata": {},
   "outputs": [
    {
     "name": "stdout",
     "output_type": "stream",
     "text": [
      "  % Total    % Received % Xferd  Average Speed   Time    Time     Time  Current\n",
      "                                 Dload  Upload   Total   Spent    Left  Speed\n",
      "100 12431  100 12431    0     0  24762      0 --:--:-- --:--:-- --:--:-- 24762\n",
      "  % Total    % Received % Xferd  Average Speed   Time    Time     Time  Current\n",
      "                                 Dload  Upload   Total   Spent    Left  Speed\n",
      "100  5431  100  5431    0     0   8512      0 --:--:-- --:--:-- --:--:--  8499\n",
      "Not using Inverse-Weighting:  0.7073170731707317\n",
      "Using Inverse-Weighting:  0.7682926829268293\n"
     ]
    }
   ],
   "source": [
    "!curl https://raw.githubusercontent.com/cs472ta/CS472/master/datasets/glass_train.arff --output debug_data.arff\n",
    "debug_data = arff.loadarff('debug_data.arff')\n",
    "debug_df = pd.DataFrame(debug_data[0])\n",
    "\n",
    "debug_df['Type'] = debug_df['Type'].str.decode('utf-8')\n",
    "# debug_df.head()\n",
    "\n",
    "debug_np = debug_df.to_numpy()\n",
    "debug_training_np = debug_np.tolist()\n",
    "\n",
    "!curl https://raw.githubusercontent.com/cs472ta/CS472/master/datasets/glass_test.arff --output debug_data.arff\n",
    "debug_data = arff.loadarff('debug_data.arff')\n",
    "debug_df = pd.DataFrame(debug_data[0])\n",
    "\n",
    "debug_df['Type'] = debug_df['Type'].str.decode('utf-8')\n",
    "# debug_df.head()\n",
    "debug_np = debug_df.to_numpy()\n",
    "debug_test_np = debug_np.tolist()\n",
    "\n",
    "# print(len(debug_training_np))\n",
    "# print(len(debug_test_np))\n",
    "\n",
    "X_train = []\n",
    "y_train = []\n",
    "for x in debug_training_np:\n",
    "    X_train.append(x[0:len(x)-1])\n",
    "    y_train.append(x[len(x)-1])\n",
    "\n",
    "X_test = []\n",
    "y_test = []\n",
    "for x in debug_test_np:\n",
    "    X_test.append(x[0:len(x)-1])\n",
    "    y_test.append(x[len(x)-1])\n",
    "\n",
    "# Load glass data\n",
    "\n",
    "# Train on training set\n",
    "model = KNNClassifier()\n",
    "model.fit(X_train, y_train)\n",
    "\n",
    "# Predict on test set\n",
    "model.setIsWeighted(False)\n",
    "print('Not using Inverse-Weighting: ', model.score(X_test, y_test))\n",
    "model.setIsWeighted(True)\n",
    "print('Using Inverse-Weighting: ', model.score(X_test, y_test))\n"
   ]
  },
  {
   "cell_type": "markdown",
   "metadata": {},
   "source": [
    "### 1.1.2 Evaluate\n",
    "\n",
    "We will evaluate your model based on its performance on the [diabetes](https://archive.ics.uci.edu/ml/datasets/Diabetes) problem.\n",
    "- Use this [training set](https://raw.githubusercontent.com/cs472ta/CS472/master/datasets/diabetes_train.arff) and this [test set](https://raw.githubusercontent.com/cs472ta/CS472/master/datasets/diabetes_test.arff)"
   ]
  },
  {
   "cell_type": "code",
   "execution_count": 62,
   "metadata": {},
   "outputs": [
    {
     "name": "stdout",
     "output_type": "stream",
     "text": [
      "  % Total    % Received % Xferd  Average Speed   Time    Time     Time  Current\n",
      "                                 Dload  Upload   Total   Spent    Left  Speed\n",
      "100 37419  100 37419    0     0   103k      0 --:--:-- --:--:-- --:--:--  102k\n",
      "  % Total    % Received % Xferd  Average Speed   Time    Time     Time  Current\n",
      "                                 Dload  Upload   Total   Spent    Left  Speed\n",
      "100 73698  100 73698    0     0   224k      0 --:--:-- --:--:-- --:--:--  224k\n",
      "Not using Inverse-Weighting:  0.8346354166666666\n",
      "Using Inverse-Weighting:  0.8815104166666666\n"
     ]
    }
   ],
   "source": [
    "!curl https://raw.githubusercontent.com/cs472ta/CS472/master/datasets/diabetes_train.arff --output diabetes_train_data.arff\n",
    "diabetes_train_data = arff.loadarff('diabetes_train_data.arff')\n",
    "diabetes_train_df = pd.DataFrame(diabetes_train_data[0])\n",
    "diabetes_train_df['class'] = diabetes_train_df['class'].str.decode('utf-8')\n",
    "#print(diabetes_train_df.head())\n",
    "\n",
    "diabetes_train_np = diabetes_train_df.to_numpy()\n",
    "diabetes_train_np = diabetes_train_np.tolist()\n",
    "\n",
    "!curl https://raw.githubusercontent.com/cs472ta/CS472/master/datasets/diabetes_test.arff --output diabetes_test_data.arff\n",
    "diabetes_test_data = arff.loadarff('diabetes_test_data.arff')\n",
    "diabetes_test_df = pd.DataFrame(diabetes_test_data[0])\n",
    "diabetes_test_df['class'] = diabetes_test_df['class'].str.decode('utf-8')\n",
    "#print(diabetes_test_df.head())\n",
    "\n",
    "diabetes_test_np = diabetes_test_df.to_numpy()\n",
    "diabetes_test_np = diabetes_test_np.tolist()\n",
    "\n",
    "X_train = []\n",
    "y_train = []\n",
    "for x in diabetes_train_np:\n",
    "    X_train.append(x[0:len(x)-1])\n",
    "    y_train.append(x[len(x)-1])\n",
    "\n",
    "X_test = []\n",
    "y_test = []\n",
    "for x in diabetes_test_np:\n",
    "    X_test.append(x[0:len(x)-1])\n",
    "    y_test.append(x[len(x)-1])\n",
    "\n",
    "# Load diabetes data\n",
    "\n",
    "# Train on training set\n",
    "model = KNNClassifier()\n",
    "model.fit(X_train, y_train)\n",
    "\n",
    "# Predict on test set\n",
    "model.setIsWeighted(False)\n",
    "print('Not using Inverse-Weighting: ', model.score(X_test, y_test))\n",
    "model.setIsWeighted(True)\n",
    "print('Using Inverse-Weighting: ', model.score(X_test, y_test))\n"
   ]
  },
  {
   "cell_type": "markdown",
   "metadata": {
    "id": "9vWiTdlbR2Xh"
   },
   "source": [
    "## 2. (10%) Use the k-nearest neighbor algorithm (without distance weighting) for the [magic telescope](http://archive.ics.uci.edu/ml/datasets/MAGIC+Gamma+Telescope) problem\n",
    "\n",
    "- Use this [training set](https://raw.githubusercontent.com/cs472ta/CS472/master/datasets/magic_telescope_train.arff) and this [test set](https://raw.githubusercontent.com/cs472ta/CS472/master/datasets/magic_telescope_test.arff) \n",
    "\n",
    "### 2.1\n",
    "- Try it with k=3 and without normalization\n"
   ]
  },
  {
   "cell_type": "code",
   "execution_count": 95,
   "metadata": {
    "id": "4SSoasDQSKXb"
   },
   "outputs": [
    {
     "name": "stdout",
     "output_type": "stream",
     "text": [
      "  % Total    % Received % Xferd  Average Speed   Time    Time     Time  Current\n",
      "                                 Dload  Upload   Total   Spent    Left  Speed\n",
      "100  937k  100  937k    0     0  1202k      0 --:--:-- --:--:-- --:--:-- 1200k\n",
      "   fLength   fWidth   fSize   fConc  fConc1    fAsym  fM3Long  fM3Trans  \\\n",
      "0  22.7815  14.9526  2.4362  0.4982  0.2509 -14.2836  -9.3635   13.0939   \n",
      "1  40.6756  15.5940  2.7447  0.2772  0.1449  19.6226   9.0297    7.4157   \n",
      "2  12.8427  11.3821  2.1255  0.7191  0.4232 -14.9637   8.5891    6.9418   \n",
      "3  77.0262  32.2880  3.3502  0.3152  0.1868 -28.6712 -35.9464  -31.4001   \n",
      "4  27.5146  11.2114  2.6637  0.4643  0.2687  42.4467  33.0422   -6.3980   \n",
      "\n",
      "    fAlpha     fDist class  \n",
      "0   3.0779  141.5620     g  \n",
      "1  15.4260  193.2340     g  \n",
      "2  82.4198  183.9790     g  \n",
      "3   0.8940  357.0440     g  \n",
      "4  50.3004  239.8878     h  \n",
      "  % Total    % Received % Xferd  Average Speed   Time    Time     Time  Current\n",
      "                                 Dload  Upload   Total   Spent    Left  Speed\n",
      "100  505k  100  505k    0     0   852k      0 --:--:-- --:--:-- --:--:--  851k\n",
      "   fLength   fWidth   fSize   fConc  fConc1    fAsym  fM3Long  fM3Trans  \\\n",
      "0  30.5540  21.1807  2.7509  0.2715  0.1500   2.1798 -20.8938  -15.2262   \n",
      "1  59.2444  10.4634  2.8051  0.4019  0.1971  49.4360  25.1317    7.0386   \n",
      "2  43.2183  22.3250  3.0828  0.2884  0.1715 -59.4190 -26.8643  -16.6142   \n",
      "3  22.3630  11.6285  2.4793  0.5937  0.3566   9.8142  21.2192    6.6890   \n",
      "4  41.8044  20.9524  2.7348  0.2468  0.1280  72.2250 -22.3472   17.6023   \n",
      "\n",
      "    fAlpha    fDist class  \n",
      "0   2.2982  197.390     g  \n",
      "1  71.0828   48.129     h  \n",
      "2   4.1112  279.854     g  \n",
      "3  38.9391  148.678     h  \n",
      "4  22.3263  122.320     g  \n"
     ]
    }
   ],
   "source": [
    "!curl https://raw.githubusercontent.com/cs472ta/CS472/master/datasets/magic_telescope_train.arff --output telescope_train_data.arff\n",
    "telescope_train_data = arff.loadarff('telescope_train_data.arff')\n",
    "telescope_train_df = pd.DataFrame(telescope_train_data[0])\n",
    "telescope_train_df['class'] = telescope_train_df['class'].str.decode('utf-8')\n",
    "for col in telescope_train_df:\n",
    "    if col != 'class':\n",
    "        telescope_train_df[col] = telescope_train_df[col].astype(float)\n",
    "#print(diabetes_train_df.head())\n",
    "\n",
    "telescope_train_np = telescope_train_df.to_numpy()\n",
    "telescope_train_np = telescope_train_np.tolist()\n",
    "print(telescope_train_df.head())\n",
    "\n",
    "!curl https://raw.githubusercontent.com/cs472ta/CS472/master/datasets/magic_telescope_test.arff --output telescope_test_data.arff\n",
    "telescope_test_data = arff.loadarff('telescope_test_data.arff')\n",
    "telescope_test_df = pd.DataFrame(telescope_test_data[0])\n",
    "telescope_test_df['class'] = telescope_test_df['class'].str.decode('utf-8')\n",
    "for col in telescope_test_df:\n",
    "    if col != 'class':\n",
    "        telescope_test_df[col] = telescope_test_df[col].astype(float)\n",
    "\n",
    "telescope_test_np = telescope_test_df.to_numpy()\n",
    "telescope_test_np = telescope_test_np.tolist()\n",
    "print(telescope_test_df.head())\n",
    "\n",
    "X_train = []\n",
    "y_train = []\n",
    "for x in telescope_train_np:\n",
    "    X_train.append(x[0:len(x)-1])\n",
    "    y_train.append(x[len(x)-1])\n",
    "\n",
    "X_test = []\n",
    "y_test = []\n",
    "for x in telescope_test_np:\n",
    "    X_test.append(x[0:len(x)-1])\n",
    "    y_test.append(x[len(x)-1])\n",
    "\n",
    "# Load magic telescope data\n",
    "# print(X_test)\n"
   ]
  },
  {
   "cell_type": "code",
   "execution_count": 61,
   "metadata": {},
   "outputs": [
    {
     "name": "stdout",
     "output_type": "stream",
     "text": [
      "Not using Inverse-Weighting:  0.8093309330933093\n"
     ]
    }
   ],
   "source": [
    "# Train/Predict without normalization\n",
    "model = KNNClassifier()\n",
    "model.fit(X_train, y_train)\n",
    "\n",
    "# Predict on test set\n",
    "model.setIsWeighted(False)\n",
    "print('Not using Inverse-Weighting: ', model.score(X_test, y_test))\n",
    "# model.setIsWeighted(True)\n",
    "# print('Using Inverse-Weighting: ', model.score(X_test, y_test))"
   ]
  },
  {
   "cell_type": "markdown",
   "metadata": {},
   "source": [
    "### 2.2\n",
    "- Try it with k=3 and with normalization (input features normalized between 0 and 1). Use the normalization formula (x-xmin)/(xmax-xmin)"
   ]
  },
  {
   "cell_type": "code",
   "execution_count": 84,
   "metadata": {},
   "outputs": [
    {
     "name": "stdout",
     "output_type": "stream",
     "text": [
      "X_train:  [0.35294117647058826, 0.7437185929648241, 0.5901639344262295, 0.35353535353535354, 0.0, 0.5007451564828614, 0.23441502988898377, 0.48333333333333334]\n",
      "X_test:  [0.25656488235294117, 0.7612573467336684, 0.5961878114754099, 0.3549416868686868, 0.0008475378250591016, 0.5451267064083458, 1.8518761742100767, 0.5484687833333334]\n"
     ]
    },
    {
     "data": {
      "text/plain": "KNNClassifier()"
     },
     "execution_count": 84,
     "metadata": {},
     "output_type": "execute_result"
    }
   ],
   "source": [
    "def normalizeData(input):\n",
    "    columns = []\n",
    "    maxValues = []\n",
    "    minValues = []\n",
    "\n",
    "    # for the number of columns\n",
    "    for item in range(len(input[0])):\n",
    "        # for each row\n",
    "        temp = []\n",
    "        for value in range(len(input)):\n",
    "            temp.append(input[value][item])\n",
    "\n",
    "        columns.append(temp)\n",
    "    \n",
    "    for item in columns:\n",
    "        maxValues.append(max(item))\n",
    "        minValues.append(min(item))\n",
    "    # print('col: ', columns)\n",
    "    # print('max: ', maxValues)\n",
    "    # print('min: ', minValues)\n",
    "    return maxValues, minValues\n",
    "\n",
    "print('X_train: ', X_train[0])\n",
    "print('X_test: ', X_test[0])\n",
    "\n",
    "maxValues, minValues = normalizeData(X_train)\n",
    "for incX in range(len(X_train)):\n",
    "    for valX in range(len(X_train[incX])):\n",
    "        X_train[incX][valX] = (X_train[incX][valX] - minValues[valX]) / (maxValues[valX] - minValues[valX])\n",
    "\n",
    "# maxValues, minValues = normalizeData(X_test)\n",
    "for incX in range(len(X_test)):\n",
    "    for valX in range(len(X_test[incX])):\n",
    "        X_test[incX][valX] = (X_test[incX][valX] - minValues[valX]) / (maxValues[valX] - minValues[valX])\n",
    "\n",
    "#print('max: ', maxValues)\n",
    "#print('min: ', minValues)\n",
    "#print('X_train: ', X_train[0])\n",
    "#print('X_test: ', X_test[0])\n",
    "\n",
    "# Train/Predict with normalization\n",
    "model = KNNClassifier()\n",
    "model.fit(X_train, y_train)\n",
    "\n",
    "# Predict on test set\n",
    "# model.setIsWeighted(False)\n",
    "# print('Not using Inverse-Weighting: ', model.score(X_test, y_test))"
   ]
  },
  {
   "cell_type": "code",
   "execution_count": 40,
   "metadata": {},
   "outputs": [
    {
     "name": "stdout",
     "output_type": "stream",
     "text": [
      "Not using Inverse-Weighting:  0.8372337233723373\n"
     ]
    }
   ],
   "source": [
    "model.setIsWeighted(False)\n",
    "print('Not using Inverse-Weighting: ', model.score(X_test, y_test))"
   ]
  },
  {
   "cell_type": "markdown",
   "metadata": {},
   "source": [
    "*Discuss the accuracy results of using normalized data vs. unnormalized data* --------- The accuracy of the normalized data vs. the unnormalized data was roughly 4% better than the unnormalized data. I could see that normalizing the data would be incredibly beneficial especially when it came to making a more robust system. Especially because test values are not going to be known."
   ]
  },
  {
   "cell_type": "markdown",
   "metadata": {},
   "source": [
    "### 2.3\n",
    "\n",
    "- Using your normalized data, create one graph with classification accuracy on the test set over k values. \n",
    "    - Use odd values of k from 1 to 15.\n",
    "- As a rough sanity check, typical knn accuracies for the magic telescope data set are 75-85%"
   ]
  },
  {
   "cell_type": "code",
   "execution_count": 57,
   "metadata": {},
   "outputs": [
    {
     "name": "stdout",
     "output_type": "stream",
     "text": [
      "completed:  1\n",
      "completed:  3\n",
      "completed:  5\n",
      "completed:  7\n",
      "completed:  9\n",
      "completed:  11\n",
      "completed:  13\n",
      "completed:  15\n"
     ]
    }
   ],
   "source": [
    "# Train/Predict with normalization using k=1,3,...,15\n",
    "scores = []\n",
    "k_values = []\n",
    "for i in range(15):\n",
    "    if i % 2 == 0:\n",
    "        model.setK(i+1)\n",
    "        scores.append(model.score(X_test, y_test))\n",
    "        print('completed: ', i+1)\n",
    "        k_values.append(i+1)\n"
   ]
  },
  {
   "cell_type": "code",
   "execution_count": 58,
   "metadata": {},
   "outputs": [
    {
     "name": "stdout",
     "output_type": "stream",
     "text": [
      "[0.8172817281728173, 0.8372337233723373, 0.8453345334533453, 0.8468346834683468, 0.8471347134713472, 0.8472847284728473, 0.8496849684968497, 0.8474347434743474]\n",
      "[1, 3, 5, 7, 9, 11, 13, 15]\n"
     ]
    },
    {
     "data": {
      "text/plain": "[<matplotlib.lines.Line2D at 0x12f15d970>]"
     },
     "execution_count": 58,
     "metadata": {},
     "output_type": "execute_result"
    },
    {
     "data": {
      "image/png": "[encoded data removed]",
      "text/plain": "<Figure size 432x288 with 1 Axes>"
     },
     "metadata": {
      "needs_background": "light"
     },
     "output_type": "display_data"
    }
   ],
   "source": [
    "# Graph classification accuracy over k\n",
    "print(scores)\n",
    "print(k_values)\n",
    "plt.plot(k_values, scores)"
   ]
  },
  {
   "cell_type": "markdown",
   "metadata": {},
   "source": [
    "# For the rest of the experiments use only normalized data"
   ]
  },
  {
   "cell_type": "markdown",
   "metadata": {
    "id": "SIRG42TgSR4x"
   },
   "source": [
    "## 3. (10%) Use the regression variation of your algorithm (without distance weighting) for the [housing price prediction](https://www.cs.toronto.edu/~delve/data/boston/bostonDetail.html) problem.\n",
    "\n",
    "- Use this [training set](https://raw.githubusercontent.com/cs472ta/CS472/master/datasets/housing_train.arff) and this [test set](https://raw.githubusercontent.com/cs472ta/CS472/master/datasets/housing_test.arff).\n",
    "- Use Mean Square Error (MSE) on the test set as your accuracy metric for this case.\n",
    "    - Do not normalize regression output values\n",
    "- Graph MSE on the test set with odd values of k from 1 to 15\n"
   ]
  },
  {
   "cell_type": "code",
   "execution_count": 75,
   "metadata": {
    "id": "KBGUn43ASiXW"
   },
   "outputs": [
    {
     "name": "stdout",
     "output_type": "stream",
     "text": [
      "  % Total    % Received % Xferd  Average Speed   Time    Time     Time  Current\n",
      "                                 Dload  Upload   Total   Spent    Left  Speed\n",
      "100 34205  100 34205    0     0   115k      0 --:--:-- --:--:-- --:--:--  115k\n",
      "  % Total    % Received % Xferd  Average Speed   Time    Time     Time  Current\n",
      "                                 Dload  Upload   Total   Spent    Left  Speed\n",
      "100  3885  100  3885    0     0  13036      0 --:--:-- --:--:-- --:--:-- 13036\n"
     ]
    },
    {
     "data": {
      "text/plain": "KNNClassifier()"
     },
     "execution_count": 75,
     "metadata": {},
     "output_type": "execute_result"
    }
   ],
   "source": [
    "# Load housing price prediction data\n",
    "!curl https://raw.githubusercontent.com/cs472ta/CS472/master/datasets/housing_train.arff --output housing_train_data.arff\n",
    "housing_train_data = arff.loadarff('housing_train_data.arff')\n",
    "housing_train_df = pd.DataFrame(housing_train_data[0])\n",
    "housing_train_df = housing_train_df.astype(float)\n",
    "# print(housing_train_df.head())\n",
    "housing_train_np = housing_train_df.to_numpy()\n",
    "housing_train_np = housing_train_np.tolist()\n",
    "#print(housing_train_np)\n",
    "\n",
    "!curl https://raw.githubusercontent.com/cs472ta/CS472/master/datasets/housing_test.arff --output housing_test_data.arff\n",
    "housing_test_data = arff.loadarff('housing_test_data.arff')\n",
    "housing_test_df = pd.DataFrame(housing_test_data[0])\n",
    "housing_test_df = housing_test_df.astype(float)\n",
    "\n",
    "housing_test_np = housing_test_df.to_numpy()\n",
    "housing_test_np = housing_test_np.tolist()\n",
    "\n",
    "\n",
    "X_train_housing = []\n",
    "y_train_housing = []\n",
    "for x in housing_train_np:\n",
    "    X_train_housing.append(x[0:len(x)-1])\n",
    "    y_train_housing.append(x[len(x)-1])\n",
    "\n",
    "X_test_housing = []\n",
    "y_test_housing = []\n",
    "for x in housing_test_np:\n",
    "    X_test_housing.append(x[0:len(x)-1])\n",
    "    y_test_housing.append(x[len(x)-1])\n",
    "\n",
    "\n",
    "\n",
    "maxValues, minValues = normalizeData(X_train_housing)\n",
    "for incX in range(len(X_train_housing)):\n",
    "    for valX in range(len(X_train_housing[incX])):\n",
    "        X_train_housing[incX][valX] = (X_train_housing[incX][valX] - minValues[valX]) / (maxValues[valX] - minValues[valX])\n",
    "\n",
    "# maxValues, minValues = normalizeData(X_test)\n",
    "for incX in range(len(X_test_housing)):\n",
    "    for valX in range(len(X_test_housing[incX])):\n",
    "        X_test_housing[incX][valX] = (X_test_housing[incX][valX] - minValues[valX]) / (maxValues[valX] - minValues[valX])\n",
    "\n",
    "model2 = KNNClassifier()\n",
    "model2.setClassification(False)\n",
    "model2.setIsWeighted(False)\n",
    "model2.fit(X_train_housing, y_train_housing)"
   ]
  },
  {
   "cell_type": "code",
   "execution_count": 65,
   "metadata": {},
   "outputs": [
    {
     "name": "stdout",
     "output_type": "stream",
     "text": [
      "completed:  1\n",
      "completed:  3\n",
      "completed:  5\n",
      "completed:  7\n",
      "completed:  9\n",
      "completed:  11\n",
      "completed:  13\n",
      "completed:  15\n"
     ]
    }
   ],
   "source": [
    "# Train/Predict using k=1,3,...,15\n",
    "scores2 = []\n",
    "k_values2 = []\n",
    "for i in range(15):\n",
    "    if i % 2 == 0:\n",
    "            model2.setK(i+1)\n",
    "            scores2.append(model2.score(X_test_housing, y_test_housing))\n",
    "            print('completed: ', i+1)\n",
    "            k_values2.append(i+1)"
   ]
  },
  {
   "cell_type": "code",
   "execution_count": 66,
   "metadata": {},
   "outputs": [
    {
     "name": "stdout",
     "output_type": "stream",
     "text": [
      "[5.534117647058824, 5.534117647058824, 5.534117647058824, 5.534117647058824, 5.534117647058824, 5.534117647058824, 5.534117647058824, 5.534117647058824]\n",
      "[1, 3, 5, 7, 9, 11, 13, 15]\n"
     ]
    },
    {
     "data": {
      "text/plain": "[<matplotlib.lines.Line2D at 0x12cbd7b80>]"
     },
     "execution_count": 66,
     "metadata": {},
     "output_type": "execute_result"
    },
    {
     "data": {
      "image/png": "[encoded data removed]",
      "text/plain": "<Figure size 432x288 with 1 Axes>"
     },
     "metadata": {
      "needs_background": "light"
     },
     "output_type": "display_data"
    }
   ],
   "source": [
    "# Graph MSE over k\n",
    "# Graph classification accuracy over k\n",
    "print(scores2)\n",
    "print(k_values2)\n",
    "plt.plot(k_values2, scores2)"
   ]
  },
  {
   "cell_type": "markdown",
   "metadata": {
    "id": "v19fpixqTe-7"
   },
   "source": [
    "## 4. (15%) Repeat your experiments for magic telescope and housing using distance-weighted (inverse of distance squared) voting and discuss your results.\n"
   ]
  },
  {
   "cell_type": "markdown",
   "metadata": {},
   "source": [
    "## 4.1 Magic Telescope Dataset"
   ]
  },
  {
   "cell_type": "code",
   "execution_count": 106,
   "metadata": {
    "id": "ZCPFUAGTS2sX"
   },
   "outputs": [
    {
     "data": {
      "text/plain": "KNNClassifier()"
     },
     "execution_count": 106,
     "metadata": {},
     "output_type": "execute_result"
    }
   ],
   "source": [
    "# Train/Predict magic telescope using distance-weighted voting\n",
    "model3 = KNNClassifier()\n",
    "model3.setClassification(True)\n",
    "model3.setIsWeighted(True)\n",
    "model3.fit(X_train, y_train)"
   ]
  },
  {
   "cell_type": "code",
   "execution_count": 108,
   "metadata": {},
   "outputs": [
    {
     "name": "stderr",
     "output_type": "stream",
     "text": [
      "<ipython-input-105-3bfbdb30aad3>:101: RuntimeWarning: divide by zero encountered in double_scalars\n",
      "  sum += 1/selection[0]**2\n"
     ]
    },
    {
     "ename": "KeyboardInterrupt",
     "evalue": "",
     "output_type": "error",
     "traceback": [
      "\u001b[0;31m---------------------------------------------------------------------------\u001b[0m",
      "\u001b[0;31mKeyboardInterrupt\u001b[0m                         Traceback (most recent call last)",
      "\u001b[0;32m<ipython-input-108-5c5919328079>\u001b[0m in \u001b[0;36m<module>\u001b[0;34m\u001b[0m\n\u001b[1;32m      4\u001b[0m     \u001b[0;32mif\u001b[0m \u001b[0mi\u001b[0m \u001b[0;34m==\u001b[0m \u001b[0;36m3\u001b[0m \u001b[0;32mor\u001b[0m \u001b[0mi\u001b[0m \u001b[0;34m==\u001b[0m \u001b[0;36m7\u001b[0m\u001b[0;34m:\u001b[0m\u001b[0;34m\u001b[0m\u001b[0;34m\u001b[0m\u001b[0m\n\u001b[1;32m      5\u001b[0m             \u001b[0mmodel3\u001b[0m\u001b[0;34m.\u001b[0m\u001b[0msetK\u001b[0m\u001b[0;34m(\u001b[0m\u001b[0mi\u001b[0m\u001b[0;34m+\u001b[0m\u001b[0;36m1\u001b[0m\u001b[0;34m)\u001b[0m\u001b[0;34m\u001b[0m\u001b[0;34m\u001b[0m\u001b[0m\n\u001b[0;32m----> 6\u001b[0;31m             \u001b[0mscores3\u001b[0m\u001b[0;34m.\u001b[0m\u001b[0mappend\u001b[0m\u001b[0;34m(\u001b[0m\u001b[0mmodel3\u001b[0m\u001b[0;34m.\u001b[0m\u001b[0mscore\u001b[0m\u001b[0;34m(\u001b[0m\u001b[0mX_test\u001b[0m\u001b[0;34m,\u001b[0m \u001b[0my_test\u001b[0m\u001b[0;34m)\u001b[0m\u001b[0;34m)\u001b[0m\u001b[0;34m\u001b[0m\u001b[0;34m\u001b[0m\u001b[0m\n\u001b[0m\u001b[1;32m      7\u001b[0m             \u001b[0mprint\u001b[0m\u001b[0;34m(\u001b[0m\u001b[0;34m'completed: '\u001b[0m\u001b[0;34m,\u001b[0m \u001b[0mi\u001b[0m\u001b[0;34m+\u001b[0m\u001b[0;36m1\u001b[0m\u001b[0;34m)\u001b[0m\u001b[0;34m\u001b[0m\u001b[0;34m\u001b[0m\u001b[0m\n\u001b[1;32m      8\u001b[0m             \u001b[0mk_values3\u001b[0m\u001b[0;34m.\u001b[0m\u001b[0mappend\u001b[0m\u001b[0;34m(\u001b[0m\u001b[0mi\u001b[0m\u001b[0;34m+\u001b[0m\u001b[0;36m1\u001b[0m\u001b[0;34m)\u001b[0m\u001b[0;34m\u001b[0m\u001b[0;34m\u001b[0m\u001b[0m\n",
      "\u001b[0;32m<ipython-input-105-3bfbdb30aad3>\u001b[0m in \u001b[0;36mscore\u001b[0;34m(self, X, y)\u001b[0m\n\u001b[1;32m    147\u001b[0m         \u001b[0mpredictions\u001b[0m \u001b[0;34m=\u001b[0m \u001b[0;34m[\u001b[0m\u001b[0;34m]\u001b[0m\u001b[0;34m\u001b[0m\u001b[0;34m\u001b[0m\u001b[0m\n\u001b[1;32m    148\u001b[0m         \u001b[0;32mfor\u001b[0m \u001b[0mx\u001b[0m \u001b[0;32min\u001b[0m \u001b[0mX\u001b[0m\u001b[0;34m:\u001b[0m\u001b[0;34m\u001b[0m\u001b[0;34m\u001b[0m\u001b[0m\n\u001b[0;32m--> 149\u001b[0;31m             \u001b[0mpredictions\u001b[0m\u001b[0;34m.\u001b[0m\u001b[0mappend\u001b[0m\u001b[0;34m(\u001b[0m\u001b[0mself\u001b[0m\u001b[0;34m.\u001b[0m\u001b[0mpredict\u001b[0m\u001b[0;34m(\u001b[0m\u001b[0mx\u001b[0m\u001b[0;34m)\u001b[0m\u001b[0;34m)\u001b[0m\u001b[0;34m\u001b[0m\u001b[0;34m\u001b[0m\u001b[0m\n\u001b[0m\u001b[1;32m    150\u001b[0m \u001b[0;34m\u001b[0m\u001b[0m\n\u001b[1;32m    151\u001b[0m         \u001b[0msum\u001b[0m \u001b[0;34m=\u001b[0m \u001b[0;36m0\u001b[0m\u001b[0;34m\u001b[0m\u001b[0;34m\u001b[0m\u001b[0m\n",
      "\u001b[0;32m<ipython-input-105-3bfbdb30aad3>\u001b[0m in \u001b[0;36mpredict\u001b[0;34m(self, data)\u001b[0m\n\u001b[1;32m     47\u001b[0m                 \u001b[0;31m# print('data: ', data)\u001b[0m\u001b[0;34m\u001b[0m\u001b[0;34m\u001b[0m\u001b[0;34m\u001b[0m\u001b[0m\n\u001b[1;32m     48\u001b[0m                 \u001b[0;31m# print('item: ', item)\u001b[0m\u001b[0;34m\u001b[0m\u001b[0;34m\u001b[0m\u001b[0;34m\u001b[0m\u001b[0m\n\u001b[0;32m---> 49\u001b[0;31m                 \u001b[0msum\u001b[0m \u001b[0;34m+=\u001b[0m \u001b[0mnp\u001b[0m\u001b[0;34m.\u001b[0m\u001b[0mabs\u001b[0m\u001b[0;34m(\u001b[0m\u001b[0mself\u001b[0m\u001b[0;34m.\u001b[0m\u001b[0mdata\u001b[0m\u001b[0;34m[\u001b[0m\u001b[0minc\u001b[0m\u001b[0;34m]\u001b[0m\u001b[0;34m[\u001b[0m\u001b[0mitem\u001b[0m\u001b[0;34m]\u001b[0m \u001b[0;34m-\u001b[0m \u001b[0mdata\u001b[0m\u001b[0;34m[\u001b[0m\u001b[0mitem\u001b[0m\u001b[0;34m]\u001b[0m\u001b[0;34m)\u001b[0m\u001b[0;34m\u001b[0m\u001b[0;34m\u001b[0m\u001b[0m\n\u001b[0m\u001b[1;32m     50\u001b[0m             \u001b[0;31m# Add the distance and the index of the example to an ordered collection\u001b[0m\u001b[0;34m\u001b[0m\u001b[0;34m\u001b[0m\u001b[0;34m\u001b[0m\u001b[0m\n\u001b[1;32m     51\u001b[0m             \u001b[0mdistances_indices\u001b[0m\u001b[0;34m.\u001b[0m\u001b[0mappend\u001b[0m\u001b[0;34m(\u001b[0m\u001b[0;34m[\u001b[0m\u001b[0msum\u001b[0m\u001b[0;34m,\u001b[0m \u001b[0minc\u001b[0m\u001b[0;34m]\u001b[0m\u001b[0;34m)\u001b[0m\u001b[0;34m\u001b[0m\u001b[0;34m\u001b[0m\u001b[0m\n",
      "\u001b[0;31mKeyboardInterrupt\u001b[0m: "
     ]
    }
   ],
   "source": [
    "scores3 = []\n",
    "k_values3 = []\n",
    "for i in range(15):\n",
    "    if i == 3 or i == 7:\n",
    "            model3.setK(i+1)\n",
    "            scores3.append(model3.score(X_test, y_test))\n",
    "            print('completed: ', i+1)\n",
    "            k_values3.append(i+1)"
   ]
  },
  {
   "cell_type": "markdown",
   "metadata": {},
   "source": [
    "## 4.2 Housing Dataset"
   ]
  },
  {
   "cell_type": "code",
   "execution_count": 67,
   "metadata": {},
   "outputs": [
    {
     "data": {
      "text/plain": "KNNClassifier()"
     },
     "execution_count": 67,
     "metadata": {},
     "output_type": "execute_result"
    }
   ],
   "source": [
    "# Train/Predict housing using distance-weighted voting\n",
    "model4 = KNNClassifier()\n",
    "model4.setClassification(False)\n",
    "model4.setIsWeighted(True)\n",
    "model4.fit(X_train_housing, y_train_housing)"
   ]
  },
  {
   "cell_type": "code",
   "execution_count": 68,
   "metadata": {},
   "outputs": [
    {
     "name": "stdout",
     "output_type": "stream",
     "text": [
      "completed:  1\n",
      "completed:  3\n",
      "completed:  5\n",
      "completed:  7\n",
      "completed:  9\n",
      "completed:  11\n",
      "completed:  13\n",
      "completed:  15\n"
     ]
    }
   ],
   "source": [
    "scores4 = []\n",
    "k_values4 = []\n",
    "for i in range(15):\n",
    "    if i % 2 == 0:\n",
    "            model4.setK(i+1)\n",
    "            scores4.append(model4.score(X_test_housing, y_test_housing))\n",
    "            print('completed: ', i+1)\n",
    "            k_values4.append(i+1)"
   ]
  },
  {
   "cell_type": "code",
   "execution_count": 69,
   "metadata": {},
   "outputs": [
    {
     "name": "stdout",
     "output_type": "stream",
     "text": [
      "[3.660394501635618, 2.5939840393810325, 0.09083397722480108, 0.09398081439653426, 0.4169789254955246, 0.7504350347865282, 1.0415002391439967, 1.3080479671085947]\n",
      "[1, 3, 5, 7, 9, 11, 13, 15]\n"
     ]
    },
    {
     "data": {
      "text/plain": "[<matplotlib.lines.Line2D at 0x12f1c56d0>]"
     },
     "execution_count": 69,
     "metadata": {},
     "output_type": "execute_result"
    },
    {
     "data": {
      "image/png": "[encoded data removed]",
      "text/plain": "<Figure size 432x288 with 1 Axes>"
     },
     "metadata": {
      "needs_background": "light"
     },
     "output_type": "display_data"
    }
   ],
   "source": [
    "# Graph classification accuracy over k\n",
    "print(scores4)\n",
    "print(k_values4)\n",
    "plt.plot(k_values4, scores4)"
   ]
  },
  {
   "cell_type": "markdown",
   "metadata": {},
   "source": [
    "*Discuss your results* ------ Something that I noticed is that the model had an issue learning the regression case when weights were not involved. However, once the weights were included, the model began to learn much better. It even began to overfit I dare say."
   ]
  },
  {
   "cell_type": "markdown",
   "metadata": {},
   "source": [
    "## 5. (10%) Use the k-nearest neighbor algorithm to solve the [credit-approval](https://archive.ics.uci.edu/ml/datasets/Credit+Approval) (credit-a) problem.\n",
    "\n",
    "- Use this [dataset](https://raw.githubusercontent.com/cs472ta/CS472/master/datasets/credit_approval.arff)\n",
    "    - Use a 70/30 split of the data for the training/test set\n",
    "- Note that this set has both continuous and nominal attributes, together with don’t know values. \n",
    "- Implement and justify a distance metric which supports continuous, nominal, and don’t know attribute values\n",
    "    - You need to handle don't knows with the distance metric, not by imputing a value.\n",
    "    - More information on distance metrics can be found [here](https://www.jair.org/index.php/jair/article/view/10182/24168).\n",
    "- Use your own choice for k.\n",
    "- As a rough sanity check, typical knn accuracies for the credit data set are 70-80%.\n"
   ]
  },
  {
   "cell_type": "code",
   "execution_count": null,
   "metadata": {},
   "outputs": [],
   "source": [
    "!curl https://raw.githubusercontent.com/cs472ta/CS472/master/datasets/credit_approval.arff --output credit_data.arff\n",
    "credit_data = arff.loadarff('credit_data.arff')\n",
    "credit_df = pd.DataFrame(credit_data[0])\n",
    "A1_mask = {'a':0, '?':-1, 'b':1}\n",
    "A4_mask = {'l':0, '?':-1, 'u':1, 'y':2}\n",
    "A5_mask = {'g':0, 'gg':1, '?':-1, 'p':2}\n",
    "A6_mask = {'j':0, 'aa':1, 'w':2, 'd':3, 'c':4, 'q':5, 'i':6, 'cc':7, 'ff':8, 'r':9, 'x':10, 'k':11, 'e':12, 'm':13, '?':-1}\n",
    "A7_mask = {'j':0, 'ff':1, 'bb':2, 'z':3, 'v':4, 'dd':5, 'o':6, 'h':7, 'n':8, '?':-1}\n",
    "A9_10_12_mask = {'f':0, 't':1}\n",
    "A13_mask = {'s':0, 'g':1, 'p':2}\n",
    "class_mask = {'-':0, '+':1}\n",
    "\n",
    "credit_df['A1'] = credit_df['A1'].str.decode('utf-8')\n",
    "credit_df['A1'] = credit_df['A1'].map(A1_mask)\n",
    "credit_df['A4'] = credit_df['A4'].str.decode('utf-8')\n",
    "credit_df['A4'] = credit_df['A4'].map(A4_mask)\n",
    "credit_df['A5'] = credit_df['A5'].str.decode('utf-8')\n",
    "credit_df['A5'] = credit_df['A5'].map(A5_mask)\n",
    "credit_df['A6'] = credit_df['A6'].str.decode('utf-8')\n",
    "credit_df['A6'] = credit_df['A6'].map(A6_mask)\n",
    "credit_df['A7'] = credit_df['A7'].str.decode('utf-8')\n",
    "credit_df['A7'] = credit_df['A7'].map(A7_mask)\n",
    "credit_df['A9'] = credit_df['A9'].str.decode('utf-8')\n",
    "credit_df['A9'] = credit_df['A9'].map(A9_10_12_mask)\n",
    "credit_df['A10'] = credit_df['A10'].str.decode('utf-8')\n",
    "credit_df['A10'] = credit_df['A10'].map(A9_10_12_mask)\n",
    "credit_df['A12'] = credit_df['A12'].str.decode('utf-8')\n",
    "credit_df['A12'] = credit_df['A12'].map(A9_10_12_mask)\n",
    "credit_df['A13'] = credit_df['A13'].str.decode('utf-8')\n",
    "credit_df['A13'] = credit_df['A13'].map(A13_mask)\n",
    "credit_df['class'] = credit_df['class'].str.decode('utf-8')\n",
    "credit_df['class'] = credit_df['class'].map(class_mask)\n",
    "\n",
    "credit_np = credit_df.to_numpy()\n",
    "credit_np = credit_np.tolist()\n",
    "#print(credit_np)\n",
    "\n",
    "count = 0.3 * len(credit_np)\n",
    "count = int(count)\n",
    "print('cnt: ', count)\n",
    "\n",
    "test_set = []\n",
    "while(len(test_set) < count):\n",
    "    pos = random.randint(0, len(test_set))\n",
    "    test_set.append(credit_np[pos])\n",
    "    del credit_np[pos]\n",
    "\n",
    "print()\n",
    "\n",
    "\"\"\"A1_list = set()\n",
    "A4_list = set()\n",
    "A5_list = set()\n",
    "A6_list = set()\n",
    "A7_list = set()\n",
    "A9_list = set()\n",
    "A10_list = set()\n",
    "A12_list = set()\n",
    "A13_list = set()\n",
    "class_list = set()\n",
    "\n",
    "for item in credit_df['A1']:\n",
    "    A1_list.add(item)\n",
    "for item in credit_df['A4']:\n",
    "    A4_list.add(item)\n",
    "for item in credit_df['A5']:\n",
    "    A5_list.add(item)\n",
    "for item in credit_df['A6']:\n",
    "    A6_list.add(item)\n",
    "for item in credit_df['A7']:\n",
    "    A7_list.add(item)\n",
    "for item in credit_df['A9']:\n",
    "    A9_list.add(item)\n",
    "for item in credit_df['A10']:\n",
    "    A10_list.add(item)\n",
    "for item in credit_df['A12']:\n",
    "    A12_list.add(item)\n",
    "for item in credit_df['A13']:\n",
    "    A13_list.add(item)\n",
    "for item in credit_df['class']:\n",
    "    class_list.add(item)\n",
    "\n",
    "print('A1: ', A1_list)\n",
    "print('A4: ', A4_list)\n",
    "print('A5: ', A5_list)\n",
    "print('A6: ', A6_list)\n",
    "print('A7: ', A7_list)\n",
    "print('A9: ', A9_list)\n",
    "print('A10: ', A10_list)\n",
    "print('A12: ', A12_list)\n",
    "print('A13: ', A13_list)\n",
    "print('class: ', class_list)\"\"\"\n",
    "\n",
    "\n",
    "\n",
    "\n",
    "# Load dataset and split into train/test sets\n",
    "\n",
    "# Train/Predict credit-approval\n"
   ]
  },
  {
   "cell_type": "markdown",
   "metadata": {},
   "source": [
    "*Explain and justify your distance metric*"
   ]
  },
  {
   "cell_type": "markdown",
   "metadata": {
    "id": "oBBmeNQ7jvcQ"
   },
   "source": [
    "## 6. (15%) Use the scikit's KNN Classifier on magic telescope and KNN Regressor on housing and compare your results.\n",
    "\n",
    "- Try out different hyperparameters to see how well you can do. \n"
   ]
  },
  {
   "cell_type": "code",
   "execution_count": 70,
   "metadata": {
    "id": "OFQv70W2VyqJ"
   },
   "outputs": [
    {
     "name": "stdout",
     "output_type": "stream",
     "text": [
      "Telescope:  0.8658854166666666\n",
      "Housing:  0.7991753902998118\n"
     ]
    }
   ],
   "source": [
    "# Train/Predict magic telescope using scikit's KNN\n",
    "classifier = KNeighborsClassifier(3, weights='distance')\n",
    "classifier.fit(X_train, y_train)\n",
    "print('Telescope: ', classifier.score(X_test, y_test))\n",
    "\n",
    "# Train/Predict housing using scikit's KNN\n",
    "regressor = KNeighborsRegressor(3, weights='distance')\n",
    "regressor.fit(X_train_housing, y_train_housing)\n",
    "print('Housing: ', regressor.score(X_test_housing, y_test_housing))\n"
   ]
  },
  {
   "cell_type": "markdown",
   "metadata": {
    "id": "BqSFAXwlk3Ms"
   },
   "source": [
    "*Report your comparison* --------- Surprisingly enough, my model was fairly comparable to the sklearn models this time around. Other than beingg much slower, I got similar values and accuracies when it came to the different datasets."
   ]
  },
  {
   "cell_type": "markdown",
   "metadata": {
    "id": "cTlK-kijk8Mg"
   },
   "source": [
    "## 7. (optional 5% extra credit): For the best value of k for any one of the datasets, implement a reduction algorithm that removes data points in some rational way such that performance does not drop too drastically on the test set given the reduced training set.\n",
    "\n",
    "- Compare your performance on the test set for the reduced and non-reduced versions and give the number (and percentage) of training examples removed from the original training set. How well does your reduction algorithm work?\n",
    "    - Note that performance for magic telescope is classification accuracy and for housing it is mean squared error.\n",
    "    - Magic Telescope has about 12,000 instances and if you use a leave one out style of testing for your data set reduction, then your algorithm will run slow since that is n2 at each step.\n",
    "    - If you wish, you may use a random subset of 2,000 of the magic telescope instances.\n",
    "    - More information on reduction techniques can be found [here](http://axon.cs.byu.edu/~martinez/classes/478/slides/IBL.pdf).\n"
   ]
  },
  {
   "cell_type": "code",
   "execution_count": null,
   "metadata": {
    "id": "5iY77P7gk1Nh"
   },
   "outputs": [],
   "source": []
  }
 ],
 "metadata": {
  "colab": {
   "collapsed_sections": [],
   "name": "lab 1 - perceptron",
   "provenance": []
  },
  "kernelspec": {
   "display_name": "Python 3.8.2 64-bit",
   "name": "python382jvsc74a57bd031f2aee4e71d21fbe5cf8b01ff0e069b9275f58929596ceb00d14d90e3e16cd6"
  },
  "language_info": {
   "codemirror_mode": {
    "name": "ipython",
    "version": 3
   },
   "file_extension": ".py",
   "mimetype": "text/x-python",
   "name": "python",
   "nbconvert_exporter": "python",
   "pygments_lexer": "ipython3",
   "version": "3.8.2"
  },
  "metadata": {
   "interpreter": {
    "hash": "31f2aee4e71d21fbe5cf8b01ff0e069b9275f58929596ceb00d14d90e3e16cd6"
   }
  }
 },
 "nbformat": 4,
 "nbformat_minor": 4
}