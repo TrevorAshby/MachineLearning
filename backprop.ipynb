{
 "cells": [
  {
   "cell_type": "markdown",
   "metadata": {
    "id": "DVL7_bgmIAPR"
   },
   "source": [
    "# Backpropagation Lab\n",
    "\n",
    "\n",
    "\n"
   ]
  },
  {
   "cell_type": "code",
   "execution_count": 1,
   "metadata": {
    "id": "6ZbYjZZZ_yLV"
   },
   "outputs": [],
   "source": [
    "from sklearn.base import BaseEstimator, ClassifierMixin\n",
    "from sklearn.neural_network import MLPClassifier\n",
    "import numpy as np\n",
    "import pandas as pd\n",
    "import matplotlib.pyplot as plt\n",
    "from scipy.io import arff\n",
    "from tabulate import tabulate\n",
    "from IPython.display import HTML, display\n",
    "from random import seed\n",
    "from random import randint"
   ]
  },
  {
   "cell_type": "markdown",
   "metadata": {
    "id": "sCcEPx5VIORj"
   },
   "source": [
    "## 1. (40%) Correctly implement and submit your own code for the backpropagation algorithm. \n",
    "\n",
    "## Code requirements \n",
    "- Ability to create a network structure with at least one hidden layer and an arbitrary number of nodes.\n",
    "- Random weight initialization with small random weights with mean of 0 and a variance of 1.\n",
    "- Use Stochastic/On-line training updates: Iterate and update weights after each training instance (i.e. do not attempt batch updates)\n",
    "- Implement a validation set based stopping criterion.\n",
    "- Shuffle training set at each epoch.\n",
    "- Option to include a momentum term\n",
    "\n",
    "You may use your own random train/test split or use the scikit-learn version if you want.\n",
    "\n",
    "Use your Backpropagation algorithm to solve the Debug data. We provide you with several parameters, and you should be able to replicate our results every time. When you are confident it is correct, run your script on the Evaluation data with the same parameters, and print your final weights."
   ]
  },
  {
   "cell_type": "code",
   "execution_count": 3,
   "metadata": {
    "id": "_a2KSZ_7AN0G"
   },
   "outputs": [],
   "source": [
    "class MLP(BaseEstimator,ClassifierMixin):\n",
    "    is_binary = True\n",
    "    layer2_weights = []\n",
    "    layer1_weights = []\n",
    "    prevDeltaW = []\n",
    "    numOutputs = 0\n",
    "    classificationAcc_perEpoch = []\n",
    "    MSEperEpoch = []\n",
    "    MSEperEpoch_validation = []\n",
    "    ranEpochs = 0\n",
    "    def __init__(self,lr=.1, momentum=0, validationSize = 0, shuffle=True, hidden_layer_widths=None, numEpochs=10, sensitivity=10):\n",
    "        \"\"\" Initialize class with chosen hyperparameters.\n",
    "\n",
    "        Args:\n",
    "            lr (float): A learning rate / step size.\n",
    "            shuffle(boolean): Whether to shuffle the training data each epoch. DO NOT SHUFFLE for evaluation / debug datasets.\n",
    "            momentum(float): The momentum coefficent \n",
    "        Optional Args (Args we think will make your life easier):\n",
    "            hidden_layer_widths (list(int)): A list of integers which defines the width of each hidden layer if hidden layer is none do twice as many hidden nodes as input nodes.\n",
    "        Example:\n",
    "            mlp = MLP(lr=.2,momentum=.5,shuffle=False,hidden_layer_widths = [3,3]),  <--- this will create a model with two hidden layers, both 3 nodes wide\n",
    "        \"\"\"\n",
    "        self.hidden_layer_widths = hidden_layer_widths\n",
    "        self.lr = lr\n",
    "        self.momentum = momentum\n",
    "        self.shuffle = shuffle\n",
    "        self.layer1_weights = []\n",
    "        self.layer2_weights = []\n",
    "        self.prevDeltaW = []\n",
    "        self.is_binary = True\n",
    "        self.validationSize = validationSize\n",
    "        self.numEpochs = numEpochs\n",
    "        self.sensitivity = sensitivity\n",
    "    \n",
    "    def set_numOutput(self, setTo):\n",
    "        self.numOutputs = setTo\n",
    "    \n",
    "    def set_numEpochs(self, setTo):\n",
    "        self.numEpochs = setTo\n",
    "    \n",
    "    def forward_pass(self, x):\n",
    "        # -------------- first row ---------------\n",
    "        listOfOuts = []\n",
    "        temp2 = []\n",
    "        for item in x:\n",
    "            temp2.append(item)\n",
    "        temp2.append(1) # for the bias\n",
    "        listOfOuts.append(temp2)\n",
    "        #print('listofins: ', listOfOuts)\n",
    "        listOfNets = []\n",
    "        temp2 = []\n",
    "        for inc in range(self.hidden_layer_widths):\n",
    "            tempWeights = []\n",
    "            for weight in self.layer1_weights:\n",
    "                tempWeights.append(weight[inc])\n",
    "            #print('tempW: ', tempWeights)\n",
    "            net = np.dot(listOfOuts[0], tempWeights) # use 0 for first row\n",
    "            #print('net: ', net)\n",
    "            temp2.append(net) # this is used to add another dimention to listOfNets to separate it based on 'layer'\n",
    "        listOfNets.append(temp2)\n",
    "        #print('listofnets: ', listOfNets)\n",
    "\n",
    "        # --------------- second row ---------------\n",
    "        temp2 = []\n",
    "        for inc in range(self.hidden_layer_widths):\n",
    "            temp = 1 / (1 + np.exp(-1 * listOfNets[0][inc]))\n",
    "            temp2.append(temp)\n",
    "        temp2.append(1) # for the bias\n",
    "        listOfOuts.append(temp2)\n",
    "        #print('listofouts: ', listOfOuts)\n",
    "\n",
    "        temp2 = []\n",
    "        for inc in range(self.numOutputs):\n",
    "            tempWeights = []\n",
    "            for weight in self.layer2_weights:\n",
    "                tempWeights.append(weight[inc])\n",
    "            net = np.dot(listOfOuts[1], tempWeights)\n",
    "            temp2.append(net)\n",
    "        listOfNets.append(temp2)\n",
    "\n",
    "        # --------------- output row ---------------\n",
    "        temp2 = []\n",
    "        for inc in range(self.numOutputs):\n",
    "            temp = 1 / (1 + np.exp(-1 * listOfNets[1][inc]))\n",
    "            temp2.append(temp)\n",
    "        listOfOuts.append(temp2)\n",
    "        #print('N: ', listOfNets)\n",
    "        #print('O: ', listOfOuts)\n",
    "        return listOfNets, listOfOuts\n",
    "\n",
    "    def backward_pass(self, listOfNets, listOfOuts, y):\n",
    "        listOfSig = []\n",
    "        deltaW = []\n",
    "\n",
    "        # --------------- 2nd layer ------------------\n",
    "        temp2 = []\n",
    "        #print('loO: ', listOfOuts)\n",
    "        for node in range(len(listOfOuts[2])):\n",
    "            temp = (y[node] - listOfOuts[2][node]) * (listOfOuts[2][node] * (1 - listOfOuts[2][node]))\n",
    "            temp2.append(temp)\n",
    "        listOfSig.append(temp2)\n",
    "\n",
    "        temp2 = []\n",
    "        prevPos = 0\n",
    "        for node in range(len(listOfOuts[1])):\n",
    "            for node2 in range(len(listOfSig[0])):\n",
    "                #print('lr: ', self.lr)\n",
    "                #print('loO: ', listOfOuts[1][node])\n",
    "                #print('loS: ', listOfSig[node2])\n",
    "                if len(self.prevDeltaW) != 0:\n",
    "                    temp = self.lr * listOfOuts[1][node] * listOfSig[0][node2] + (self.momentum * self.prevDeltaW[0][prevPos])\n",
    "                else:\n",
    "                    temp = self.lr * listOfOuts[1][node] * listOfSig[0][node2]\n",
    "                temp2.append(temp)\n",
    "                prevPos += 1  \n",
    "        deltaW.append(temp2) # this goes w31, w32, w41, w42, etc. | temp2 used to add another dimention for organization\n",
    "        #print('dW: ', deltaW)\n",
    "\n",
    "        # ---------------- 1st layer -----------------\n",
    "        temp2 = []\n",
    "        #print(self.layer2_weights)\n",
    "        #print(listOfSig)\n",
    "        \n",
    "        # --------- FIXME BELOW NEEDS FIXED ----------\n",
    "        for node in range(len(self.layer2_weights)-1):\n",
    "            # temp = ((sig1 * w31) + (sig2 * w32)) * (o3 * (1 - o3))\n",
    "            sum = 0\n",
    "            for sig in range(len(listOfSig[0])):\n",
    "                sum += listOfSig[0][sig] * self.layer2_weights[node][sig]\n",
    "            temp = sum * (listOfOuts[1][node] * (1 - listOfOuts[1][node]))\n",
    "            temp2.append(temp)\n",
    "        listOfSig.append(temp2)\n",
    "        # --------------------------------------------\n",
    "        #print('SIG: ', listOfSig)\n",
    "\n",
    "        temp2 = []\n",
    "        prevPos = 0\n",
    "        for node in range(len(listOfOuts[0])):\n",
    "            for node2 in range(len(listOfSig[1])):\n",
    "                if len(self.prevDeltaW) != 0:\n",
    "                    temp = self.lr * listOfOuts[0][node] * listOfSig[1][node2] + (self.momentum * self.prevDeltaW[1][prevPos])\n",
    "                else:\n",
    "                    temp = self.lr * listOfOuts[0][node] * listOfSig[1][node2]\n",
    "                temp2.append(temp)\n",
    "                prevPos += 1\n",
    "                \n",
    "        deltaW.append(temp2)\n",
    "        #print('loO: ', listOfOuts)\n",
    "        #print('loS: ', listOfSig)\n",
    "        #print('dW: ', deltaW)\n",
    "        return deltaW\n",
    "            \n",
    "    def oneHotEncode(self, input):\n",
    "        # have default array\n",
    "        default = []\n",
    "        for i in range(self.numOutputs):\n",
    "            default.append(0)\n",
    "\n",
    "        to_return = []\n",
    "        #print('in: ', input)\n",
    "        for item in input:\n",
    "            temp = []\n",
    "            temp = default.copy()\n",
    "            #print('tmp: ', temp)\n",
    "            temp[int(item)] = 1\n",
    "            to_return.append(temp)\n",
    "        #print('ret: ', to_return)\n",
    "        return to_return\n",
    "\n",
    "    def fit_inner(self, X, y, y_to_use):\n",
    "        \n",
    "                for inc in range(len(X)):\n",
    "                    listOfNets, listOfOuts = self.forward_pass(X[inc])\n",
    "                    #print('nets: ', listOfNets)\n",
    "                    #print('outs: ', listOfOuts)\n",
    "                    deltaW = self.backward_pass(listOfNets, listOfOuts, y_to_use[inc]) # delW[0] = layer2, delW[1] = layer1\n",
    "                    # print('dW: ', deltaW)\n",
    "                    self.prevDeltaW = deltaW\n",
    "                    #print('PRE - l1: ', self.layer1_weights)\n",
    "                    #print('PRE - l2: ', self.layer2_weights)\n",
    "                    # time to sum the weights\n",
    "                    # layer2\n",
    "                    weight_indx = 0\n",
    "                    #print('dW: ', deltaW)\n",
    "                    #print('lenL2: ', len(self.layer2_weights))\n",
    "                    #print('L2: ', self.layer2_weights)\n",
    "                    for node in range(len(self.layer2_weights)):\n",
    "                        \n",
    "                        for weight in range(len(self.layer2_weights[node])):\n",
    "                            #print('windx: ', weight_indx)\n",
    "                            self.layer2_weights[node][weight] += deltaW[0][weight_indx]\n",
    "                            weight_indx += 1\n",
    "                            #print('update')\n",
    "\n",
    "                    # layer1\n",
    "                    weight_indx = 0\n",
    "                    for node in range(len(self.layer1_weights)):\n",
    "                        for weight in range(len(self.layer1_weights[node])):\n",
    "                            self.layer1_weights[node][weight] += deltaW[1][weight_indx]\n",
    "                            weight_indx += 1\n",
    "                    \n",
    "                    #print('dW: ', deltaW)\n",
    "                    #print('POST - l1: ', self.layer1_weights)\n",
    "                    #print('POST - l2: ', self.layer2_weights)\n",
    "                    #print('---------------------------------------------')\n",
    "                    #if inc == 3: break\n",
    "                \n",
    "    def create_random_validation_split(self, X, y):\n",
    "        # calculate percentage to get \n",
    "        validationPercent = self.validationSize / 100\n",
    "        # this should return a value of how many samples to take from train set for validation set\n",
    "        validationSetSize = int(validationPercent * len(X))\n",
    "\n",
    "        X_return = []\n",
    "        y_return = []\n",
    "        seed(10)\n",
    "        for i in range(validationSetSize):\n",
    "            randomPos = randint(0, len(X)-1)\n",
    "            X_return.append(X[randomPos])\n",
    "            y_return.append(y[randomPos])\n",
    "        \n",
    "        return X_return, y_return\n",
    "\n",
    "    def fit(self, X, y, initial_weights=None):\n",
    "        \"\"\" Fit the data; run the algorithm and adjust the weights to find a good solution\n",
    "\n",
    "        Args:\n",
    "            X (array-like): A 2D numpy array with the training data, excluding targets\n",
    "            y (array-like): A 2D numpy array with the training targets\n",
    "        Optional Args (Args we think will make your life easier):\n",
    "            initial_weights (array-like): allows the user to provide initial weights\n",
    "        Returns:\n",
    "            self: this allows this to be chained, e.g. model.fit(X,y).predict(X_test)\n",
    "        \"\"\"\n",
    "        self.classificationAcc_perEpoch = []\n",
    "        self.MSEperEpoch = []\n",
    "        self.MSEperEpoch_validation = []\n",
    "        self.weights = self.initialize_weights(X) if not initial_weights else initial_weights\n",
    "        #print('X: ', X)\n",
    "        #print('y: ', y)\n",
    "        #print('---------------------------------')\n",
    "        y_to_use = []\n",
    "        # have some way to determine number of classes in data, make vector of 0's that is length of num classes. Put 1 in class value\n",
    "        if self.numOutputs > 1:\n",
    "            y_to_use = self.oneHotEncode(y)\n",
    "            # need to one-hot the target y's\n",
    "        else:\n",
    "            for item in y:\n",
    "                y_to_use.append([item])\n",
    "        useValidation = False\n",
    "        if self.validationSize != 0:\n",
    "            useValidation = True\n",
    "\n",
    "        if useValidation == False:\n",
    "            for i in range(self.numEpochs):\n",
    "                self.fit_inner(X, y, y_to_use)\n",
    "\n",
    "                missClass = self.score(X, y, False)\n",
    "                self.classificationAcc_perEpoch.append(missClass)\n",
    "\n",
    "                if self.shuffle:\n",
    "                    self._shuffle_data(X, y)\n",
    "        else:\n",
    "            validationX, validationY = self.create_random_validation_split(X, y)\n",
    "            keepGoing = True\n",
    "            triggerCount = 0\n",
    "            while(keepGoing):\n",
    "                self.ranEpochs += 1\n",
    "                self.fit_inner(X, y, y_to_use)\n",
    "\n",
    "                missClass = self.score(X, y, False)\n",
    "                self.classificationAcc_perEpoch.append(missClass)\n",
    "\n",
    "                self.score(validationX, validationY, True)\n",
    "                if len(self.MSEperEpoch_validation) != 0 and self.ranEpochs > 10:\n",
    "                    if np.abs(self.MSEperEpoch_validation[len(self.MSEperEpoch_validation)-1] - self.MSEperEpoch_validation[len(self.MSEperEpoch_validation)-2]) < 0.00000000000000001:\n",
    "                        triggerCount += 1\n",
    "                    else:\n",
    "                        triggerCount = 0\n",
    "                if triggerCount > self.sensitivity:\n",
    "                    keepGoing = False\n",
    "                if self.shuffle:\n",
    "                    self._shuffle_data(X, y)\n",
    "                    self._shuffle_data(validationX, validationY)\n",
    "        return self\n",
    "\n",
    "    def predict(self, X):\n",
    "        \"\"\" Predict all classes for a dataset X\n",
    "        Args:\n",
    "            X (array-like): A 2D numpy array with the training data, excluding targets\n",
    "        Returns:\n",
    "            array, shape (n_samples,)\n",
    "                Predicted target values per element in X.\n",
    "        \"\"\"\n",
    "        # forward pass (which should give confidence scores for outputs, take argmax to return class)\n",
    "        toReturn = []\n",
    "        for x in X:\n",
    "            listOfNets, listOfOuts = self.forward_pass(x)\n",
    "            outputs = np.array(listOfOuts[2])\n",
    "            aMax = np.argmax(outputs)\n",
    "            toReturn.append(aMax)\n",
    "        #print('list: ', listOfOuts[2])\n",
    "        #print('net: ', listOfNets)\n",
    "        \n",
    "        #print(outputs)\n",
    "        \n",
    "        #print(listOfOuts[2][aMax])\n",
    "        return toReturn\n",
    "\n",
    "    def initialize_weights(self, X):\n",
    "        \"\"\" Initialize weights for perceptron. Don't forget the bias!\n",
    "\n",
    "        Returns:\n",
    "\n",
    "        \"\"\"\n",
    "        numHiddenLayers = 0\n",
    "        if self.hidden_layer_widths != None:\n",
    "            numHiddenLayers = self.hidden_layer_widths\n",
    "        else:\n",
    "            numHiddenLayers = 2 * len(X[0])\n",
    "            self.hidden_layer_widths = numHiddenLayers\n",
    "        print('lw: ', self.hidden_layer_widths)\n",
    "        layer2_weights = []\n",
    "        layer1_weights = []\n",
    "\n",
    "        for d1 in range(numHiddenLayers + 1):\n",
    "            temp = []\n",
    "            for d2 in range(self.numOutputs):\n",
    "                temp.append(0)\n",
    "            layer2_weights.append(temp)\n",
    "        \n",
    "        for d1 in range(len(X[0]) + 1):\n",
    "            temp = []\n",
    "            for d2 in range(numHiddenLayers):\n",
    "                temp.append(0)\n",
    "            layer1_weights.append(temp)\n",
    "\n",
    "\n",
    "        #print('layer1: ', layer1_weights)\n",
    "        #print('layer2: ', layer2_weights)\n",
    "        self.layer1_weights = layer1_weights\n",
    "        self.layer2_weights = layer2_weights\n",
    "        pass # WILL NEED TO RETURN THE WEIGHTS\n",
    "\n",
    "    def score(self, X, y, validation):\n",
    "        \"\"\" Return accuracy of model on a given dataset. Must implement own score function.\n",
    "\n",
    "        Args:\n",
    "            X (array-like): A 2D numpy array with data, excluding targets\n",
    "            y (array-like): A 2D numpy array with targets\n",
    "\n",
    "        Returns:\n",
    "            score : float\n",
    "                Mean accuracy of self.predict(X) wrt. y.\n",
    "        \"\"\"\n",
    "        mean_accuracy = 0\n",
    "        SSE = 0\n",
    "        result = self.predict(X)\n",
    "        for idx in range(len(result)):\n",
    "            #print('x[idx]: ', X[idx])\n",
    "            SSE += (result[idx] - y[idx])**2\n",
    "            #print('result: {x} | y[idx]: {y}'.format(x=result, y=y[idx]))\n",
    "            if (result[idx] == y[idx]):\n",
    "                mean_accuracy += 1\n",
    "        mean_accuracy /= len(result)\n",
    "        MSE = SSE / len(X)\n",
    "        if validation == False:\n",
    "            self.MSEperEpoch.append(MSE)\n",
    "        else:\n",
    "            self.MSEperEpoch_validation.append(MSE)\n",
    "\n",
    "\n",
    "        return mean_accuracy\n",
    "\n",
    "    def _shuffle_data(self, X, y):\n",
    "        \"\"\" Shuffle the data! This _ prefix suggests that this method should only be called internally.\n",
    "            It might be easier to concatenate X & y and shuffle a single 2D array, rather than\n",
    "             shuffling X and y exactly the same way, independently.\n",
    "        \"\"\"\n",
    "        tempY = []\n",
    "        for item in y:\n",
    "            tempY.append([item])\n",
    "\n",
    "        Z = np.concatenate((X, tempY), axis=1)\n",
    "        np.random.shuffle(Z)\n",
    "        \n",
    "        for i in range(len(tempY[0])-1):\n",
    "            tempY[i][0] = Z[i][3]\n",
    "        for i in range(len(X)-1):\n",
    "            for j in range(len(X[0])-1):\n",
    "                X[i][j] = Z[i][j]\n",
    "        \n",
    "        for item in range(len(tempY)):\n",
    "            #print(item)\n",
    "            y[item] = tempY[item][0]\n",
    "        pass\n",
    "\n",
    "    ### Not required by sk-learn but required by us for grading. Returns the weights.\n",
    "    def get_weights(self):\n",
    "        return self.layer1_weights, self.layer2_weights # WILL NEED TO RETURN self.weights\n"
   ]
  },
  {
   "cell_type": "markdown",
   "metadata": {
    "id": "KibCIXIThpbE"
   },
   "source": [
    "## 1.1 \n",
    "\n",
    "Debug your model using the following parameters:\n",
    "\n",
    "Learning Rate = 0.1\\\n",
    "Momentum = 0.5\\\n",
    "Deterministic = 10 [This means run it 10 epochs and should be the same everytime you run it]\\\n",
    "Shuffle = False\\\n",
    "Validation size = 0\\\n",
    "Initial Weights = All zeros\\\n",
    "Hidden Layer Widths = [4]\n",
    "\n",
    "---\n",
    "\n",
    "### 1.1.1 Debug \n",
    "\n",
    "Debug your model by running it on the [Debug Dataset](https://raw.githubusercontent.com/cs472ta/CS472/master/datasets/linsep2nonorigin.arff)\n",
    "\n",
    "\n",
    "Expected Results for Binary Classification (i.e. 1 output node): [debug_bp_0.csv](https://github.com/cs472ta/CS472/blob/master/debug_solutions/debug_bp_0.csv) \n",
    "\n",
    "$$ \\text{Layer 1} = \\begin{bmatrix} -8.81779797\\text{e}-05 & -8.81779797\\text{e}-05 & -8.81779797\\text{e}-05 & -8.81779797\\text{e}-05 \\\\ 7.82757731\\text{e}-04 & 7.82757731\\text{e}-04 & 7.82757731\\text{e}-04 & 7.82757731\\text{e}-04 \\\\ -3.94353645\\text{e}-03 & -3.94353645\\text{e}-03 & -3.94353645\\text{e}-03 & -3.94353645\\text{e}-03 \\end{bmatrix}$$\n",
    "                                             \n",
    "$$ \\text{Layer 2} = \\begin{bmatrix} -0.01060888 \\\\ -0.01060888 \\\\ -0.01060888 \\\\ -0.01060888 \\\\ -0.02145495 \\end{bmatrix}$$\n",
    "\n",
    "(The weights do not need to be in this order or shape.)\n",
    "\n",
    "Expected Results for One Hot Vector Classification (i.e. 2 output nodes): [debug_bp_2outs.csv](https://github.com/cs472ta/CS472/blob/master/debug_solutions/debug_bp_2outs.csv) \n",
    "\n",
    "$$ \\text{Layer 1} = \\begin{bmatrix} -0.00018149 & -0.00018149 & -0.00018149 & -0.00018149 \\\\ 0.00157468 & 0.00157468 & 0.00157468 & 0.00157468 \\\\ -0.00788218 & -0.00788218 & -0.00788218 & -0.00788218 \\end{bmatrix}$$\n",
    "                          \n",
    "$$ \\text{Layer 2} = \\begin{bmatrix} 0.01050642 & -0.01050642 \\\\ 0.01050642 & -0.01050642 \\\\ 0.01050642 & -0.01050642 \\\\ 0.01050642 & -0.01050642 \\\\ 0.02148778 & -0.02148778 \\end{bmatrix}$$\n",
    "\n",
    "(The weights do not need to be in this order or shape.)\n",
    "\n",
    "---------------------------------------------"
   ]
  },
  {
   "cell_type": "code",
   "execution_count": 4,
   "metadata": {
    "id": "KgAyy82gixIF"
   },
   "outputs": [
    {
     "name": "stdout",
     "output_type": "stream",
     "text": [
      "  % Total    % Received % Xferd  Average Speed   Time    Time     Time  Current\n",
      "                                 Dload  Upload   Total   Spent    Left  Speed\n",
      "100   197  100   197    0     0     29      0  0:00:06  0:00:06 --:--:--    56\n",
      "lw:  4\n",
      "([[-0.00018149431827609483, -0.00018149431827609483, -0.00018149431827609483, -0.00018149431827609483], [0.0015746849754383447, 0.0015746849754383447, 0.0015746849754383447, 0.0015746849754383447], [-0.00788218446362105, -0.00788218446362105, -0.00788218446362105, -0.00788218446362105]], [[0.010506417199621787, -0.0105064171996218], [0.010506417199621787, -0.0105064171996218], [0.010506417199621787, -0.0105064171996218], [0.010506417199621787, -0.0105064171996218], [0.021487779130985585, -0.021487779130985568]])\n"
     ]
    }
   ],
   "source": [
    "# Load debug data\n",
    "!curl https://raw.githubusercontent.com/cs472ta/CS472/master/datasets/linsep2nonorigin.arff --output load_data.arff\n",
    "debug_data = arff.loadarff('load_data.arff')\n",
    "data_df = pd.DataFrame(debug_data[0])\n",
    "\n",
    "debug_np_data = data_df.to_numpy()\n",
    "debug_np_data = debug_np_data.astype(float)\n",
    "debug_np_data = debug_np_data.tolist()\n",
    "#print(debug_np_data)\n",
    "\n",
    "X = []\n",
    "y = []\n",
    "for data in debug_np_data:\n",
    "    X.append(data[0:len(data)-1])\n",
    "    y.append(data[len(data)-1])\n",
    "#print(\"X: \", X)\n",
    "#print(\"y: \", y)\n",
    " \n",
    "# Train on debug data\n",
    "binaryMLP = MLP(lr=0.1, momentum=0.5, shuffle=False, hidden_layer_widths=4)\n",
    "binaryMLP.set_numOutput(2)\n",
    "binaryMLP.fit(X, y)\n",
    "\n",
    "\n",
    "#print(binaryMLP.get_weights())\n",
    "\n",
    "#print(binaryMLP.score(X,y))\n",
    "# Print weights\n",
    "print(binaryMLP.get_weights())"
   ]
  },
  {
   "cell_type": "markdown",
   "metadata": {
    "id": "kY3VNB1ui03N"
   },
   "source": [
    "### 1.1.2 Evaluation\n",
    "\n",
    "Evaluate your model using the following parameters:\n",
    "\n",
    "Learning Rate = 0.1\\\n",
    "Momentum = 0.5\\\n",
    "Deterministic = 10 [This means run it 10 epochs and should be the same everytime you run it]\\\n",
    "Shuffle = False\\\n",
    "Validation size = 0\\\n",
    "Initial Weights = All zeros\\\n",
    "Hidden Layer Widths = [4]\n",
    "\n",
    "We will evaluate your model based on printed weights after training on the [Evaluation Dataset](https://raw.githubusercontent.com/cs472ta/CS472/master/datasets/data_banknote_authentication.arff)"
   ]
  },
  {
   "cell_type": "code",
   "execution_count": 5,
   "metadata": {
    "id": "2yAxA78QjDh2"
   },
   "outputs": [
    {
     "name": "stdout",
     "output_type": "stream",
     "text": [
      "  % Total    % Received % Xferd  Average Speed   Time    Time     Time  Current\n",
      "                                 Dload  Upload   Total   Spent    Left  Speed\n",
      "100 46685  100 46685    0     0   203k      0 --:--:-- --:--:-- --:--:--  203k\n",
      "lw:  4\n",
      "layer1:  [[1.638287205070429, 1.638287205070429, 1.638287205070429, 1.638287205070429], [1.0961224948663704, 1.0961224948663704, 1.0961224948663704, 1.0961224948663704], [1.2344759398924932, 1.2344759398924932, 1.2344759398924932, 1.2344759398924932], [0.3926948682935857, 0.3926948682935857, 0.3926948682935857, 0.3926948682935857], [-2.0931615102704724, -2.0931615102704724, -2.0931615102704724, -2.0931615102704724]]\n",
      "layer2:  [[1.8169561136874395, -1.8169561136874395], [1.8169561136874395, -1.8169561136874395], [1.8169561136874395, -1.8169561136874395], [1.8169561136874395, -1.8169561136874395], [-4.170980711595022, 4.170980711595022]]\n"
     ]
    }
   ],
   "source": [
    "# Load evaluation data\n",
    "!curl https://raw.githubusercontent.com/cs472ta/CS472/master/datasets/data_banknote_authentication.arff --output eval_data.arff\n",
    "eval_data = arff.loadarff('eval_data.arff')\n",
    "eval_df = pd.DataFrame(eval_data[0])\n",
    "#print(eval_df.head())\n",
    "\n",
    "eval_np_data = eval_df.to_numpy()\n",
    "eval_np_data = eval_np_data.astype(float)\n",
    "eval_np_data = eval_np_data.tolist()\n",
    "\n",
    "#print(eval_np_data)\n",
    "X = []\n",
    "y = []\n",
    "for data in eval_np_data:\n",
    "    X.append(data[0:len(data)-1])\n",
    "    y.append(data[len(data)-1])\n",
    "\n",
    "#print(X)\n",
    "#print(y)\n",
    "evalMLP = MLP(lr=0.1, momentum=0.5, shuffle=False, hidden_layer_widths=4)\n",
    "\n",
    "# Train on evaluation data\n",
    "evalMLP.set_numOutput(2)\n",
    "evalMLP.fit(X, y)\n",
    "\n",
    "# Print weights\n",
    "layer1, layer2 = evalMLP.get_weights()\n",
    "\n",
    "print('layer1: ', layer1)\n",
    "print('layer2: ', layer2)"
   ]
  },
  {
   "cell_type": "markdown",
   "metadata": {
    "id": "9vWiTdlbR2Xh"
   },
   "source": [
    "## 2. (10%) Backpropagation on the Iris Classification problem.\n",
    "\n",
    "Load the Iris Dataset [Iris Dataset](https://raw.githubusercontent.com/cs472ta/CS472/master/datasets/iris.arff)\n",
    "\n",
    "Parameters:\n",
    "- One layer of hidden nodes with the number of hidden nodes being twice the number of inputs.\n",
    "- Use a 80/20 split of the data for the training/test set.\n",
    "- Use a learning rate of 0.1\n",
    "- Use a validation set (15% of the training set) taken from the training set for your stopping criteria\n",
    "- Create one graph with MSE (mean squared error) over epochs from the training set and validation set\n",
    "- Create one graph with classification accuracy (% classified correctly) over epochs from the training set and validation set\n",
    "- Print out your test set accuracy\n",
    "\n",
    "The results for the different measurables should be shown with a different color, line type, etc. Typical backpropagation accuracies for the Iris data set are 85-95%.\n",
    "\n",
    "---"
   ]
  },
  {
   "cell_type": "code",
   "execution_count": 6,
   "metadata": {
    "id": "4SSoasDQSKXb"
   },
   "outputs": [
    {
     "name": "stdout",
     "output_type": "stream",
     "text": [
      "  % Total    % Received % Xferd  Average Speed   Time    Time     Time  Current\n",
      "                                 Dload  Upload   Total   Spent    Left  Speed\n",
      "100  7485  100  7485    0     0  35985      0 --:--:-- --:--:-- --:--:-- 35813\n",
      "lw:  8\n",
      "33\n"
     ]
    }
   ],
   "source": [
    "# Iris Classification\n",
    "!curl https://raw.githubusercontent.com/cs472ta/CS472/master/datasets/iris.arff --output iris_data.arff\n",
    "iris_data = arff.loadarff('iris_data.arff')\n",
    "iris_df = pd.DataFrame(iris_data[0])\n",
    "#print(iris_df.head())\n",
    "\n",
    "train = iris_df.sample(frac=0.8,random_state=0)\n",
    "test = iris_df.drop(train.index)\n",
    "\n",
    "custom_mapping_iris = {'Iris-setosa':0, 'Iris-versicolor':1, 'Iris-virginica':2}\n",
    "\n",
    "train['class'] = train['class'].str.decode(\"utf-8\")\n",
    "train['class'] = train['class'].map(custom_mapping_iris)\n",
    "test['class'] = test['class'].str.decode(\"utf-8\")\n",
    "test['class'] = test['class'].map(custom_mapping_iris)\n",
    "\n",
    "train_np_data = train.to_numpy()\n",
    "test_np_data = train.to_numpy()\n",
    "\n",
    "train_np_data = train_np_data.astype(float)\n",
    "test_np_data = test_np_data.astype(float)\n",
    "\n",
    "train_np_data = train_np_data.tolist()\n",
    "test_np_data = test_np_data.tolist()\n",
    "\n",
    "\n",
    "X_train = []\n",
    "y_train = []\n",
    "\n",
    "for item in train_np_data:\n",
    "    X_train.append(item[0:len(item)-1])\n",
    "    y_train.append(item[len(item)-1])\n",
    "\n",
    "X_test = []\n",
    "y_test = []\n",
    "\n",
    "for item in test_np_data:\n",
    "    X_test.append(item[0:len(item)-1])\n",
    "    y_test.append(item[len(item)-1])\n",
    "\n",
    "#print('X_train: ', X_train)\n",
    "#print('y_train: ', y_train)\n",
    "\n",
    "irisMLP = MLP(lr=0.1, momentum=0.5, validationSize=15,shuffle=False, numEpochs=100, sensitivity=15) # use validation set as stopping criteria\n",
    "\n",
    "# Train on evaluation data\n",
    "irisMLP.set_numOutput(3)\n",
    "irisMLP.fit(X_train, y_train)\n",
    "print(irisMLP.ranEpochs)\n",
    "\n"
   ]
  },
  {
   "cell_type": "code",
   "execution_count": 7,
   "metadata": {},
   "outputs": [
    {
     "data": {
      "image/png": "[encoded data removed]",
      "text/plain": "<Figure size 432x288 with 1 Axes>"
     },
     "metadata": {
      "needs_background": "light"
     },
     "output_type": "display_data"
    }
   ],
   "source": [
    "# get list of MSE perEpoch = SSE/n -> SSE = (t - z)**2\n",
    "def plot_mse(avg_mse_rate):\n",
    "    plt.plot(np.arange(len(avg_mse_rate)), avg_mse_rate)\n",
    "    plt.title(\"MSE vs. Epoch\")\n",
    "    plt.xlabel(\"Epoch\")\n",
    "    plt.ylabel(\"MSE\")\n",
    "    plt.show\n",
    "plot_mse(irisMLP.MSEperEpoch)"
   ]
  },
  {
   "cell_type": "code",
   "execution_count": 8,
   "metadata": {},
   "outputs": [
    {
     "data": {
      "image/png": "[encoded data removed]",
      "text/plain": "<Figure size 432x288 with 1 Axes>"
     },
     "metadata": {
      "needs_background": "light"
     },
     "output_type": "display_data"
    }
   ],
   "source": [
    "# get list of calculation accuracy perEpoch\n",
    "def plot_classification(avg_classification_rate):\n",
    "    \"\"\"\n",
    "        Plots the average misclassification rate\n",
    "    Args:\n",
    "        avg_misclassification_rate (array-like): A 1D array or list\n",
    "    \"\"\"\n",
    "    plt.plot(np.arange(len(avg_classification_rate)), avg_classification_rate)\n",
    "    plt.title(\"Average Classification Accuracy vs. Epoch\")\n",
    "    plt.xlabel(\"Epoch\")\n",
    "    plt.ylabel(\"Classification Accuracy\")\n",
    "    plt.show()\n",
    "plot_classification(irisMLP.classificationAcc_perEpoch)"
   ]
  },
  {
   "cell_type": "code",
   "execution_count": 9,
   "metadata": {},
   "outputs": [
    {
     "data": {
      "text/html": "<table>\n<thead>\n<tr><th style=\"text-align: right;\">  Trial</th><th style=\"text-align: right;\">  Test Accuracy</th><th style=\"text-align: right;\">  Number of Epochs</th></tr>\n</thead>\n<tbody>\n<tr><td style=\"text-align: right;\">      1</td><td style=\"text-align: right;\">       0.858333</td><td style=\"text-align: right;\">                33</td></tr>\n</tbody>\n</table>",
      "text/plain": "<IPython.core.display.HTML object>"
     },
     "metadata": {},
     "output_type": "display_data"
    }
   ],
   "source": [
    "# print test accuracy\n",
    "headers = [\"Trial\", \"Test Accuracy\", \"Number of Epochs\"]\n",
    "table = []\n",
    "table.append([1, irisMLP.score(X_test, y_test, False), irisMLP.ranEpochs])\n",
    "display(HTML(tabulate(table, headers = headers, tablefmt='html')))"
   ]
  },
  {
   "cell_type": "markdown",
   "metadata": {
    "id": "SIRG42TgSR4x"
   },
   "source": [
    "## 3. (10%) Working with the Vowel Dataset - Learning Rate\n",
    "\n",
    "Load the Vowel Dataset [Vowel Dataset](https://raw.githubusercontent.com/cs472ta/CS472/master/datasets/vowel.arff)\n",
    "\n",
    "- Use one layer of hidden nodes with the number of hidden nodes being twice the number of inputs.\n",
    "- Use random 80/20 splits of the data for the training/test set.\n",
    "- Use a validation set (15% of the training set) taken from the training set for your stopping criteria\n",
    "- Try some different learning rates (LR). Note that each LR will probably require a different number of epochs to learn. \n",
    "\n",
    "- For each LR you test, plot their validation's set MSE over Epochs on the same graph. Graph 4-5 different LRs and make them different enough to see a difference between them.\n",
    "\n",
    "In general, whenever you are testing a parameter such as LR, # of hidden nodes, etc., test values until no more improvement is found. For example, if 20 hidden nodes did better than 10, you would not stop at 20, but would try 40, etc., until you no longer get improvement.\n",
    "\n",
    "If you would like you may average the results of multiple initial conditions (e.g. 3) per LR, and that obviously would give more accurate results.\n",
    "\n",
    "<img src=https://raw.githubusercontent.com/cs472ta/CS472/master/images/backpropagation/backprop_val_set_MSE_vs_epochs.png width=500 height=500  align=\"left\">"
   ]
  },
  {
   "cell_type": "code",
   "execution_count": 10,
   "metadata": {
    "id": "KBGUn43ASiXW"
   },
   "outputs": [
    {
     "name": "stdout",
     "output_type": "stream",
     "text": [
      "  % Total    % Received % Xferd  Average Speed   Time    Time     Time  Current\n",
      "                                 Dload  Upload   Total   Spent    Left  Speed\n",
      "100 91402  100 91402    0     0   264k      0 --:--:-- --:--:-- --:--:--  264k\n",
      "     Feature 0  Feature 1  Feature 2  Feature 3  Feature 4  Feature 5  \\\n",
      "747     -3.265      1.933     -0.316      0.602      0.438      0.336   \n",
      "625     -4.753      3.421     -0.189      0.656     -0.984      1.443   \n",
      "298     -3.049      0.084      0.981      1.193      0.761      0.495   \n",
      "746     -4.028      0.982     -0.648      1.478     -0.048      2.108   \n",
      "45      -3.046      0.387     -1.165      0.940     -0.386      1.978   \n",
      "\n",
      "     Feature 6  Feature 7  Feature 8  Feature 9   Class  \n",
      "747      0.048      0.134     -0.160     -0.991  b'hed'  \n",
      "625     -0.652      0.546      0.123     -0.326  b'hud'  \n",
      "298     -0.714     -0.466     -0.568     -0.149  b'hId'  \n",
      "746     -0.146      0.467     -0.654     -0.193  b'hud'  \n",
      "45      -0.186      0.811     -0.394     -0.198  b'hId'  \n",
      "lw:  20\n",
      "215\n",
      "lw:  20\n",
      "205\n",
      "lw:  20\n",
      "201\n",
      "lw:  20\n",
      "65\n",
      "lw:  20\n",
      "60\n"
     ]
    }
   ],
   "source": [
    "!curl https://raw.githubusercontent.com/cs472ta/CS472/master/datasets/vowel.arff --output vowel_data.arff\n",
    "vowel_data = arff.loadarff('vowel_data.arff')\n",
    "vowel_df = pd.DataFrame(vowel_data[0])\n",
    "vowel_df = vowel_df.drop(columns=['Train or Test', 'Speaker Number', 'Sex'])\n",
    "train = vowel_df.sample(frac=0.8,random_state=0)\n",
    "test = vowel_df.drop(train.index)\n",
    "\n",
    "#for feature_name in train.columns:\n",
    "#    if feature_name == 'Class':\n",
    "#        break\n",
    "#    max_value = train[feature_name].max()\n",
    "#    min_value = train[feature_name].min()\n",
    "#    train[feature_name] = (train[feature_name] - min_value) / (max_value - min_value)\n",
    "\n",
    "custom_mapping_vowel1 = {'Male':1, 'Female':0}\n",
    "custom_mapping_vowel2 = {'hid':0, 'hEd':1, 'hud':2, 'hUd':3, 'hOd':4, 'had':5, 'hAd':6, 'hId':7, 'hod':8, 'hed':9, 'hYd':10}\n",
    "\n",
    "print(train.head())\n",
    "#train['Sex'] = train['Sex'].str.decode(\"utf-8\")\n",
    "#train['Sex'] = train['Sex'].map(custom_mapping_vowel1)\n",
    "#test['Sex'] = test['Sex'].str.decode(\"utf-8\")\n",
    "#test['Sex'] = test['Sex'].map(custom_mapping_vowel1)\n",
    "\n",
    "train['Class'] = train['Class'].str.decode(\"utf-8\")\n",
    "train['Class'] = train['Class'].map(custom_mapping_vowel2)\n",
    "test['Class'] = test['Class'].str.decode(\"utf-8\")\n",
    "test['Class'] = test['Class'].map(custom_mapping_vowel2)\n",
    "\n",
    "train_np_data = train.to_numpy()\n",
    "test_np_data = train.to_numpy()\n",
    "\n",
    "train_np_data = train_np_data.astype(float)\n",
    "test_np_data = test_np_data.astype(float)\n",
    "\n",
    "train_np_data = train_np_data.tolist()\n",
    "test_np_data = test_np_data.tolist()\n",
    "\n",
    "\n",
    "X_train_vowel = []\n",
    "y_train_vowel = []\n",
    "\n",
    "for item in train_np_data:\n",
    "    X_train_vowel.append(item[0:len(item)-1])\n",
    "    y_train_vowel.append(item[len(item)-1])\n",
    "\n",
    "X_test_vowel = []\n",
    "y_test_vowel = []\n",
    "\n",
    "for item in test_np_data:\n",
    "    X_test_vowel.append(item[0:len(item)-1])\n",
    "    y_test_vowel.append(item[len(item)-1])\n",
    "\n",
    "# --------------------- 0 ----------------------\n",
    "vowelMLP0 = MLP(lr=0.05, momentum=0.5, validationSize=15,shuffle=False, numEpochs=100, sensitivity=18) # use validation set as stopping criteria\n",
    "\n",
    "# Train on evaluation data\n",
    "vowelMLP0.set_numOutput(11)\n",
    "vowelMLP0.fit(X_train_vowel, y_train_vowel)\n",
    "print(vowelMLP0.ranEpochs)\n",
    "\n",
    "# --------------------- 1 ----------------------\n",
    "# Train on each dataset\n",
    "vowelMLP1 = MLP(lr=0.1, momentum=0.5, validationSize=15,shuffle=False, numEpochs=700, sensitivity=18) # use validation set as stopping criteria\n",
    "\n",
    "# Train on evaluation data\n",
    "vowelMLP1.set_numOutput(11)\n",
    "vowelMLP1.fit(X_train_vowel, y_train_vowel)\n",
    "print(vowelMLP1.ranEpochs)\n",
    "\n",
    "# --------------------- 2 ----------------------\n",
    "vowelMLP2 = MLP(lr=0.12, momentum=0.5, validationSize=15,shuffle=False, numEpochs=100, sensitivity=18) # use validation set as stopping criteria\n",
    "\n",
    "# Train on evaluation data\n",
    "vowelMLP2.set_numOutput(11)\n",
    "vowelMLP2.fit(X_train_vowel, y_train_vowel)\n",
    "print(vowelMLP2.ranEpochs)\n",
    "\n",
    "# --------------------- 3 ----------------------\n",
    "vowelMLP3 = MLP(lr=0.3, momentum=0.5, validationSize=15,shuffle=False, numEpochs=100, sensitivity=18) # use validation set as stopping criteria\n",
    "\n",
    "# Train on evaluation data\n",
    "vowelMLP3.set_numOutput(11)\n",
    "vowelMLP3.fit(X_train_vowel, y_train_vowel)\n",
    "print(vowelMLP3.ranEpochs)\n",
    "\n",
    "# --------------------- 4 ----------------------\n",
    "vowelMLP4 = MLP(lr=0.4, momentum=0.5, validationSize=15,shuffle=False, numEpochs=100, sensitivity=18) # use validation set as stopping criteria\n",
    "\n",
    "# Train on evaluation data\n",
    "vowelMLP4.set_numOutput(11)\n",
    "vowelMLP4.fit(X_train_vowel, y_train_vowel)\n",
    "print(vowelMLP4.ranEpochs)"
   ]
  },
  {
   "cell_type": "code",
   "execution_count": 11,
   "metadata": {},
   "outputs": [
    {
     "data": {
      "image/png": "[encoded data removed]",
      "text/plain": "<Figure size 432x288 with 1 Axes>"
     },
     "metadata": {
      "needs_background": "light"
     },
     "output_type": "display_data"
    }
   ],
   "source": [
    "# get list of calculation accuracy perEpoch\n",
    "def plot_valMSE(test123, avg_valmse_rate0, avg_valmse_rate1, avg_valmse_rate2, avg_valmse_rate3, avg_valmse_rate4):\n",
    "    \"\"\"\n",
    "        Plots the average misclassification rate\n",
    "    Args:\n",
    "        avg_misclassification_rate (array-like): A 1D array or list\n",
    "    \"\"\"\n",
    "    plt.plot(np.arange(len(test123)), test123, label='MSE')\n",
    "    plt.plot(np.arange(len(avg_valmse_rate0)), avg_valmse_rate0, label='lr=0.05')\n",
    "    plt.plot(np.arange(len(avg_valmse_rate1)), avg_valmse_rate1, label='lr=0.1')\n",
    "    plt.plot(np.arange(len(avg_valmse_rate2)), avg_valmse_rate2, label='lr=0.2')\n",
    "    plt.plot(np.arange(len(avg_valmse_rate3)), avg_valmse_rate3, label='lr=0.3')\n",
    "    plt.plot(np.arange(len(avg_valmse_rate4)), avg_valmse_rate4, label='lr=0.4')\n",
    "    plt.title(\"Average Validation MSE vs. Epoch\")\n",
    "    plt.xlabel(\"Epoch\")\n",
    "    plt.ylabel(\"Validation MSE\")\n",
    "    plt.legend()\n",
    "    plt.show()\n",
    "plot_valMSE(vowelMLP1.MSEperEpoch, vowelMLP0.MSEperEpoch_validation, vowelMLP1.MSEperEpoch_validation, vowelMLP2.MSEperEpoch_validation, vowelMLP3.MSEperEpoch_validation, vowelMLP4.MSEperEpoch_validation)\n",
    "\n",
    "\n"
   ]
  },
  {
   "cell_type": "markdown",
   "metadata": {
    "id": "mOteTlV6S0bq"
   },
   "source": [
    "## 3.1 (5%) Working with the Vowel Dataset - Intuition\n",
    "- Discuss the effect of varying learning rates. \n",
    "- Discuss why the vowel data set might be more difficult than Iris\n",
    "    - Report both datasets' baseline accuracies and best **test** set accuracies. \n",
    "- Consider which of the vowel dataset's given input features you should actually use (Train/test, speaker, gender, ect) and discuss why you chose the ones you did.\n",
    "\n",
    "Typical backpropagation accuracies for the Vowel data set are above 75%.\n",
    "\n"
   ]
  },
  {
   "cell_type": "markdown",
   "metadata": {
    "id": "qmq9GSbJS8k2"
   },
   "source": [
    "*Discuss Intuition here*<br>\n",
    "Something interesting that I noticed, was that each learning rate found a local minimum fairly quickly. Then most of them began to traverse out of it because of the validation criteria. I noticed that 0.2 or 0.4 achieved the absolute lowest validation MSE which is interesting because they were both even learning rates. However, it seemed to me that a learning rate of 0.1 learned the best, because after reaching a minimum, it climbed like the rest, but began to decend again, which to me meant that it continued to learn. I would say this data set is more difficult than the iris dataset because there are so many more classification classes. This required us to have 11 output classes which meant more hidden layers. \n",
    "\n"
   ]
  },
  {
   "cell_type": "code",
   "execution_count": 12,
   "metadata": {},
   "outputs": [
    {
     "data": {
      "text/html": "<table>\n<thead>\n<tr><th style=\"text-align: right;\">  Trial</th><th style=\"text-align: right;\">  Learning Rate</th><th style=\"text-align: right;\">  Training Accuracy</th><th style=\"text-align: right;\">  Testing Accuracy</th><th style=\"text-align: right;\">  Number of Epochs</th></tr>\n</thead>\n<tbody>\n<tr><td style=\"text-align: right;\">      0</td><td style=\"text-align: right;\">           0.05</td><td style=\"text-align: right;\">           0.315657</td><td style=\"text-align: right;\">          0.315657</td><td style=\"text-align: right;\">               215</td></tr>\n<tr><td style=\"text-align: right;\">      1</td><td style=\"text-align: right;\">           0.1 </td><td style=\"text-align: right;\">           0.335859</td><td style=\"text-align: right;\">          0.335859</td><td style=\"text-align: right;\">               205</td></tr>\n<tr><td style=\"text-align: right;\">      2</td><td style=\"text-align: right;\">           0.12</td><td style=\"text-align: right;\">           0.338384</td><td style=\"text-align: right;\">          0.338384</td><td style=\"text-align: right;\">               201</td></tr>\n<tr><td style=\"text-align: right;\">      3</td><td style=\"text-align: right;\">           0.3 </td><td style=\"text-align: right;\">           0.286616</td><td style=\"text-align: right;\">          0.286616</td><td style=\"text-align: right;\">                65</td></tr>\n<tr><td style=\"text-align: right;\">      4</td><td style=\"text-align: right;\">           0.4 </td><td style=\"text-align: right;\">           0.282828</td><td style=\"text-align: right;\">          0.282828</td><td style=\"text-align: right;\">                60</td></tr>\n</tbody>\n</table>",
      "text/plain": "<IPython.core.display.HTML object>"
     },
     "metadata": {},
     "output_type": "display_data"
    }
   ],
   "source": [
    "headers = [\"Trial\", \"Learning Rate\", \"Training Accuracy\", \"Testing Accuracy\", \"Number of Epochs\"]\n",
    "table = []\n",
    "table.append([0, vowelMLP0.lr, vowelMLP0.score(X_train_vowel, y_train_vowel, False), vowelMLP0.score(X_test_vowel, y_test_vowel, False), vowelMLP0.ranEpochs])\n",
    "table.append([1, vowelMLP1.lr, vowelMLP1.score(X_train_vowel, y_train_vowel, False), vowelMLP1.score(X_test_vowel, y_test_vowel, False), vowelMLP1.ranEpochs])\n",
    "table.append([2, vowelMLP2.lr, vowelMLP2.score(X_train_vowel, y_train_vowel, False), vowelMLP2.score(X_test_vowel, y_test_vowel, False), vowelMLP2.ranEpochs])\n",
    "table.append([3, vowelMLP3.lr, vowelMLP3.score(X_train_vowel, y_train_vowel, False), vowelMLP3.score(X_test_vowel, y_test_vowel, False), vowelMLP3.ranEpochs])\n",
    "table.append([4, vowelMLP4.lr, vowelMLP4.score(X_train_vowel, y_train_vowel, False), vowelMLP4.score(X_test_vowel, y_test_vowel, False), vowelMLP4.ranEpochs])\n",
    "\n",
    "display(HTML(tabulate(table, headers = headers, tablefmt='html')))"
   ]
  },
  {
   "cell_type": "markdown",
   "metadata": {
    "id": "SIRG42TgSR4x"
   },
   "source": [
    "## 3.2 (10%) Working with the Vowel Dataset - Hidden Layer Nodes\n",
    "\n",
    "Using the best LR you discovered, experiment with different numbers of hidden nodes.\n",
    "\n",
    "- Start with 1 hidden node, then 2, and then double them for each test until you get no more improvement in accuracy. \n",
    "- For each number of hidden nodes find the best validation set solution (in terms of validation set MSE).  \n",
    "- Create one graph with MSE for the training set and validation set on the y-axis and # of hidden nodes on the x-axis.\n",
    "- Report the final test set accuracy for every # of hidden nodes you experimented on"
   ]
  },
  {
   "cell_type": "code",
   "execution_count": 13,
   "metadata": {},
   "outputs": [
    {
     "name": "stdout",
     "output_type": "stream",
     "text": [
      "lw:  4\n",
      "103\n",
      "lw:  16\n",
      "176\n",
      "lw:  32\n",
      "124\n",
      "lw:  64\n",
      "56\n",
      "lw:  128\n",
      "119\n"
     ]
    }
   ],
   "source": [
    "# --------------------- 0 ----------------------\n",
    "vowelMLP0 = MLP(lr=0.12, momentum=0.5, validationSize=15,shuffle=False, numEpochs=100, sensitivity=18, hidden_layer_widths=4) # use validation set as stopping criteria\n",
    "\n",
    "# Train on evaluation data\n",
    "vowelMLP0.set_numOutput(11)\n",
    "vowelMLP0.fit(X_train_vowel, y_train_vowel)\n",
    "print(vowelMLP0.ranEpochs)\n",
    "\n",
    "# --------------------- 1 ----------------------\n",
    "# Train on each dataset\n",
    "vowelMLP1 = MLP(lr=0.12, momentum=0.5, validationSize=15,shuffle=False, numEpochs=700, sensitivity=18, hidden_layer_widths=16) # use validation set as stopping criteria\n",
    "\n",
    "# Train on evaluation data\n",
    "vowelMLP1.set_numOutput(11)\n",
    "vowelMLP1.fit(X_train_vowel, y_train_vowel)\n",
    "print(vowelMLP1.ranEpochs)\n",
    "\n",
    "# --------------------- 2 ----------------------\n",
    "vowelMLP2 = MLP(lr=0.12, momentum=0.5, validationSize=15,shuffle=False, numEpochs=100, sensitivity=18, hidden_layer_widths=32) # use validation set as stopping criteria\n",
    "\n",
    "# Train on evaluation data\n",
    "vowelMLP2.set_numOutput(11)\n",
    "vowelMLP2.fit(X_train_vowel, y_train_vowel)\n",
    "print(vowelMLP2.ranEpochs)\n",
    "\n",
    "# --------------------- 3 ----------------------\n",
    "vowelMLP3 = MLP(lr=0.12, momentum=0.5, validationSize=15,shuffle=False, numEpochs=100, sensitivity=18, hidden_layer_widths=64) # use validation set as stopping criteria\n",
    "\n",
    "# Train on evaluation data\n",
    "vowelMLP3.set_numOutput(11)\n",
    "vowelMLP3.fit(X_train_vowel, y_train_vowel)\n",
    "print(vowelMLP3.ranEpochs)\n",
    "\n",
    "# --------------------- 4 ----------------------\n",
    "vowelMLP4 = MLP(lr=0.12, momentum=0.5, validationSize=15,shuffle=False, numEpochs=100, sensitivity=18, hidden_layer_widths=128) # use validation set as stopping criteria\n",
    "\n",
    "# Train on evaluation data\n",
    "vowelMLP4.set_numOutput(11)\n",
    "vowelMLP4.fit(X_train_vowel, y_train_vowel)\n",
    "print(vowelMLP4.ranEpochs)"
   ]
  },
  {
   "cell_type": "code",
   "execution_count": 14,
   "metadata": {},
   "outputs": [
    {
     "data": {
      "text/html": "<table>\n<thead>\n<tr><th style=\"text-align: right;\">  Trial</th><th style=\"text-align: right;\">  Hidden Layer Width</th><th style=\"text-align: right;\">  Training Accuracy</th><th style=\"text-align: right;\">  Testing Accuracy</th><th style=\"text-align: right;\">  Number of Epochs</th></tr>\n</thead>\n<tbody>\n<tr><td style=\"text-align: right;\">      0</td><td style=\"text-align: right;\">                   4</td><td style=\"text-align: right;\">           0.329545</td><td style=\"text-align: right;\">          0.329545</td><td style=\"text-align: right;\">               103</td></tr>\n<tr><td style=\"text-align: right;\">      1</td><td style=\"text-align: right;\">                  16</td><td style=\"text-align: right;\">           0.338384</td><td style=\"text-align: right;\">          0.338384</td><td style=\"text-align: right;\">               176</td></tr>\n<tr><td style=\"text-align: right;\">      2</td><td style=\"text-align: right;\">                  32</td><td style=\"text-align: right;\">           0.294192</td><td style=\"text-align: right;\">          0.294192</td><td style=\"text-align: right;\">               124</td></tr>\n<tr><td style=\"text-align: right;\">      3</td><td style=\"text-align: right;\">                  64</td><td style=\"text-align: right;\">           0.291667</td><td style=\"text-align: right;\">          0.291667</td><td style=\"text-align: right;\">                56</td></tr>\n<tr><td style=\"text-align: right;\">      4</td><td style=\"text-align: right;\">                 128</td><td style=\"text-align: right;\">           0.289141</td><td style=\"text-align: right;\">          0.289141</td><td style=\"text-align: right;\">               119</td></tr>\n</tbody>\n</table>",
      "text/plain": "<IPython.core.display.HTML object>"
     },
     "metadata": {},
     "output_type": "display_data"
    }
   ],
   "source": [
    "headers = [\"Trial\", \"Hidden Layer Width\", \"Training Accuracy\", \"Testing Accuracy\", \"Number of Epochs\"]\n",
    "table = []\n",
    "table.append([0, vowelMLP0.hidden_layer_widths, vowelMLP0.score(X_train_vowel, y_train_vowel, False), vowelMLP0.score(X_test_vowel, y_test_vowel, False), vowelMLP0.ranEpochs])\n",
    "table.append([1, vowelMLP1.hidden_layer_widths, vowelMLP1.score(X_train_vowel, y_train_vowel, False), vowelMLP1.score(X_test_vowel, y_test_vowel, False), vowelMLP1.ranEpochs])\n",
    "table.append([2, vowelMLP2.hidden_layer_widths, vowelMLP2.score(X_train_vowel, y_train_vowel, False), vowelMLP2.score(X_test_vowel, y_test_vowel, False), vowelMLP2.ranEpochs])\n",
    "table.append([3, vowelMLP3.hidden_layer_widths, vowelMLP3.score(X_train_vowel, y_train_vowel, False), vowelMLP3.score(X_test_vowel, y_test_vowel, False), vowelMLP3.ranEpochs])\n",
    "table.append([4, vowelMLP4.hidden_layer_widths, vowelMLP4.score(X_train_vowel, y_train_vowel, False), vowelMLP4.score(X_test_vowel, y_test_vowel, False), vowelMLP4.ranEpochs])\n",
    "\n",
    "display(HTML(tabulate(table, headers = headers, tablefmt='html')))"
   ]
  },
  {
   "cell_type": "code",
   "execution_count": 15,
   "metadata": {},
   "outputs": [
    {
     "data": {
      "image/png": "[encoded data removed]",
      "text/plain": "<Figure size 432x288 with 1 Axes>"
     },
     "metadata": {
      "needs_background": "light"
     },
     "output_type": "display_data"
    }
   ],
   "source": [
    "# get list of calculation accuracy perEpoch\n",
    "def plot_valMSE2(avg_mse_rate0, avg_valmse_rate0, avg_mse_rate1, avg_valmse_rate1, avg_mse_rate2, avg_valmse_rate2, avg_mse_rate3, avg_valmse_rate3, avg_mse_rate4, avg_valmse_rate4):\n",
    "    \"\"\"\n",
    "        Plots the average misclassification rate\n",
    "    Args:\n",
    "        avg_misclassification_rate (array-like): A 1D array or list\n",
    "    \"\"\"\n",
    "    plt.scatter(vowelMLP0.hidden_layer_widths, avg_mse_rate0[len(avg_mse_rate0)-1], label='MSE0')\n",
    "    plt.scatter(vowelMLP0.hidden_layer_widths, avg_valmse_rate0[len(avg_valmse_rate0)-1], label='Final ValMSE0')\n",
    "\n",
    "    plt.scatter(vowelMLP1.hidden_layer_widths, avg_mse_rate1[len(avg_mse_rate1)-1], label='MSE1')\n",
    "    plt.scatter(vowelMLP1.hidden_layer_widths, avg_valmse_rate1[len(avg_valmse_rate1)-1], label='Final ValMSE1')\n",
    "\n",
    "    plt.scatter(vowelMLP2.hidden_layer_widths, avg_mse_rate2[len(avg_mse_rate2)-1], label='MSE2')\n",
    "    plt.scatter(vowelMLP2.hidden_layer_widths, avg_valmse_rate2[len(avg_valmse_rate2)-1], label='Final ValMSE2')\n",
    "\n",
    "    plt.scatter(vowelMLP3.hidden_layer_widths, avg_mse_rate3[len(avg_mse_rate3)-1], label='MSE3')\n",
    "    plt.scatter(vowelMLP3.hidden_layer_widths, avg_valmse_rate3[len(avg_valmse_rate3)-1], label='Final ValMSE3')\n",
    "\n",
    "    plt.scatter(vowelMLP4.hidden_layer_widths, avg_mse_rate4[len(avg_mse_rate4)-1], label='MSE4')\n",
    "    plt.scatter(vowelMLP4.hidden_layer_widths, avg_valmse_rate4[len(avg_valmse_rate4)-1], label='Final ValMSE4')\n",
    "  \n",
    "    plt.title(\"MSE Value vs. Hidden Layer Width\")\n",
    "    plt.xlabel(\"Hidden Layer Width\")\n",
    "    plt.ylabel(\"MSE Value\")\n",
    "    plt.legend()\n",
    "    plt.show()\n",
    "plot_valMSE2(vowelMLP0.MSEperEpoch, vowelMLP0.MSEperEpoch_validation, vowelMLP1.MSEperEpoch, vowelMLP1.MSEperEpoch_validation, vowelMLP2.MSEperEpoch, vowelMLP2.MSEperEpoch_validation, vowelMLP3.MSEperEpoch, vowelMLP3.MSEperEpoch_validation, vowelMLP4.MSEperEpoch, vowelMLP4.MSEperEpoch_validation)\n",
    "\n"
   ]
  },
  {
   "cell_type": "code",
   "execution_count": 16,
   "metadata": {},
   "outputs": [
    {
     "data": {
      "text/html": "<table>\n<thead>\n<tr><th style=\"text-align: right;\">  Trial</th><th style=\"text-align: right;\">  Number of Hidden Layer Nodes</th><th style=\"text-align: right;\">  Testing Accuracy</th><th style=\"text-align: right;\">  Number of Epochs</th></tr>\n</thead>\n<tbody>\n<tr><td style=\"text-align: right;\">      0</td><td style=\"text-align: right;\">                             4</td><td style=\"text-align: right;\">          0.329545</td><td style=\"text-align: right;\">               103</td></tr>\n<tr><td style=\"text-align: right;\">      1</td><td style=\"text-align: right;\">                            16</td><td style=\"text-align: right;\">          0.338384</td><td style=\"text-align: right;\">               176</td></tr>\n<tr><td style=\"text-align: right;\">      2</td><td style=\"text-align: right;\">                            32</td><td style=\"text-align: right;\">          0.294192</td><td style=\"text-align: right;\">               124</td></tr>\n<tr><td style=\"text-align: right;\">      3</td><td style=\"text-align: right;\">                            64</td><td style=\"text-align: right;\">          0.291667</td><td style=\"text-align: right;\">                56</td></tr>\n<tr><td style=\"text-align: right;\">      4</td><td style=\"text-align: right;\">                           128</td><td style=\"text-align: right;\">          0.289141</td><td style=\"text-align: right;\">               119</td></tr>\n</tbody>\n</table>",
      "text/plain": "<IPython.core.display.HTML object>"
     },
     "metadata": {},
     "output_type": "display_data"
    }
   ],
   "source": [
    "headers = [\"Trial\", \"Number of Hidden Layer Nodes\", \"Testing Accuracy\", \"Number of Epochs\"]\n",
    "table = []\n",
    "table.append([0, vowelMLP0.hidden_layer_widths, vowelMLP0.score(X_test_vowel, y_test_vowel, False), vowelMLP0.ranEpochs])\n",
    "table.append([1, vowelMLP1.hidden_layer_widths, vowelMLP1.score(X_test_vowel, y_test_vowel, False), vowelMLP1.ranEpochs])\n",
    "table.append([2, vowelMLP2.hidden_layer_widths, vowelMLP2.score(X_test_vowel, y_test_vowel, False), vowelMLP2.ranEpochs])\n",
    "table.append([3, vowelMLP3.hidden_layer_widths, vowelMLP3.score(X_test_vowel, y_test_vowel, False), vowelMLP3.ranEpochs])\n",
    "table.append([4, vowelMLP4.hidden_layer_widths, vowelMLP4.score(X_test_vowel, y_test_vowel, False), vowelMLP4.ranEpochs])\n",
    "\n",
    "display(HTML(tabulate(table, headers = headers, tablefmt='html')))"
   ]
  },
  {
   "cell_type": "markdown",
   "metadata": {
    "id": "qmq9GSbJS8k2"
   },
   "source": [
    "*Discuss Hidden Layer Nodes here*<br>\n",
    "For the best number of Hidden Layers, I foudn that for the best MSE/ValMSE combination, that 4 Hidden layer nodes were the best. However when it came to testing accuracy, 16 was slightly better. I would say that 16 performed more accuractly because it ran for more epochs. However I would argue that it potentially began to overfit the data more than 4 hidden layers. This makes sense to me, because if the number of Hidden layer nodes greatly surpasses the number of outputs, that decreases the amount of information that each node represents, potentially leading to over abstraction / feature loss because they can't be split into small enough sizes. Also probably due to the lack of data size.\n",
    "\n"
   ]
  },
  {
   "cell_type": "markdown",
   "metadata": {
    "id": "SIRG42TgSR4x"
   },
   "source": [
    "## 3.3 (10%) Working with the Vowel Dataset - Momentum\n",
    "\n",
    "Try some different momentum terms using the best number of hidden nodes and LR from your earlier experiments.\n",
    "\n",
    "- Create a graph similar to step 3.2, but with momentum on the x-axis and number of epochs until validation set convergence on the y-axis.\n",
    "- For each momentum term, print the test set accuracy. \n",
    "- You are trying to see how much momentum speeds up learning and how it affects accuracy."
   ]
  },
  {
   "cell_type": "code",
   "execution_count": 17,
   "metadata": {},
   "outputs": [
    {
     "name": "stdout",
     "output_type": "stream",
     "text": [
      "lw:  16\n",
      "176\n",
      "lw:  16\n",
      "163\n",
      "lw:  16\n",
      "307\n",
      "lw:  16\n",
      "49\n",
      "lw:  16\n",
      "134\n"
     ]
    }
   ],
   "source": [
    "# --------------------- 0 ----------------------\n",
    "vowelMLP0 = MLP(lr=0.12, momentum=0.5, validationSize=15,shuffle=False, numEpochs=100, sensitivity=18, hidden_layer_widths=16) # use validation set as stopping criteria\n",
    "\n",
    "# Train on evaluation data\n",
    "vowelMLP0.set_numOutput(11)\n",
    "vowelMLP0.fit(X_train_vowel, y_train_vowel)\n",
    "print(vowelMLP0.ranEpochs)\n",
    "\n",
    "# --------------------- 1 ----------------------\n",
    "# Train on each dataset\n",
    "vowelMLP1 = MLP(lr=0.12, momentum=0.6, validationSize=15,shuffle=False, numEpochs=700, sensitivity=18, hidden_layer_widths=16) # use validation set as stopping criteria\n",
    "\n",
    "# Train on evaluation data\n",
    "vowelMLP1.set_numOutput(11)\n",
    "vowelMLP1.fit(X_train_vowel, y_train_vowel)\n",
    "print(vowelMLP1.ranEpochs)\n",
    "\n",
    "# --------------------- 2 ----------------------\n",
    "vowelMLP2 = MLP(lr=0.12, momentum=0.7, validationSize=15,shuffle=False, numEpochs=100, sensitivity=18, hidden_layer_widths=16) # use validation set as stopping criteria\n",
    "\n",
    "# Train on evaluation data\n",
    "vowelMLP2.set_numOutput(11)\n",
    "vowelMLP2.fit(X_train_vowel, y_train_vowel)\n",
    "print(vowelMLP2.ranEpochs)\n",
    "\n",
    "# --------------------- 3 ----------------------\n",
    "vowelMLP3 = MLP(lr=0.12, momentum=0.8, validationSize=15,shuffle=False, numEpochs=100, sensitivity=18, hidden_layer_widths=16) # use validation set as stopping criteria\n",
    "\n",
    "# Train on evaluation data\n",
    "vowelMLP3.set_numOutput(11)\n",
    "vowelMLP3.fit(X_train_vowel, y_train_vowel)\n",
    "print(vowelMLP3.ranEpochs)\n",
    "\n",
    "# --------------------- 4 ----------------------\n",
    "vowelMLP4 = MLP(lr=0.12, momentum=0.85, validationSize=15,shuffle=False, numEpochs=100, sensitivity=18, hidden_layer_widths=16) # use validation set as stopping criteria\n",
    "\n",
    "# Train on evaluation data\n",
    "vowelMLP4.set_numOutput(11)\n",
    "vowelMLP4.fit(X_train_vowel, y_train_vowel)\n",
    "print(vowelMLP4.ranEpochs)"
   ]
  },
  {
   "cell_type": "code",
   "execution_count": 18,
   "metadata": {},
   "outputs": [
    {
     "data": {
      "text/html": "<table>\n<thead>\n<tr><th style=\"text-align: right;\">  Trial</th><th style=\"text-align: right;\">  Momentum</th><th style=\"text-align: right;\">  Training Accuracy</th><th style=\"text-align: right;\">  Testing Accuracy</th><th style=\"text-align: right;\">  Number of Epochs</th></tr>\n</thead>\n<tbody>\n<tr><td style=\"text-align: right;\">      0</td><td style=\"text-align: right;\">      0.5 </td><td style=\"text-align: right;\">           0.338384</td><td style=\"text-align: right;\">          0.338384</td><td style=\"text-align: right;\">               176</td></tr>\n<tr><td style=\"text-align: right;\">      1</td><td style=\"text-align: right;\">      0.6 </td><td style=\"text-align: right;\">           0.340909</td><td style=\"text-align: right;\">          0.340909</td><td style=\"text-align: right;\">               163</td></tr>\n<tr><td style=\"text-align: right;\">      2</td><td style=\"text-align: right;\">      0.7 </td><td style=\"text-align: right;\">           0.263889</td><td style=\"text-align: right;\">          0.263889</td><td style=\"text-align: right;\">               307</td></tr>\n<tr><td style=\"text-align: right;\">      3</td><td style=\"text-align: right;\">      0.8 </td><td style=\"text-align: right;\">           0.277778</td><td style=\"text-align: right;\">          0.277778</td><td style=\"text-align: right;\">                49</td></tr>\n<tr><td style=\"text-align: right;\">      4</td><td style=\"text-align: right;\">      0.85</td><td style=\"text-align: right;\">           0.265152</td><td style=\"text-align: right;\">          0.265152</td><td style=\"text-align: right;\">               134</td></tr>\n</tbody>\n</table>",
      "text/plain": "<IPython.core.display.HTML object>"
     },
     "metadata": {},
     "output_type": "display_data"
    }
   ],
   "source": [
    "headers = [\"Trial\", \"Momentum\", \"Training Accuracy\", \"Testing Accuracy\", \"Number of Epochs\"]\n",
    "table = []\n",
    "table.append([0, vowelMLP0.momentum, vowelMLP0.score(X_train_vowel, y_train_vowel, False), vowelMLP0.score(X_test_vowel, y_test_vowel, False), vowelMLP0.ranEpochs])\n",
    "table.append([1, vowelMLP1.momentum, vowelMLP1.score(X_train_vowel, y_train_vowel, False), vowelMLP1.score(X_test_vowel, y_test_vowel, False), vowelMLP1.ranEpochs])\n",
    "table.append([2, vowelMLP2.momentum, vowelMLP2.score(X_train_vowel, y_train_vowel, False), vowelMLP2.score(X_test_vowel, y_test_vowel, False), vowelMLP2.ranEpochs])\n",
    "table.append([3, vowelMLP3.momentum, vowelMLP3.score(X_train_vowel, y_train_vowel, False), vowelMLP3.score(X_test_vowel, y_test_vowel, False), vowelMLP3.ranEpochs])\n",
    "table.append([4, vowelMLP4.momentum, vowelMLP4.score(X_train_vowel, y_train_vowel, False), vowelMLP4.score(X_test_vowel, y_test_vowel, False), vowelMLP4.ranEpochs])\n",
    "\n",
    "display(HTML(tabulate(table, headers = headers, tablefmt='html')))"
   ]
  },
  {
   "cell_type": "code",
   "execution_count": 19,
   "metadata": {},
   "outputs": [
    {
     "data": {
      "image/png": "[encoded data removed]",
      "text/plain": "<Figure size 432x288 with 1 Axes>"
     },
     "metadata": {
      "needs_background": "light"
     },
     "output_type": "display_data"
    }
   ],
   "source": [
    "def plot_valMSE3():\n",
    "    \"\"\"\n",
    "        Plots the average misclassification rate\n",
    "    Args:\n",
    "        avg_misclassification_rate (array-like): A 1D array or list\n",
    "    \"\"\"\n",
    "    plt.scatter(vowelMLP0.momentum, vowelMLP0.ranEpochs, label='MLP0')\n",
    "\n",
    "    plt.scatter(vowelMLP1.momentum, vowelMLP1.ranEpochs, label='MLP1')\n",
    "\n",
    "    plt.scatter(vowelMLP2.momentum, vowelMLP2.ranEpochs, label='MLP2')\n",
    "\n",
    "    plt.scatter(vowelMLP3.momentum, vowelMLP3.ranEpochs, label='MLP3')\n",
    "\n",
    "    plt.scatter(vowelMLP4.momentum, vowelMLP4.ranEpochs, label='MLP4')\n",
    "  \n",
    "    plt.title(\"Ran Epochs before Validation Convergence vs. Momentum\")\n",
    "    plt.xlabel(\"Momentum\")\n",
    "    plt.ylabel(\"Ran Epochs\")\n",
    "    plt.legend()\n",
    "    plt.show()\n",
    "plot_valMSE3()"
   ]
  },
  {
   "cell_type": "markdown",
   "metadata": {
    "id": "qmq9GSbJS8k2"
   },
   "source": [
    "*Discuss Momentum here*<br>\n",
    "It seems to me that the higher than momentum is, the less epochs get run before convergence. I think that this could be due to the fact that minimums could be skipped over because the momentum causes it to skip past them. There was obviously a case where the momentum was just right to get the model to continue training, but that is the importance of hyper-parameter searching. This would also have a correlation to accuracy, because the model might not be able to find those minimum's to optimize. So the model won't be as accurate as it could be.\n",
    "\n"
   ]
  },
  {
   "cell_type": "markdown",
   "metadata": {
    "id": "oBBmeNQ7jvcQ"
   },
   "source": [
    "## 4.1 (10%) Use the scikit-learn (SK) version of the MLP classifier on the Iris and Vowel data sets.  \n",
    "\n",
    "You do not need to go through all the steps above, nor graph results. Compare results (accuracy and learning speed) between your version and theirs for some selection of hyper-parameters. Try different hyper-parameters and comment on their effect.\n",
    "\n",
    "At a minimum, try\n",
    "\n",
    "- number of hidden nodes and layers\n",
    "- different activation functions\n",
    "- learning rate\n",
    "- regularization and parameters\n",
    "- momentum (and try nesterov)\n",
    "- early stopping"
   ]
  },
  {
   "cell_type": "code",
   "execution_count": 65,
   "metadata": {
    "id": "OFQv70W2VyqJ"
   },
   "outputs": [
    {
     "name": "stdout",
     "output_type": "stream",
     "text": [
      "0.9936868686868687\n",
      "0.9833333333333333\n"
     ]
    }
   ],
   "source": [
    "# Load sklearn perceptron\n",
    "\n",
    "clf = MLPClassifier(hidden_layer_sizes=101, learning_rate_init=0.05, shuffle=True, momentum=0.1, early_stopping=True, validation_fraction=0.15).fit(X_train_vowel, y_train_vowel)\n",
    "print(clf.score(X_test_vowel, y_test_vowel))\n",
    "\n",
    "clf2 = MLPClassifier(hidden_layer_sizes=76, learning_rate_init=0.1, shuffle=True, momentum=0.2, early_stopping=True, validation_fraction=0.15).fit(X_train, y_train)\n",
    "print(clf2.score(X_test, y_test))"
   ]
  },
  {
   "cell_type": "markdown",
   "metadata": {
    "id": "BqSFAXwlk3Ms"
   },
   "source": [
    "*Record impressions* <br>\n",
    "It seemed to me that to a certain point, adding in extra hidden layers would increase accuracy, but it would eventually end up converging and adding more layers would not improve performance very much. I also noticed the same behavior when decreasing learning rate. However, sometimes decreasing learning rate too much would cause worse performance. This was the same with momentum. The lower the value, the more accurate it seemed to perform."
   ]
  },
  {
   "cell_type": "markdown",
   "metadata": {
    "id": "oBBmeNQ7jvcQ"
   },
   "source": [
    "## 4.2 (5%) Using the Iris Dataset automatically adjust hyper-parameters using your choice of grid/random search\n",
    "- Use a grid or random search approach across a reasonable subset of hyper-parameters from the above \n",
    "- Report your best accuracy and hyper-parameters. "
   ]
  },
  {
   "cell_type": "code",
   "execution_count": 82,
   "metadata": {
    "id": "OFQv70W2VyqJ"
   },
   "outputs": [
    {
     "name": "stdout",
     "output_type": "stream",
     "text": [
      "0.9833333333333333\n",
      "0.9916666666666667\n",
      "0.925\n",
      "0.975\n",
      "0.9666666666666667\n"
     ]
    }
   ],
   "source": [
    "# Load sklearn perceptron\n",
    "clf11 = MLPClassifier(hidden_layer_sizes=45, learning_rate_init=0.05, shuffle=True, momentum=0.1, early_stopping=True, validation_fraction=0.15).fit(X_train, y_train)\n",
    "print(clf11.score(X_test, y_test))\n",
    "\n",
    "clf22 = MLPClassifier(hidden_layer_sizes=45, learning_rate_init=0.1, shuffle=True, momentum=0.1, early_stopping=True, validation_fraction=0.15).fit(X_train, y_train)\n",
    "print(clf22.score(X_test, y_test))\n",
    "\n",
    "clf33 = MLPClassifier(hidden_layer_sizes=45, learning_rate_init=0.15, shuffle=True, momentum=0.1, early_stopping=True, validation_fraction=0.15).fit(X_train, y_train)\n",
    "print(clf33.score(X_test, y_test))\n",
    "\n",
    "clf44 = MLPClassifier(hidden_layer_sizes=45, learning_rate_init=0.2, shuffle=True, momentum=0.1, early_stopping=True, validation_fraction=0.15).fit(X_train, y_train)\n",
    "print(clf44.score(X_test, y_test))\n",
    "\n",
    "clf55 = MLPClassifier(hidden_layer_sizes=45, learning_rate_init=0.25, shuffle=True, momentum=0.1, early_stopping=True, validation_fraction=0.15).fit(X_train, y_train)\n",
    "print(clf55.score(X_test, y_test))\n"
   ]
  },
  {
   "cell_type": "markdown",
   "metadata": {},
   "source": [
    "It seemed to me, after checking hidden layer size, finding the best one, learning rate, and finding the best one, as well as doing the same process with moment, that hidden layer size=45 learning rate=0.1 and momentum=0.1 were some of the best hyper parameters to use. I used a grid style search, but comparing increments of each model to itself and finding which has the best accuracy"
   ]
  },
  {
   "cell_type": "markdown",
   "metadata": {
    "id": "cTlK-kijk8Mg"
   },
   "source": [
    "## 5. (Optional 5% Extra credit) For the vowel data set, use the other hyper-parameter approach that you did not use in part 4.2 to find LR, # of hidden nodes, and momentum.  \n",
    "\n",
    "- Compare and discuss the values found with the ones you found in part 3.\n"
   ]
  },
  {
   "cell_type": "code",
   "execution_count": 178,
   "metadata": {},
   "outputs": [
    {
     "name": "stdout",
     "output_type": "stream",
     "text": [
      "0.9936868686868687\n"
     ]
    }
   ],
   "source": [
    "clf111 = MLPClassifier(hidden_layer_sizes=500, learning_rate_init=0.005, shuffle=True, momentum=0.2, early_stopping=True, validation_fraction=0.10).fit(X_train_vowel, y_train_vowel)\n",
    "print(clf111.score(X_test_vowel, y_test_vowel))"
   ]
  },
  {
   "cell_type": "markdown",
   "metadata": {
    "id": "BqSFAXwlk3Ms"
   },
   "source": [
    "*Discuss findings here* <br>\n",
    "I did a random search for this one. I randomly changed the values around until I was able to get the highest possible accuracy. This was accuracy was 99.4. It seemed that the more fine tuning I did to the validation set size helped with the consistency of accuracy scored more than I had assumed that it would have!"
   ]
  }
 ],
 "metadata": {
  "colab": {
   "collapsed_sections": [],
   "name": "lab 1 - perceptron",
   "provenance": []
  },
  "kernelspec": {
   "display_name": "Python 3.8.2 64-bit",
   "name": "python382jvsc74a57bd031f2aee4e71d21fbe5cf8b01ff0e069b9275f58929596ceb00d14d90e3e16cd6"
  },
  "language_info": {
   "codemirror_mode": {
    "name": "ipython",
    "version": 3
   },
   "file_extension": ".py",
   "mimetype": "text/x-python",
   "name": "python",
   "nbconvert_exporter": "python",
   "pygments_lexer": "ipython3",
   "version": "3.8.2"
  },
  "metadata": {
   "interpreter": {
    "hash": "31f2aee4e71d21fbe5cf8b01ff0e069b9275f58929596ceb00d14d90e3e16cd6"
   }
  }
 },
 "nbformat": 4,
 "nbformat_minor": 4
}